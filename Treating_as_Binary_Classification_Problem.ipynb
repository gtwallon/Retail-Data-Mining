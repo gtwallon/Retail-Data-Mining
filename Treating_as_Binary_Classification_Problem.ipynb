{
  "nbformat": 4,
  "nbformat_minor": 0,
  "metadata": {
    "colab": {
      "provenance": []
    },
    "kernelspec": {
      "name": "python3",
      "display_name": "Python 3"
    },
    "language_info": {
      "name": "python"
    }
  },
  "cells": [
    {
      "cell_type": "code",
      "execution_count": null,
      "metadata": {
        "id": "PpSh9wZRiK8L"
      },
      "outputs": [],
      "source": [
        "import pandas as pd\n",
        "import numpy as np\n",
        "from sklearn.model_selection import train_test_split\n",
        "from sklearn.linear_model import LinearRegression\n",
        "from sklearn.metrics import mean_squared_error\n",
        "from sklearn.preprocessing import StandardScaler, OneHotEncoder\n",
        "from sklearn.impute import SimpleImputer\n",
        "from sklearn.pipeline import Pipeline\n",
        "from sklearn.compose import ColumnTransformer\n",
        "import pandas as pd\n",
        "from sklearn.model_selection import train_test_split\n",
        "from sklearn.linear_model import LogisticRegression\n",
        "from sklearn.metrics import classification_report\n",
        "from sklearn.impute import SimpleImputer\n",
        "import numpy as np"
      ]
    },
    {
      "cell_type": "code",
      "source": [
        "df = pd.read_csv('orders_train.txt', sep=';')\n",
        "print('Number of records between {} to {}: {}'.format(df['orderDate'].iloc[0], df['orderDate'].iloc[-1], len(df)))\n",
        "print('Number of attributes corresponding to a single record {}:'.format(df.shape[1]-1))\n",
        "df.head()"
      ],
      "metadata": {
        "colab": {
          "base_uri": "https://localhost:8080/",
          "height": 241
        },
        "id": "XKhFMuzoiU02",
        "outputId": "87ad0161-84ce-4f90-c487-68d58c515768"
      },
      "execution_count": null,
      "outputs": [
        {
          "output_type": "stream",
          "name": "stdout",
          "text": [
            "Number of records between 2014-01-01 to 2015-09-30: 2325165\n",
            "Number of attributes corresponding to a single record 14:\n"
          ]
        },
        {
          "output_type": "execute_result",
          "data": {
            "text/plain": [
              "    orderID   orderDate articleID  colorCode sizeCode  productGroup  quantity  \\\n",
              "0  a1000001  2014-01-01  i1000382       1972       44           3.0         1   \n",
              "1  a1000001  2014-01-01  i1000550       3854       44           3.0         1   \n",
              "2  a1000002  2014-01-01  i1001991       2974       38           8.0         1   \n",
              "3  a1000002  2014-01-01  i1001999       1992       38           8.0         1   \n",
              "4  a1000003  2014-01-01  i1001942       1968       42           8.0         1   \n",
              "\n",
              "   price    rrp voucherID  voucherAmount customerID  deviceID paymentMethod  \\\n",
              "0  10.00  29.99         0            0.0   c1010575         2          BPRG   \n",
              "1  20.00  39.99         0            0.0   c1010575         2          BPRG   \n",
              "2  35.00  49.99         0            0.0   c1045905         4          BPRG   \n",
              "3  49.99  49.99         0            0.0   c1045905         4          BPRG   \n",
              "4  10.00  35.99         0            0.0   c1089295         2      PAYPALVC   \n",
              "\n",
              "   returnQuantity  \n",
              "0               0  \n",
              "1               0  \n",
              "2               0  \n",
              "3               1  \n",
              "4               0  "
            ],
            "text/html": [
              "\n",
              "  <div id=\"df-e54fb136-4aef-4531-afaa-aa74df9ed3d4\" class=\"colab-df-container\">\n",
              "    <div>\n",
              "<style scoped>\n",
              "    .dataframe tbody tr th:only-of-type {\n",
              "        vertical-align: middle;\n",
              "    }\n",
              "\n",
              "    .dataframe tbody tr th {\n",
              "        vertical-align: top;\n",
              "    }\n",
              "\n",
              "    .dataframe thead th {\n",
              "        text-align: right;\n",
              "    }\n",
              "</style>\n",
              "<table border=\"1\" class=\"dataframe\">\n",
              "  <thead>\n",
              "    <tr style=\"text-align: right;\">\n",
              "      <th></th>\n",
              "      <th>orderID</th>\n",
              "      <th>orderDate</th>\n",
              "      <th>articleID</th>\n",
              "      <th>colorCode</th>\n",
              "      <th>sizeCode</th>\n",
              "      <th>productGroup</th>\n",
              "      <th>quantity</th>\n",
              "      <th>price</th>\n",
              "      <th>rrp</th>\n",
              "      <th>voucherID</th>\n",
              "      <th>voucherAmount</th>\n",
              "      <th>customerID</th>\n",
              "      <th>deviceID</th>\n",
              "      <th>paymentMethod</th>\n",
              "      <th>returnQuantity</th>\n",
              "    </tr>\n",
              "  </thead>\n",
              "  <tbody>\n",
              "    <tr>\n",
              "      <th>0</th>\n",
              "      <td>a1000001</td>\n",
              "      <td>2014-01-01</td>\n",
              "      <td>i1000382</td>\n",
              "      <td>1972</td>\n",
              "      <td>44</td>\n",
              "      <td>3.0</td>\n",
              "      <td>1</td>\n",
              "      <td>10.00</td>\n",
              "      <td>29.99</td>\n",
              "      <td>0</td>\n",
              "      <td>0.0</td>\n",
              "      <td>c1010575</td>\n",
              "      <td>2</td>\n",
              "      <td>BPRG</td>\n",
              "      <td>0</td>\n",
              "    </tr>\n",
              "    <tr>\n",
              "      <th>1</th>\n",
              "      <td>a1000001</td>\n",
              "      <td>2014-01-01</td>\n",
              "      <td>i1000550</td>\n",
              "      <td>3854</td>\n",
              "      <td>44</td>\n",
              "      <td>3.0</td>\n",
              "      <td>1</td>\n",
              "      <td>20.00</td>\n",
              "      <td>39.99</td>\n",
              "      <td>0</td>\n",
              "      <td>0.0</td>\n",
              "      <td>c1010575</td>\n",
              "      <td>2</td>\n",
              "      <td>BPRG</td>\n",
              "      <td>0</td>\n",
              "    </tr>\n",
              "    <tr>\n",
              "      <th>2</th>\n",
              "      <td>a1000002</td>\n",
              "      <td>2014-01-01</td>\n",
              "      <td>i1001991</td>\n",
              "      <td>2974</td>\n",
              "      <td>38</td>\n",
              "      <td>8.0</td>\n",
              "      <td>1</td>\n",
              "      <td>35.00</td>\n",
              "      <td>49.99</td>\n",
              "      <td>0</td>\n",
              "      <td>0.0</td>\n",
              "      <td>c1045905</td>\n",
              "      <td>4</td>\n",
              "      <td>BPRG</td>\n",
              "      <td>0</td>\n",
              "    </tr>\n",
              "    <tr>\n",
              "      <th>3</th>\n",
              "      <td>a1000002</td>\n",
              "      <td>2014-01-01</td>\n",
              "      <td>i1001999</td>\n",
              "      <td>1992</td>\n",
              "      <td>38</td>\n",
              "      <td>8.0</td>\n",
              "      <td>1</td>\n",
              "      <td>49.99</td>\n",
              "      <td>49.99</td>\n",
              "      <td>0</td>\n",
              "      <td>0.0</td>\n",
              "      <td>c1045905</td>\n",
              "      <td>4</td>\n",
              "      <td>BPRG</td>\n",
              "      <td>1</td>\n",
              "    </tr>\n",
              "    <tr>\n",
              "      <th>4</th>\n",
              "      <td>a1000003</td>\n",
              "      <td>2014-01-01</td>\n",
              "      <td>i1001942</td>\n",
              "      <td>1968</td>\n",
              "      <td>42</td>\n",
              "      <td>8.0</td>\n",
              "      <td>1</td>\n",
              "      <td>10.00</td>\n",
              "      <td>35.99</td>\n",
              "      <td>0</td>\n",
              "      <td>0.0</td>\n",
              "      <td>c1089295</td>\n",
              "      <td>2</td>\n",
              "      <td>PAYPALVC</td>\n",
              "      <td>0</td>\n",
              "    </tr>\n",
              "  </tbody>\n",
              "</table>\n",
              "</div>\n",
              "    <div class=\"colab-df-buttons\">\n",
              "\n",
              "  <div class=\"colab-df-container\">\n",
              "    <button class=\"colab-df-convert\" onclick=\"convertToInteractive('df-e54fb136-4aef-4531-afaa-aa74df9ed3d4')\"\n",
              "            title=\"Convert this dataframe to an interactive table.\"\n",
              "            style=\"display:none;\">\n",
              "\n",
              "  <svg xmlns=\"http://www.w3.org/2000/svg\" height=\"24px\" viewBox=\"0 -960 960 960\">\n",
              "    <path d=\"M120-120v-720h720v720H120Zm60-500h600v-160H180v160Zm220 220h160v-160H400v160Zm0 220h160v-160H400v160ZM180-400h160v-160H180v160Zm440 0h160v-160H620v160ZM180-180h160v-160H180v160Zm440 0h160v-160H620v160Z\"/>\n",
              "  </svg>\n",
              "    </button>\n",
              "\n",
              "  <style>\n",
              "    .colab-df-container {\n",
              "      display:flex;\n",
              "      gap: 12px;\n",
              "    }\n",
              "\n",
              "    .colab-df-convert {\n",
              "      background-color: #E8F0FE;\n",
              "      border: none;\n",
              "      border-radius: 50%;\n",
              "      cursor: pointer;\n",
              "      display: none;\n",
              "      fill: #1967D2;\n",
              "      height: 32px;\n",
              "      padding: 0 0 0 0;\n",
              "      width: 32px;\n",
              "    }\n",
              "\n",
              "    .colab-df-convert:hover {\n",
              "      background-color: #E2EBFA;\n",
              "      box-shadow: 0px 1px 2px rgba(60, 64, 67, 0.3), 0px 1px 3px 1px rgba(60, 64, 67, 0.15);\n",
              "      fill: #174EA6;\n",
              "    }\n",
              "\n",
              "    .colab-df-buttons div {\n",
              "      margin-bottom: 4px;\n",
              "    }\n",
              "\n",
              "    [theme=dark] .colab-df-convert {\n",
              "      background-color: #3B4455;\n",
              "      fill: #D2E3FC;\n",
              "    }\n",
              "\n",
              "    [theme=dark] .colab-df-convert:hover {\n",
              "      background-color: #434B5C;\n",
              "      box-shadow: 0px 1px 3px 1px rgba(0, 0, 0, 0.15);\n",
              "      filter: drop-shadow(0px 1px 2px rgba(0, 0, 0, 0.3));\n",
              "      fill: #FFFFFF;\n",
              "    }\n",
              "  </style>\n",
              "\n",
              "    <script>\n",
              "      const buttonEl =\n",
              "        document.querySelector('#df-e54fb136-4aef-4531-afaa-aa74df9ed3d4 button.colab-df-convert');\n",
              "      buttonEl.style.display =\n",
              "        google.colab.kernel.accessAllowed ? 'block' : 'none';\n",
              "\n",
              "      async function convertToInteractive(key) {\n",
              "        const element = document.querySelector('#df-e54fb136-4aef-4531-afaa-aa74df9ed3d4');\n",
              "        const dataTable =\n",
              "          await google.colab.kernel.invokeFunction('convertToInteractive',\n",
              "                                                    [key], {});\n",
              "        if (!dataTable) return;\n",
              "\n",
              "        const docLinkHtml = 'Like what you see? Visit the ' +\n",
              "          '<a target=\"_blank\" href=https://colab.research.google.com/notebooks/data_table.ipynb>data table notebook</a>'\n",
              "          + ' to learn more about interactive tables.';\n",
              "        element.innerHTML = '';\n",
              "        dataTable['output_type'] = 'display_data';\n",
              "        await google.colab.output.renderOutput(dataTable, element);\n",
              "        const docLink = document.createElement('div');\n",
              "        docLink.innerHTML = docLinkHtml;\n",
              "        element.appendChild(docLink);\n",
              "      }\n",
              "    </script>\n",
              "  </div>\n",
              "\n",
              "\n",
              "<div id=\"df-37db391d-84ad-4459-ba5c-0b339d878864\">\n",
              "  <button class=\"colab-df-quickchart\" onclick=\"quickchart('df-37db391d-84ad-4459-ba5c-0b339d878864')\"\n",
              "            title=\"Suggest charts\"\n",
              "            style=\"display:none;\">\n",
              "\n",
              "<svg xmlns=\"http://www.w3.org/2000/svg\" height=\"24px\"viewBox=\"0 0 24 24\"\n",
              "     width=\"24px\">\n",
              "    <g>\n",
              "        <path d=\"M19 3H5c-1.1 0-2 .9-2 2v14c0 1.1.9 2 2 2h14c1.1 0 2-.9 2-2V5c0-1.1-.9-2-2-2zM9 17H7v-7h2v7zm4 0h-2V7h2v10zm4 0h-2v-4h2v4z\"/>\n",
              "    </g>\n",
              "</svg>\n",
              "  </button>\n",
              "\n",
              "<style>\n",
              "  .colab-df-quickchart {\n",
              "      --bg-color: #E8F0FE;\n",
              "      --fill-color: #1967D2;\n",
              "      --hover-bg-color: #E2EBFA;\n",
              "      --hover-fill-color: #174EA6;\n",
              "      --disabled-fill-color: #AAA;\n",
              "      --disabled-bg-color: #DDD;\n",
              "  }\n",
              "\n",
              "  [theme=dark] .colab-df-quickchart {\n",
              "      --bg-color: #3B4455;\n",
              "      --fill-color: #D2E3FC;\n",
              "      --hover-bg-color: #434B5C;\n",
              "      --hover-fill-color: #FFFFFF;\n",
              "      --disabled-bg-color: #3B4455;\n",
              "      --disabled-fill-color: #666;\n",
              "  }\n",
              "\n",
              "  .colab-df-quickchart {\n",
              "    background-color: var(--bg-color);\n",
              "    border: none;\n",
              "    border-radius: 50%;\n",
              "    cursor: pointer;\n",
              "    display: none;\n",
              "    fill: var(--fill-color);\n",
              "    height: 32px;\n",
              "    padding: 0;\n",
              "    width: 32px;\n",
              "  }\n",
              "\n",
              "  .colab-df-quickchart:hover {\n",
              "    background-color: var(--hover-bg-color);\n",
              "    box-shadow: 0 1px 2px rgba(60, 64, 67, 0.3), 0 1px 3px 1px rgba(60, 64, 67, 0.15);\n",
              "    fill: var(--button-hover-fill-color);\n",
              "  }\n",
              "\n",
              "  .colab-df-quickchart-complete:disabled,\n",
              "  .colab-df-quickchart-complete:disabled:hover {\n",
              "    background-color: var(--disabled-bg-color);\n",
              "    fill: var(--disabled-fill-color);\n",
              "    box-shadow: none;\n",
              "  }\n",
              "\n",
              "  .colab-df-spinner {\n",
              "    border: 2px solid var(--fill-color);\n",
              "    border-color: transparent;\n",
              "    border-bottom-color: var(--fill-color);\n",
              "    animation:\n",
              "      spin 1s steps(1) infinite;\n",
              "  }\n",
              "\n",
              "  @keyframes spin {\n",
              "    0% {\n",
              "      border-color: transparent;\n",
              "      border-bottom-color: var(--fill-color);\n",
              "      border-left-color: var(--fill-color);\n",
              "    }\n",
              "    20% {\n",
              "      border-color: transparent;\n",
              "      border-left-color: var(--fill-color);\n",
              "      border-top-color: var(--fill-color);\n",
              "    }\n",
              "    30% {\n",
              "      border-color: transparent;\n",
              "      border-left-color: var(--fill-color);\n",
              "      border-top-color: var(--fill-color);\n",
              "      border-right-color: var(--fill-color);\n",
              "    }\n",
              "    40% {\n",
              "      border-color: transparent;\n",
              "      border-right-color: var(--fill-color);\n",
              "      border-top-color: var(--fill-color);\n",
              "    }\n",
              "    60% {\n",
              "      border-color: transparent;\n",
              "      border-right-color: var(--fill-color);\n",
              "    }\n",
              "    80% {\n",
              "      border-color: transparent;\n",
              "      border-right-color: var(--fill-color);\n",
              "      border-bottom-color: var(--fill-color);\n",
              "    }\n",
              "    90% {\n",
              "      border-color: transparent;\n",
              "      border-bottom-color: var(--fill-color);\n",
              "    }\n",
              "  }\n",
              "</style>\n",
              "\n",
              "  <script>\n",
              "    async function quickchart(key) {\n",
              "      const quickchartButtonEl =\n",
              "        document.querySelector('#' + key + ' button');\n",
              "      quickchartButtonEl.disabled = true;  // To prevent multiple clicks.\n",
              "      quickchartButtonEl.classList.add('colab-df-spinner');\n",
              "      try {\n",
              "        const charts = await google.colab.kernel.invokeFunction(\n",
              "            'suggestCharts', [key], {});\n",
              "      } catch (error) {\n",
              "        console.error('Error during call to suggestCharts:', error);\n",
              "      }\n",
              "      quickchartButtonEl.classList.remove('colab-df-spinner');\n",
              "      quickchartButtonEl.classList.add('colab-df-quickchart-complete');\n",
              "    }\n",
              "    (() => {\n",
              "      let quickchartButtonEl =\n",
              "        document.querySelector('#df-37db391d-84ad-4459-ba5c-0b339d878864 button');\n",
              "      quickchartButtonEl.style.display =\n",
              "        google.colab.kernel.accessAllowed ? 'block' : 'none';\n",
              "    })();\n",
              "  </script>\n",
              "</div>\n",
              "    </div>\n",
              "  </div>\n"
            ],
            "application/vnd.google.colaboratory.intrinsic+json": {
              "type": "dataframe",
              "variable_name": "df"
            }
          },
          "metadata": {},
          "execution_count": 36
        }
      ]
    },
    {
      "cell_type": "code",
      "source": [
        "#check NA values\n",
        "print(df.isna().sum())\n",
        "#drop d values since not a significant number of records contain NA\n",
        "df = df.dropna()\n",
        "\n",
        "## inconsistent records\n",
        "drop_idx = df[(df['quantity']==0) |  (df['price']==0) | (df['quantity']<df['returnQuantity']) ].index\n",
        "df = df.drop(drop_idx)\n",
        "df.shape\n"
      ],
      "metadata": {
        "colab": {
          "base_uri": "https://localhost:8080/"
        },
        "id": "CL6aeOoNiU3Z",
        "outputId": "b5c6444e-399f-4aeb-b949-de54d20393cf"
      },
      "execution_count": null,
      "outputs": [
        {
          "output_type": "stream",
          "name": "stdout",
          "text": [
            "orderID             0\n",
            "orderDate           0\n",
            "articleID           0\n",
            "colorCode           0\n",
            "sizeCode            0\n",
            "productGroup      351\n",
            "quantity            0\n",
            "price               0\n",
            "rrp               351\n",
            "voucherID           6\n",
            "voucherAmount       0\n",
            "customerID          0\n",
            "deviceID            0\n",
            "paymentMethod       0\n",
            "returnQuantity      0\n",
            "dtype: int64\n"
          ]
        },
        {
          "output_type": "execute_result",
          "data": {
            "text/plain": [
              "(2277968, 15)"
            ]
          },
          "metadata": {},
          "execution_count": 37
        }
      ]
    },
    {
      "cell_type": "code",
      "source": [
        "zero_returns_count = (df['returnQuantity'] == 0).sum()\n",
        "\n",
        "print(\"Number of instances with estimated return count of 0:\", zero_returns_count)"
      ],
      "metadata": {
        "colab": {
          "base_uri": "https://localhost:8080/"
        },
        "id": "WlXvhef7qV12",
        "outputId": "0ca35850-5822-44f2-8904-e899ec9dfecc"
      },
      "execution_count": null,
      "outputs": [
        {
          "output_type": "stream",
          "name": "stdout",
          "text": [
            "Number of instances with estimated return count of 0: 1071570\n"
          ]
        }
      ]
    },
    {
      "cell_type": "code",
      "source": [
        "# Aggregating total quantity per order\n",
        "df['total_quantity_per_order'] = df.groupby('orderID')['quantity'].transform('sum')\n",
        "\n",
        "# Mean recommended retail price per article\n",
        "df['mean_rrp_per_article'] = df.groupby('articleID')['rrp'].transform('mean')\n",
        "\n",
        "# Total number of orders per customer\n",
        "df['total_orders_per_customer'] = df.groupby('customerID')['orderID'].transform('nunique')\n",
        "\n",
        "\n",
        "# Decompose colorCode into individual digits (assuming all colorCodes are four digits)\n",
        "df['colorCode_1'] = df['colorCode'].apply(lambda x: int(str(x)[0]))\n",
        "df['colorCode_2'] = df['colorCode'].apply(lambda x: int(str(x)[1]))\n",
        "df['colorCode_3'] = df['colorCode'].apply(lambda x: int(str(x)[2]))\n",
        "df['colorCode_4'] = df['colorCode'].apply(lambda x: int(str(x)[3]))\n",
        "\n",
        "# Customer likelihood of returning items\n",
        "df['likelihood_of_returning'] = df.groupby('customerID')['returnQuantity'].transform('sum') / df.groupby('customerID')['quantity'].transform('sum')\n",
        "\n",
        "# Price level categorization based on rrp\n",
        "bins = [0, 20, 50, 100, float('inf')]  # Define bins for price levels\n",
        "labels = ['cheap', 'regular', 'expensive', 'luxury']\n",
        "df['price_level'] = pd.cut(df['rrp'], bins=bins, labels=labels, include_lowest=True)\n"
      ],
      "metadata": {
        "id": "G1OYZIZHiU6E"
      },
      "execution_count": null,
      "outputs": []
    },
    {
      "cell_type": "code",
      "source": [
        "df[['productGroup', 'deviceID']] = df[['productGroup', 'deviceID']].astype(str)\n",
        "df['price_level'] = df['price_level'].astype(str)"
      ],
      "metadata": {
        "id": "e-apbx-siU8u"
      },
      "execution_count": null,
      "outputs": []
    },
    {
      "cell_type": "code",
      "source": [
        "# Define columns for one-hot encoding\n",
        "OHE_feats = ['productGroup', 'deviceID', 'paymentMethod','price_level']\n",
        "\n",
        "# Perform one-hot encoding\n",
        "encoder = OneHotEncoder(sparse=False, drop='first')\n",
        "encoded_features = encoder.fit_transform(df[OHE_feats])\n",
        "\n",
        "# Create DataFrame with one-hot encoded features\n",
        "df_OHE = pd.DataFrame(encoded_features, columns=encoder.get_feature_names_out(OHE_feats))\n",
        "\n",
        "# Reset indices of the original data and df_OHE to ensure they are aligned\n",
        "df.reset_index(drop=True, inplace=True)\n",
        "df_OHE.reset_index(drop=True, inplace=True)\n",
        "\n",
        "# Drop the original categorical columns from 'data'\n",
        "df.drop(columns=OHE_feats, inplace=True)\n",
        "\n",
        "# Concatenate the one-hot encoded DataFrame columns to the original DataFrame\n",
        "data = pd.concat([df, df_OHE], axis=1)"
      ],
      "metadata": {
        "colab": {
          "base_uri": "https://localhost:8080/"
        },
        "id": "TeYulVOOiU_X",
        "outputId": "8748ccb1-cf93-42aa-ab4b-42a67969d939"
      },
      "execution_count": null,
      "outputs": [
        {
          "output_type": "stream",
          "name": "stderr",
          "text": [
            "/usr/local/lib/python3.10/dist-packages/sklearn/preprocessing/_encoders.py:868: FutureWarning: `sparse` was renamed to `sparse_output` in version 1.2 and will be removed in 1.4. `sparse_output` is ignored unless you leave `sparse` to its default value.\n",
            "  warnings.warn(\n"
          ]
        }
      ]
    },
    {
      "cell_type": "code",
      "source": [
        "from sklearn.preprocessing import LabelEncoder\n",
        "\n",
        "# Initialize LabelEncoder\n",
        "label_encoder = LabelEncoder()\n",
        "\n",
        "# Fit label encoder and transform 'sizeCode' column\n",
        "data['sizeCode'] = label_encoder.fit_transform(data['sizeCode'])\n",
        "\n",
        "# Check the mapping of original categories to encoded labels\n",
        "print(\"Mapping of original categories to encoded labels:\")\n",
        "for original_category, encoded_label in zip(label_encoder.classes_, label_encoder.transform(label_encoder.classes_)):\n",
        "    print(f\"{original_category} -> {encoded_label}\")\n",
        "\n",
        "# Print the encoded 'sizeCode' column\n",
        "print(\"\\nEncoded 'sizeCode' column:\")\n",
        "print(data['sizeCode'])"
      ],
      "metadata": {
        "colab": {
          "base_uri": "https://localhost:8080/"
        },
        "id": "n6JNab78iVB_",
        "outputId": "763c4017-69e2-4b33-b75f-84ec38c7423c"
      },
      "execution_count": null,
      "outputs": [
        {
          "output_type": "stream",
          "name": "stdout",
          "text": [
            "Mapping of original categories to encoded labels:\n",
            "100 -> 0\n",
            "24 -> 1\n",
            "25 -> 2\n",
            "26 -> 3\n",
            "27 -> 4\n",
            "28 -> 5\n",
            "29 -> 6\n",
            "30 -> 7\n",
            "31 -> 8\n",
            "32 -> 9\n",
            "33 -> 10\n",
            "34 -> 11\n",
            "36 -> 12\n",
            "38 -> 13\n",
            "40 -> 14\n",
            "42 -> 15\n",
            "44 -> 16\n",
            "75 -> 17\n",
            "80 -> 18\n",
            "85 -> 19\n",
            "90 -> 20\n",
            "95 -> 21\n",
            "A -> 22\n",
            "I -> 23\n",
            "L -> 24\n",
            "M -> 25\n",
            "S -> 26\n",
            "XL -> 27\n",
            "XS -> 28\n",
            "\n",
            "Encoded 'sizeCode' column:\n",
            "0          16\n",
            "1          16\n",
            "2          13\n",
            "3          13\n",
            "4          15\n",
            "           ..\n",
            "2277963    14\n",
            "2277964    15\n",
            "2277965    13\n",
            "2277966    13\n",
            "2277967    13\n",
            "Name: sizeCode, Length: 2277968, dtype: int64\n"
          ]
        }
      ]
    },
    {
      "cell_type": "code",
      "source": [
        "final = data.drop(columns={'orderID', 'voucherID', 'orderDate', 'customerID', 'price', 'articleID', 'colorCode'})\n",
        "final.info()"
      ],
      "metadata": {
        "colab": {
          "base_uri": "https://localhost:8080/"
        },
        "id": "bVsHNn1LiVE2",
        "outputId": "ca2ee52b-6980-4f2a-d5c7-a2a50e3f0ec4"
      },
      "execution_count": null,
      "outputs": [
        {
          "output_type": "stream",
          "name": "stdout",
          "text": [
            "<class 'pandas.core.frame.DataFrame'>\n",
            "RangeIndex: 2277968 entries, 0 to 2277967\n",
            "Data columns (total 43 columns):\n",
            " #   Column                     Dtype  \n",
            "---  ------                     -----  \n",
            " 0   sizeCode                   int64  \n",
            " 1   quantity                   int64  \n",
            " 2   rrp                        float64\n",
            " 3   voucherAmount              float64\n",
            " 4   returnQuantity             int64  \n",
            " 5   total_quantity_per_order   int64  \n",
            " 6   mean_rrp_per_article       float64\n",
            " 7   total_orders_per_customer  int64  \n",
            " 8   colorCode_1                int64  \n",
            " 9   colorCode_2                int64  \n",
            " 10  colorCode_3                int64  \n",
            " 11  colorCode_4                int64  \n",
            " 12  likelihood_of_returning    float64\n",
            " 13  productGroup_13.0          float64\n",
            " 14  productGroup_14.0          float64\n",
            " 15  productGroup_15.0          float64\n",
            " 16  productGroup_17.0          float64\n",
            " 17  productGroup_2.0           float64\n",
            " 18  productGroup_26.0          float64\n",
            " 19  productGroup_3.0           float64\n",
            " 20  productGroup_4.0           float64\n",
            " 21  productGroup_5.0           float64\n",
            " 22  productGroup_50.0          float64\n",
            " 23  productGroup_6.0           float64\n",
            " 24  productGroup_7.0           float64\n",
            " 25  productGroup_8.0           float64\n",
            " 26  productGroup_9.0           float64\n",
            " 27  deviceID_2                 float64\n",
            " 28  deviceID_3                 float64\n",
            " 29  deviceID_4                 float64\n",
            " 30  deviceID_5                 float64\n",
            " 31  paymentMethod_BPPL         float64\n",
            " 32  paymentMethod_BPRG         float64\n",
            " 33  paymentMethod_CBA          float64\n",
            " 34  paymentMethod_KGRG         float64\n",
            " 35  paymentMethod_KKE          float64\n",
            " 36  paymentMethod_NN           float64\n",
            " 37  paymentMethod_PAYPALVC     float64\n",
            " 38  paymentMethod_RG           float64\n",
            " 39  paymentMethod_VORAUS       float64\n",
            " 40  price_level_expensive      float64\n",
            " 41  price_level_luxury         float64\n",
            " 42  price_level_regular        float64\n",
            "dtypes: float64(34), int64(9)\n",
            "memory usage: 747.3 MB\n"
          ]
        }
      ]
    },
    {
      "cell_type": "code",
      "source": [
        "final['returnLabel'] = (final['returnQuantity'] > 0).astype(int)"
      ],
      "metadata": {
        "id": "GvX9DnLGi0bu"
      },
      "execution_count": null,
      "outputs": []
    },
    {
      "cell_type": "code",
      "source": [],
      "metadata": {
        "id": "cWhtsqF_i0d9"
      },
      "execution_count": null,
      "outputs": []
    },
    {
      "cell_type": "code",
      "source": [
        "y = final.pop('returnLabel')\n",
        "final.pop('returnQuantity')\n",
        "X = final\n",
        "\n",
        "X_train, X_test, y_train,  y_test = train_test_split(X, y, test_size = 0.25, random_state = 00000)\n",
        "print( f\"shape of X_train, y_train, X_test, y_test: {X_train.shape}, {y_train.shape},{X_test.shape},{y_test.shape}\")"
      ],
      "metadata": {
        "colab": {
          "base_uri": "https://localhost:8080/"
        },
        "id": "ZPT7h1QkiVHf",
        "outputId": "d05162d9-7e68-42f8-96c8-af18af73c43f"
      },
      "execution_count": null,
      "outputs": [
        {
          "output_type": "stream",
          "name": "stdout",
          "text": [
            "shape of X_train, y_train, X_test, y_test: (1708476, 42), (1708476,),(569492, 42),(569492,)\n"
          ]
        }
      ]
    },
    {
      "cell_type": "code",
      "source": [
        "final.columns"
      ],
      "metadata": {
        "colab": {
          "base_uri": "https://localhost:8080/"
        },
        "id": "RWqpPYZumDvJ",
        "outputId": "b25e4f0e-121c-4b0f-cb69-099520466694"
      },
      "execution_count": null,
      "outputs": [
        {
          "output_type": "execute_result",
          "data": {
            "text/plain": [
              "Index(['sizeCode', 'quantity', 'rrp', 'voucherAmount',\n",
              "       'total_quantity_per_order', 'mean_rrp_per_article',\n",
              "       'total_orders_per_customer', 'colorCode_1', 'colorCode_2',\n",
              "       'colorCode_3', 'colorCode_4', 'likelihood_of_returning',\n",
              "       'productGroup_13.0', 'productGroup_14.0', 'productGroup_15.0',\n",
              "       'productGroup_17.0', 'productGroup_2.0', 'productGroup_26.0',\n",
              "       'productGroup_3.0', 'productGroup_4.0', 'productGroup_5.0',\n",
              "       'productGroup_50.0', 'productGroup_6.0', 'productGroup_7.0',\n",
              "       'productGroup_8.0', 'productGroup_9.0', 'deviceID_2', 'deviceID_3',\n",
              "       'deviceID_4', 'deviceID_5', 'paymentMethod_BPPL', 'paymentMethod_BPRG',\n",
              "       'paymentMethod_CBA', 'paymentMethod_KGRG', 'paymentMethod_KKE',\n",
              "       'paymentMethod_NN', 'paymentMethod_PAYPALVC', 'paymentMethod_RG',\n",
              "       'paymentMethod_VORAUS', 'price_level_expensive', 'price_level_luxury',\n",
              "       'price_level_regular'],\n",
              "      dtype='object')"
            ]
          },
          "metadata": {},
          "execution_count": 25
        }
      ]
    },
    {
      "cell_type": "code",
      "source": [
        "from sklearn.preprocessing import StandardScaler\n",
        "\n",
        "# Define the columns you want to normalize\n",
        "columns_to_normalize = ['quantity', 'rrp', 'voucherAmount','total_quantity_per_order','mean_rrp_per_article','total_orders_per_customer','returnQuantity']\n",
        "\n",
        "# Initialize the StandardScaler\n",
        "scaler = StandardScaler()\n",
        "\n",
        "# Fit and transform the selected columns\n",
        "X_train[columns_to_normalize] = scaler.fit_transform(X_train[columns_to_normalize])\n",
        "X_test[columns_to_normalize] = scaler.transform(X_test[columns_to_normalize])\n"
      ],
      "metadata": {
        "id": "aH1nJ33UiVJ9"
      },
      "execution_count": null,
      "outputs": []
    },
    {
      "cell_type": "code",
      "source": [
        "# List of all features after feature engineering\n",
        "features = [\n",
        "    'sizeCode', 'quantity', 'rrp', 'voucherAmount',\n",
        "       'total_quantity_per_order', 'mean_rrp_per_article',\n",
        "       'total_orders_per_customer', 'colorCode_1', 'colorCode_2',\n",
        "       'colorCode_3', 'colorCode_4', 'likelihood_of_returning',\n",
        "       'productGroup_13.0', 'productGroup_14.0', 'productGroup_15.0',\n",
        "       'productGroup_17.0', 'productGroup_2.0', 'productGroup_26.0',\n",
        "       'productGroup_3.0', 'productGroup_4.0', 'productGroup_5.0',\n",
        "       'productGroup_50.0', 'productGroup_6.0', 'productGroup_7.0',\n",
        "       'productGroup_8.0', 'productGroup_9.0', 'deviceID_2', 'deviceID_3',\n",
        "       'deviceID_4', 'deviceID_5', 'paymentMethod_BPPL', 'paymentMethod_BPRG',\n",
        "       'paymentMethod_CBA', 'paymentMethod_KGRG', 'paymentMethod_KKE',\n",
        "       'paymentMethod_NN', 'paymentMethod_PAYPALVC', 'paymentMethod_RG',\n",
        "       'paymentMethod_VORAUS', 'price_level_expensive', 'price_level_luxury',\n",
        "       'price_level_regular'\n",
        "]\n",
        "\n",
        "\n",
        "# Training the logistic regression model\n",
        "model = LogisticRegression(max_iter=1000)\n",
        "model.fit(X_train, y_train)\n",
        "\n",
        "# Predicting probabilities of the positive class (item being returned)\n",
        "y_prob = model.predict_proba(X_test)[:, 1]\n",
        "\n",
        "# Adding predicted probabilities back to the test set for demonstration\n",
        "X_test['predicted_return_probability'] = y_prob\n",
        "\n",
        "# Printing some results\n",
        "print(\"Classification Report:\")\n",
        "print(classification_report(y_test, model.predict(X_test[features])))\n",
        "\n",
        "print(\"\\nPredicted Return Probabilities:\")\n",
        "print(X_test[['predicted_return_probability']].head())"
      ],
      "metadata": {
        "colab": {
          "base_uri": "https://localhost:8080/"
        },
        "id": "Ozj_CwZqnGsE",
        "outputId": "bbfc2798-2e33-4249-c1aa-d0adc5831b38"
      },
      "execution_count": null,
      "outputs": [
        {
          "output_type": "stream",
          "name": "stderr",
          "text": [
            "/usr/local/lib/python3.10/dist-packages/sklearn/linear_model/_logistic.py:458: ConvergenceWarning: lbfgs failed to converge (status=1):\n",
            "STOP: TOTAL NO. of ITERATIONS REACHED LIMIT.\n",
            "\n",
            "Increase the number of iterations (max_iter) or scale the data as shown in:\n",
            "    https://scikit-learn.org/stable/modules/preprocessing.html\n",
            "Please also refer to the documentation for alternative solver options:\n",
            "    https://scikit-learn.org/stable/modules/linear_model.html#logistic-regression\n",
            "  n_iter_i = _check_optimize_result(\n"
          ]
        },
        {
          "output_type": "stream",
          "name": "stdout",
          "text": [
            "Classification Report:\n",
            "              precision    recall  f1-score   support\n",
            "\n",
            "           0       0.76      0.68      0.72    268388\n",
            "           1       0.74      0.81      0.77    301104\n",
            "\n",
            "    accuracy                           0.75    569492\n",
            "   macro avg       0.75      0.75      0.75    569492\n",
            "weighted avg       0.75      0.75      0.75    569492\n",
            "\n",
            "\n",
            "Predicted Return Probabilities:\n",
            "         predicted_return_probability\n",
            "1926916                      0.153377\n",
            "617108                       0.924182\n",
            "67582                        0.485380\n",
            "1195947                      0.822578\n",
            "2179644                      0.065682\n"
          ]
        }
      ]
    },
    {
      "cell_type": "code",
      "source": [
        "from sklearn.metrics import mean_squared_error, mean_absolute_error\n",
        "# Calculate MSE and MAE\n",
        "mse = mean_squared_error(y_test, model.predict(X_test[features]))\n",
        "mae = mean_absolute_error(y_test, model.predict(X_test[features]))\n",
        "\n",
        "# Printing the results\n",
        "print(\"Mean Squared Error:\", mse)\n",
        "print(\"Mean Absolute Error:\", mae)"
      ],
      "metadata": {
        "id": "WFRREwinsDAL"
      },
      "execution_count": null,
      "outputs": []
    },
    {
      "cell_type": "code",
      "source": [
        "max_return = 5\n",
        "X_test['estimated_return_count'] = np.round(y_prob * max_return)"
      ],
      "metadata": {
        "id": "Bwx8EilfpwfX"
      },
      "execution_count": null,
      "outputs": []
    },
    {
      "cell_type": "code",
      "source": [
        "print(\"\\nEstimated Return Counts:\")\n",
        "print(X_test[['estimated_return_count']].head())"
      ],
      "metadata": {
        "colab": {
          "base_uri": "https://localhost:8080/"
        },
        "id": "yt4PLBCGpyZl",
        "outputId": "6b64aec1-dc4f-4b0e-8d97-99effbb7a672"
      },
      "execution_count": null,
      "outputs": [
        {
          "output_type": "stream",
          "name": "stdout",
          "text": [
            "\n",
            "Estimated Return Counts:\n",
            "         estimated_return_count\n",
            "1926916                     1.0\n",
            "617108                      5.0\n",
            "67582                       2.0\n",
            "1195947                     4.0\n",
            "2179644                     0.0\n"
          ]
        }
      ]
    },
    {
      "cell_type": "code",
      "source": [
        "zero_returns_count = (X_test['estimated_return_count'] == 5).sum()\n",
        "\n",
        "print(\"Number of instances with estimated return count of 0:\", zero_returns_count)"
      ],
      "metadata": {
        "colab": {
          "base_uri": "https://localhost:8080/"
        },
        "id": "LLgLuunbqEZb",
        "outputId": "fb87d4d0-60ee-4da8-898b-b812a895b422"
      },
      "execution_count": null,
      "outputs": [
        {
          "output_type": "stream",
          "name": "stdout",
          "text": [
            "Number of instances with estimated return count of 0: 58571\n"
          ]
        }
      ]
    },
    {
      "cell_type": "code",
      "source": [
        "thresholds = {\n",
        "    5: 0.999,   # Extremely rare\n",
        "    4: 0.995,\n",
        "    3: 0.990,\n",
        "    2: 0.950,\n",
        "    1: 0.300,   # Most common lower bound for single return\n",
        "    0: 0.000    # Default for no returns\n",
        "}\n",
        "\n",
        "# Function to assign return count based on probability\n",
        "def assign_return_count(prob):\n",
        "    for count, threshold in sorted(thresholds.items(), reverse=True):\n",
        "        if prob >= threshold:\n",
        "            return count\n",
        "    return 0\n",
        "\n",
        "# Apply function to probabilities\n",
        "X_test['estimated_return_count'] = np.array([assign_return_count(p) for p in y_prob])"
      ],
      "metadata": {
        "id": "auNVQ1blrRNU"
      },
      "execution_count": null,
      "outputs": []
    },
    {
      "cell_type": "code",
      "source": [
        "# Counting the zeros in estimated returns\n",
        "zero_returns_count = (X_test['estimated_return_count'] == 1).sum()\n",
        "\n",
        "print(\"Number of instances with estimated return count of 0:\", zero_returns_count)"
      ],
      "metadata": {
        "colab": {
          "base_uri": "https://localhost:8080/"
        },
        "id": "4k2nErRorTWe",
        "outputId": "9fb308d0-d4ec-4d76-ee2d-a5f1fe6d47b9"
      },
      "execution_count": null,
      "outputs": [
        {
          "output_type": "stream",
          "name": "stdout",
          "text": [
            "Number of instances with estimated return count of 0: 396753\n"
          ]
        }
      ]
    },
    {
      "cell_type": "code",
      "source": [],
      "metadata": {
        "id": "eULa2RNWta-_"
      },
      "execution_count": null,
      "outputs": []
    },
    {
      "cell_type": "code",
      "source": [],
      "metadata": {
        "id": "e2LLcjkPtbBe"
      },
      "execution_count": null,
      "outputs": []
    },
    {
      "cell_type": "code",
      "source": [],
      "metadata": {
        "id": "m0XCH4jgtfQE"
      },
      "execution_count": null,
      "outputs": []
    }
  ]
}