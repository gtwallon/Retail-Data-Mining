{
  "nbformat": 4,
  "nbformat_minor": 0,
  "metadata": {
    "colab": {
      "provenance": []
    },
    "kernelspec": {
      "name": "python3",
      "display_name": "Python 3"
    },
    "language_info": {
      "name": "python"
    }
  },
  "cells": [
    {
      "cell_type": "code",
      "execution_count": null,
      "metadata": {
        "id": "6P2vT1U9EWy_"
      },
      "outputs": [],
      "source": [
        "import pandas as pd\n",
        "import matplotlib.pyplot as plt\n",
        "import numpy as np\n",
        "import seaborn as sns\n",
        "from mlxtend.frequent_patterns import apriori\n",
        "from mlxtend.frequent_patterns import association_rules\n",
        "from mlxtend.preprocessing import TransactionEncoder"
      ]
    },
    {
      "cell_type": "markdown",
      "source": [
        "#### Number of records and attributes"
      ],
      "metadata": {
        "id": "7umAgBtIChCD"
      }
    },
    {
      "cell_type": "code",
      "source": [
        "## read data\n",
        "data = pd.read_csv('orders_train.txt', sep=';')\n",
        "print('Number of records between {} to {}: {}'.format(df['orderDate'].iloc[0], df['orderDate'].iloc[-1], len(data)))\n",
        "print('Number of attributes corresponding to a single record {}:'.format(data.shape[1]-1))\n",
        "data.head()"
      ],
      "metadata": {
        "id": "VHG6zeq1KpC1",
        "colab": {
          "base_uri": "https://localhost:8080/",
          "height": 261
        },
        "outputId": "72ee3f7b-5679-4b63-80b2-7f1d5a103ae8"
      },
      "execution_count": null,
      "outputs": [
        {
          "output_type": "stream",
          "name": "stdout",
          "text": [
            "Number of records between 2014-01-01 to nan: 2116247\n",
            "Number of attributes corresponding to a single record 14:\n"
          ]
        },
        {
          "output_type": "execute_result",
          "data": {
            "text/plain": [
              "    orderID   orderDate articleID  colorCode sizeCode  productGroup  quantity  \\\n",
              "0  a1000001  2014-01-01  i1000382     1972.0       44           3.0       1.0   \n",
              "1  a1000001  2014-01-01  i1000550     3854.0       44           3.0       1.0   \n",
              "2  a1000002  2014-01-01  i1001991     2974.0       38           8.0       1.0   \n",
              "3  a1000002  2014-01-01  i1001999     1992.0       38           8.0       1.0   \n",
              "4  a1000003  2014-01-01  i1001942     1968.0       42           8.0       1.0   \n",
              "\n",
              "   price    rrp voucherID  voucherAmount customerID  deviceID paymentMethod  \\\n",
              "0  10.00  29.99         0            0.0   c1010575       2.0          BPRG   \n",
              "1  20.00  39.99         0            0.0   c1010575       2.0          BPRG   \n",
              "2  35.00  49.99         0            0.0   c1045905       4.0          BPRG   \n",
              "3  49.99  49.99         0            0.0   c1045905       4.0          BPRG   \n",
              "4  10.00  35.99         0            0.0   c1089295       2.0      PAYPALVC   \n",
              "\n",
              "   returnQuantity  \n",
              "0             0.0  \n",
              "1             0.0  \n",
              "2             0.0  \n",
              "3             1.0  \n",
              "4             0.0  "
            ],
            "text/html": [
              "\n",
              "  <div id=\"df-4d2bc08a-134c-487b-87f4-4b5877e61bfc\" class=\"colab-df-container\">\n",
              "    <div>\n",
              "<style scoped>\n",
              "    .dataframe tbody tr th:only-of-type {\n",
              "        vertical-align: middle;\n",
              "    }\n",
              "\n",
              "    .dataframe tbody tr th {\n",
              "        vertical-align: top;\n",
              "    }\n",
              "\n",
              "    .dataframe thead th {\n",
              "        text-align: right;\n",
              "    }\n",
              "</style>\n",
              "<table border=\"1\" class=\"dataframe\">\n",
              "  <thead>\n",
              "    <tr style=\"text-align: right;\">\n",
              "      <th></th>\n",
              "      <th>orderID</th>\n",
              "      <th>orderDate</th>\n",
              "      <th>articleID</th>\n",
              "      <th>colorCode</th>\n",
              "      <th>sizeCode</th>\n",
              "      <th>productGroup</th>\n",
              "      <th>quantity</th>\n",
              "      <th>price</th>\n",
              "      <th>rrp</th>\n",
              "      <th>voucherID</th>\n",
              "      <th>voucherAmount</th>\n",
              "      <th>customerID</th>\n",
              "      <th>deviceID</th>\n",
              "      <th>paymentMethod</th>\n",
              "      <th>returnQuantity</th>\n",
              "    </tr>\n",
              "  </thead>\n",
              "  <tbody>\n",
              "    <tr>\n",
              "      <th>0</th>\n",
              "      <td>a1000001</td>\n",
              "      <td>2014-01-01</td>\n",
              "      <td>i1000382</td>\n",
              "      <td>1972.0</td>\n",
              "      <td>44</td>\n",
              "      <td>3.0</td>\n",
              "      <td>1.0</td>\n",
              "      <td>10.00</td>\n",
              "      <td>29.99</td>\n",
              "      <td>0</td>\n",
              "      <td>0.0</td>\n",
              "      <td>c1010575</td>\n",
              "      <td>2.0</td>\n",
              "      <td>BPRG</td>\n",
              "      <td>0.0</td>\n",
              "    </tr>\n",
              "    <tr>\n",
              "      <th>1</th>\n",
              "      <td>a1000001</td>\n",
              "      <td>2014-01-01</td>\n",
              "      <td>i1000550</td>\n",
              "      <td>3854.0</td>\n",
              "      <td>44</td>\n",
              "      <td>3.0</td>\n",
              "      <td>1.0</td>\n",
              "      <td>20.00</td>\n",
              "      <td>39.99</td>\n",
              "      <td>0</td>\n",
              "      <td>0.0</td>\n",
              "      <td>c1010575</td>\n",
              "      <td>2.0</td>\n",
              "      <td>BPRG</td>\n",
              "      <td>0.0</td>\n",
              "    </tr>\n",
              "    <tr>\n",
              "      <th>2</th>\n",
              "      <td>a1000002</td>\n",
              "      <td>2014-01-01</td>\n",
              "      <td>i1001991</td>\n",
              "      <td>2974.0</td>\n",
              "      <td>38</td>\n",
              "      <td>8.0</td>\n",
              "      <td>1.0</td>\n",
              "      <td>35.00</td>\n",
              "      <td>49.99</td>\n",
              "      <td>0</td>\n",
              "      <td>0.0</td>\n",
              "      <td>c1045905</td>\n",
              "      <td>4.0</td>\n",
              "      <td>BPRG</td>\n",
              "      <td>0.0</td>\n",
              "    </tr>\n",
              "    <tr>\n",
              "      <th>3</th>\n",
              "      <td>a1000002</td>\n",
              "      <td>2014-01-01</td>\n",
              "      <td>i1001999</td>\n",
              "      <td>1992.0</td>\n",
              "      <td>38</td>\n",
              "      <td>8.0</td>\n",
              "      <td>1.0</td>\n",
              "      <td>49.99</td>\n",
              "      <td>49.99</td>\n",
              "      <td>0</td>\n",
              "      <td>0.0</td>\n",
              "      <td>c1045905</td>\n",
              "      <td>4.0</td>\n",
              "      <td>BPRG</td>\n",
              "      <td>1.0</td>\n",
              "    </tr>\n",
              "    <tr>\n",
              "      <th>4</th>\n",
              "      <td>a1000003</td>\n",
              "      <td>2014-01-01</td>\n",
              "      <td>i1001942</td>\n",
              "      <td>1968.0</td>\n",
              "      <td>42</td>\n",
              "      <td>8.0</td>\n",
              "      <td>1.0</td>\n",
              "      <td>10.00</td>\n",
              "      <td>35.99</td>\n",
              "      <td>0</td>\n",
              "      <td>0.0</td>\n",
              "      <td>c1089295</td>\n",
              "      <td>2.0</td>\n",
              "      <td>PAYPALVC</td>\n",
              "      <td>0.0</td>\n",
              "    </tr>\n",
              "  </tbody>\n",
              "</table>\n",
              "</div>\n",
              "    <div class=\"colab-df-buttons\">\n",
              "\n",
              "  <div class=\"colab-df-container\">\n",
              "    <button class=\"colab-df-convert\" onclick=\"convertToInteractive('df-4d2bc08a-134c-487b-87f4-4b5877e61bfc')\"\n",
              "            title=\"Convert this dataframe to an interactive table.\"\n",
              "            style=\"display:none;\">\n",
              "\n",
              "  <svg xmlns=\"http://www.w3.org/2000/svg\" height=\"24px\" viewBox=\"0 -960 960 960\">\n",
              "    <path d=\"M120-120v-720h720v720H120Zm60-500h600v-160H180v160Zm220 220h160v-160H400v160Zm0 220h160v-160H400v160ZM180-400h160v-160H180v160Zm440 0h160v-160H620v160ZM180-180h160v-160H180v160Zm440 0h160v-160H620v160Z\"/>\n",
              "  </svg>\n",
              "    </button>\n",
              "\n",
              "  <style>\n",
              "    .colab-df-container {\n",
              "      display:flex;\n",
              "      gap: 12px;\n",
              "    }\n",
              "\n",
              "    .colab-df-convert {\n",
              "      background-color: #E8F0FE;\n",
              "      border: none;\n",
              "      border-radius: 50%;\n",
              "      cursor: pointer;\n",
              "      display: none;\n",
              "      fill: #1967D2;\n",
              "      height: 32px;\n",
              "      padding: 0 0 0 0;\n",
              "      width: 32px;\n",
              "    }\n",
              "\n",
              "    .colab-df-convert:hover {\n",
              "      background-color: #E2EBFA;\n",
              "      box-shadow: 0px 1px 2px rgba(60, 64, 67, 0.3), 0px 1px 3px 1px rgba(60, 64, 67, 0.15);\n",
              "      fill: #174EA6;\n",
              "    }\n",
              "\n",
              "    .colab-df-buttons div {\n",
              "      margin-bottom: 4px;\n",
              "    }\n",
              "\n",
              "    [theme=dark] .colab-df-convert {\n",
              "      background-color: #3B4455;\n",
              "      fill: #D2E3FC;\n",
              "    }\n",
              "\n",
              "    [theme=dark] .colab-df-convert:hover {\n",
              "      background-color: #434B5C;\n",
              "      box-shadow: 0px 1px 3px 1px rgba(0, 0, 0, 0.15);\n",
              "      filter: drop-shadow(0px 1px 2px rgba(0, 0, 0, 0.3));\n",
              "      fill: #FFFFFF;\n",
              "    }\n",
              "  </style>\n",
              "\n",
              "    <script>\n",
              "      const buttonEl =\n",
              "        document.querySelector('#df-4d2bc08a-134c-487b-87f4-4b5877e61bfc button.colab-df-convert');\n",
              "      buttonEl.style.display =\n",
              "        google.colab.kernel.accessAllowed ? 'block' : 'none';\n",
              "\n",
              "      async function convertToInteractive(key) {\n",
              "        const element = document.querySelector('#df-4d2bc08a-134c-487b-87f4-4b5877e61bfc');\n",
              "        const dataTable =\n",
              "          await google.colab.kernel.invokeFunction('convertToInteractive',\n",
              "                                                    [key], {});\n",
              "        if (!dataTable) return;\n",
              "\n",
              "        const docLinkHtml = 'Like what you see? Visit the ' +\n",
              "          '<a target=\"_blank\" href=https://colab.research.google.com/notebooks/data_table.ipynb>data table notebook</a>'\n",
              "          + ' to learn more about interactive tables.';\n",
              "        element.innerHTML = '';\n",
              "        dataTable['output_type'] = 'display_data';\n",
              "        await google.colab.output.renderOutput(dataTable, element);\n",
              "        const docLink = document.createElement('div');\n",
              "        docLink.innerHTML = docLinkHtml;\n",
              "        element.appendChild(docLink);\n",
              "      }\n",
              "    </script>\n",
              "  </div>\n",
              "\n",
              "\n",
              "<div id=\"df-a0048abc-055e-43ec-961a-f708590cb953\">\n",
              "  <button class=\"colab-df-quickchart\" onclick=\"quickchart('df-a0048abc-055e-43ec-961a-f708590cb953')\"\n",
              "            title=\"Suggest charts\"\n",
              "            style=\"display:none;\">\n",
              "\n",
              "<svg xmlns=\"http://www.w3.org/2000/svg\" height=\"24px\"viewBox=\"0 0 24 24\"\n",
              "     width=\"24px\">\n",
              "    <g>\n",
              "        <path d=\"M19 3H5c-1.1 0-2 .9-2 2v14c0 1.1.9 2 2 2h14c1.1 0 2-.9 2-2V5c0-1.1-.9-2-2-2zM9 17H7v-7h2v7zm4 0h-2V7h2v10zm4 0h-2v-4h2v4z\"/>\n",
              "    </g>\n",
              "</svg>\n",
              "  </button>\n",
              "\n",
              "<style>\n",
              "  .colab-df-quickchart {\n",
              "      --bg-color: #E8F0FE;\n",
              "      --fill-color: #1967D2;\n",
              "      --hover-bg-color: #E2EBFA;\n",
              "      --hover-fill-color: #174EA6;\n",
              "      --disabled-fill-color: #AAA;\n",
              "      --disabled-bg-color: #DDD;\n",
              "  }\n",
              "\n",
              "  [theme=dark] .colab-df-quickchart {\n",
              "      --bg-color: #3B4455;\n",
              "      --fill-color: #D2E3FC;\n",
              "      --hover-bg-color: #434B5C;\n",
              "      --hover-fill-color: #FFFFFF;\n",
              "      --disabled-bg-color: #3B4455;\n",
              "      --disabled-fill-color: #666;\n",
              "  }\n",
              "\n",
              "  .colab-df-quickchart {\n",
              "    background-color: var(--bg-color);\n",
              "    border: none;\n",
              "    border-radius: 50%;\n",
              "    cursor: pointer;\n",
              "    display: none;\n",
              "    fill: var(--fill-color);\n",
              "    height: 32px;\n",
              "    padding: 0;\n",
              "    width: 32px;\n",
              "  }\n",
              "\n",
              "  .colab-df-quickchart:hover {\n",
              "    background-color: var(--hover-bg-color);\n",
              "    box-shadow: 0 1px 2px rgba(60, 64, 67, 0.3), 0 1px 3px 1px rgba(60, 64, 67, 0.15);\n",
              "    fill: var(--button-hover-fill-color);\n",
              "  }\n",
              "\n",
              "  .colab-df-quickchart-complete:disabled,\n",
              "  .colab-df-quickchart-complete:disabled:hover {\n",
              "    background-color: var(--disabled-bg-color);\n",
              "    fill: var(--disabled-fill-color);\n",
              "    box-shadow: none;\n",
              "  }\n",
              "\n",
              "  .colab-df-spinner {\n",
              "    border: 2px solid var(--fill-color);\n",
              "    border-color: transparent;\n",
              "    border-bottom-color: var(--fill-color);\n",
              "    animation:\n",
              "      spin 1s steps(1) infinite;\n",
              "  }\n",
              "\n",
              "  @keyframes spin {\n",
              "    0% {\n",
              "      border-color: transparent;\n",
              "      border-bottom-color: var(--fill-color);\n",
              "      border-left-color: var(--fill-color);\n",
              "    }\n",
              "    20% {\n",
              "      border-color: transparent;\n",
              "      border-left-color: var(--fill-color);\n",
              "      border-top-color: var(--fill-color);\n",
              "    }\n",
              "    30% {\n",
              "      border-color: transparent;\n",
              "      border-left-color: var(--fill-color);\n",
              "      border-top-color: var(--fill-color);\n",
              "      border-right-color: var(--fill-color);\n",
              "    }\n",
              "    40% {\n",
              "      border-color: transparent;\n",
              "      border-right-color: var(--fill-color);\n",
              "      border-top-color: var(--fill-color);\n",
              "    }\n",
              "    60% {\n",
              "      border-color: transparent;\n",
              "      border-right-color: var(--fill-color);\n",
              "    }\n",
              "    80% {\n",
              "      border-color: transparent;\n",
              "      border-right-color: var(--fill-color);\n",
              "      border-bottom-color: var(--fill-color);\n",
              "    }\n",
              "    90% {\n",
              "      border-color: transparent;\n",
              "      border-bottom-color: var(--fill-color);\n",
              "    }\n",
              "  }\n",
              "</style>\n",
              "\n",
              "  <script>\n",
              "    async function quickchart(key) {\n",
              "      const quickchartButtonEl =\n",
              "        document.querySelector('#' + key + ' button');\n",
              "      quickchartButtonEl.disabled = true;  // To prevent multiple clicks.\n",
              "      quickchartButtonEl.classList.add('colab-df-spinner');\n",
              "      try {\n",
              "        const charts = await google.colab.kernel.invokeFunction(\n",
              "            'suggestCharts', [key], {});\n",
              "      } catch (error) {\n",
              "        console.error('Error during call to suggestCharts:', error);\n",
              "      }\n",
              "      quickchartButtonEl.classList.remove('colab-df-spinner');\n",
              "      quickchartButtonEl.classList.add('colab-df-quickchart-complete');\n",
              "    }\n",
              "    (() => {\n",
              "      let quickchartButtonEl =\n",
              "        document.querySelector('#df-a0048abc-055e-43ec-961a-f708590cb953 button');\n",
              "      quickchartButtonEl.style.display =\n",
              "        google.colab.kernel.accessAllowed ? 'block' : 'none';\n",
              "    })();\n",
              "  </script>\n",
              "</div>\n",
              "    </div>\n",
              "  </div>\n"
            ],
            "application/vnd.google.colaboratory.intrinsic+json": {
              "type": "dataframe",
              "variable_name": "df"
            }
          },
          "metadata": {},
          "execution_count": 7
        }
      ]
    },
    {
      "cell_type": "markdown",
      "source": [
        "#### Data types and statistics"
      ],
      "metadata": {
        "id": "okY6kBSXCmNQ"
      }
    },
    {
      "cell_type": "code",
      "source": [
        "print(data.info())"
      ],
      "metadata": {
        "id": "wGiKXDBvCnPL"
      },
      "execution_count": null,
      "outputs": []
    },
    {
      "cell_type": "markdown",
      "source": [
        "#### Missing values and inconsistent records"
      ],
      "metadata": {
        "id": "P7GySx0iCrD7"
      }
    },
    {
      "cell_type": "code",
      "source": [
        "#check NA values\n",
        "print(data.isna().sum())\n",
        "#drop NA values since not a significant number of records contain NA\n",
        "data = data.dropna()"
      ],
      "metadata": {
        "colab": {
          "base_uri": "https://localhost:8080/"
        },
        "id": "6eieh-MfOWbC",
        "outputId": "9cd89627-d121-459c-989b-c2efb642a6ed"
      },
      "execution_count": null,
      "outputs": [
        {
          "output_type": "stream",
          "name": "stdout",
          "text": [
            "orderID             0\n",
            "orderDate           1\n",
            "articleID           1\n",
            "colorCode           1\n",
            "sizeCode            1\n",
            "productGroup      328\n",
            "quantity            1\n",
            "price               1\n",
            "rrp               328\n",
            "voucherID           5\n",
            "voucherAmount       1\n",
            "customerID          1\n",
            "deviceID            1\n",
            "paymentMethod       1\n",
            "returnQuantity      1\n",
            "dtype: int64\n"
          ]
        }
      ]
    },
    {
      "cell_type": "code",
      "source": [
        "## inconsistent records\n",
        "drop_idx = data[(data['quantity']==0) |  (data['price']==0) | (data['quantity']<data['returnQuantity']) ].index\n",
        "data = data.drop(drop_idx)\n",
        "data.shape"
      ],
      "metadata": {
        "id": "NqMwvffROXh2"
      },
      "execution_count": null,
      "outputs": []
    },
    {
      "cell_type": "markdown",
      "source": [
        "#### Temporal analysis"
      ],
      "metadata": {
        "id": "e3l6kl5XC1cu"
      }
    },
    {
      "cell_type": "code",
      "source": [
        "# make new columns for year, month and day\n",
        "data[['year', 'month', 'day']] = data['orderDate'].str.split('-', expand=True)\n",
        "monthlySale = data.groupby(['month', 'day', 'year'])['quantity'].sum().reset_index()\n",
        "monthlyReturn = data.groupby(['month', 'day', 'year'])['returnQuantity'].sum().reset_index()\n",
        "# visualize montly sale and return for 2014 and 2015\n",
        "plt.figure(figsize=(14, 8))\n",
        "sns.swarmplot(x='month', y='quantity', data=monthlySale, hue = 'year', dodge=True)\n",
        "sns.boxplot(x='month', y='quantity', data=monthlySale, hue = 'year', dodge=True)\n",
        "plt.show()\n",
        "\n",
        "plt.figure(figsize=(14, 8))\n",
        "sns.swarmplot(x='month', y='returnQuantity', data=monthlyReturn, hue = 'year', dodge=True)\n",
        "sns.boxplot(x='month', y='returnQuantity', data=monthlyReturn, hue = 'year')\n",
        "plt.show()"
      ],
      "metadata": {
        "id": "R5iXUKdu5SL8"
      },
      "execution_count": null,
      "outputs": []
    },
    {
      "cell_type": "code",
      "source": [
        "# visualizing the average discounts for different product groups in each month\n",
        "discount = data.groupby(['productGroup', 'month'])['discountRatio'].mean().reset_index()\n",
        "plt.figure(figsize= (10,5))\n",
        "sns.lineplot(data= discount, x ='month', y ='discountRatio', hue=discount['productGroup'].astype(str), marker='o')\n",
        "plt.legend(fontsize=8)\n",
        "plt.ylabel('Average discount (%)')"
      ],
      "metadata": {
        "id": "VA11pZ1iGNfU"
      },
      "execution_count": null,
      "outputs": []
    },
    {
      "cell_type": "markdown",
      "source": [
        "#### Product characteristics- Sizes offered by the retailer"
      ],
      "metadata": {
        "id": "mlC3E6eVDMHV"
      }
    },
    {
      "cell_type": "code",
      "source": [
        "sizes = data['sizeCode'].value_counts()\n",
        "sns.barplot(x= sizes.index, y=sizes.values, hue = sizes.index)\n",
        "plt.xticks(rotation=45)\n",
        "plt.ylabel('quantity')\n",
        "plt.show()"
      ],
      "metadata": {
        "id": "qxkD6llyDevW"
      },
      "execution_count": null,
      "outputs": []
    },
    {
      "cell_type": "code",
      "source": [
        "# dropping sizes A and I for now...\n",
        "data = data[~data['sizeCode'].isin(['A', 'I'])]\n",
        "# sizes bought by unique customers\n",
        "custm_size = data.groupby('customerID')['sizeCode'].agg(list).reset_index()\n",
        "custm_size['sizeCode'] = custm_size['sizeCode'].apply(lambda x: list(set(x)))\n",
        "custm_size"
      ],
      "metadata": {
        "id": "HZ2IzcQDDeln"
      },
      "execution_count": null,
      "outputs": []
    },
    {
      "cell_type": "code",
      "source": [
        "#encode the data\n",
        "encoder = TransactionEncoder() #initialize the encoder\n",
        "ecd_data = encoder.fit(custm_size['sizeCode']).transform(custm_size['sizeCode'])# encoded data\n",
        "\n",
        "# make dataframe of encoded data\n",
        "ecd_df = pd.DataFrame(ecd_data, columns=encoder.columns_)\n",
        "FP = apriori(ecd_df, min_support= 0.00005, use_colnames=True, max_len = 2)\n",
        "rules = association_rules(FP, metric='confidence', min_threshold= 0.001)\n"
      ],
      "metadata": {
        "id": "bDaCFcx_Duv4"
      },
      "execution_count": null,
      "outputs": []
    },
    {
      "cell_type": "code",
      "source": [
        "rules['antecedents'] = list(map(lambda x: list(x)[0], rules['antecedents']))\n",
        "rules['consequents'] = list(map(lambda x: list(x)[0], rules['consequents']))\n",
        "bold = \"\\033[1m\"\n",
        "reset = \"\\033[0m\"\n",
        "print(bold+'Mapping of other units of sizes to standard sizes between 34 - 44:\\n'+reset)\n",
        "print(bold+'other unit\\t standard unit \\t confidence'+reset)\n",
        "for size in ['75', '80', '85', '90', '95', '100', 'XS', 'S', 'M', 'L', 'XL', '24', '25', '26', '27', '28', '29', '30', '31', '32', '33']:\n",
        "    idx = [rules[rules['antecedents'] == size]['confidence'].idxmax()]\n",
        "    print(rules.iloc[idx]['antecedents'].to_string(index=False), '\\t\\t', rules.iloc[idx]['consequents'].to_string(index=False),\n",
        "          '\\t\\t', rules.iloc[idx]['confidence'].to_string(index=False))\n"
      ],
      "metadata": {
        "id": "zr-hx34dD2c0"
      },
      "execution_count": null,
      "outputs": []
    },
    {
      "cell_type": "code",
      "source": [
        "mapping = {'75':'34', '80': '36', '85': '38', '90': '38', '95': '40', '100': '42', 'XS':'34', 'S': '36',  'M': '38','L':'42',\n",
        "'XL':'42', '24':'34', '25':'34' , '26':'36', '27':'36', '28':'38','29': '38','30':'40','31':'40','32':'42', '33':'42'}\n",
        "for key in mapping.keys():\n",
        "    idx = data['sizeCode']==key\n",
        "    data.loc[idx, 'sizeCode'] = mapping[key]\n",
        "# new size distribution after mapping different sizes into standard sizes\n",
        "sizes = data['sizeCode'].value_counts()\n",
        "sns.barplot(x= sizes.index, y=sizes.values, hue=sizes.index)\n",
        "plt.ylabel('quantity')\n",
        "plt.show()"
      ],
      "metadata": {
        "id": "_wF0vEYfD6MG"
      },
      "execution_count": null,
      "outputs": []
    },
    {
      "cell_type": "markdown",
      "source": [
        "#### Buying and return behavior of customers w.r.t. product characterictics"
      ],
      "metadata": {
        "id": "vV31d2SkEGxR"
      }
    },
    {
      "cell_type": "code",
      "source": [
        "#visualize the sizes that are most often bought\n",
        "sizes_bought = data.groupby('sizeCode')['quantity'].apply(lambda x: sum(list(x))).reset_index()\n",
        "sizes_bought['%'] = sizes_bought['quantity']/data['quantity'].sum()\n",
        "plt.pie(x = sizes_bought['%'], labels = sizes_bought['sizeCode'], autopct='%1.1f%%')\n",
        "plt.title('Distribution of sizes bought by customers')\n",
        "plt.show()\n",
        "del sizes_bought"
      ],
      "metadata": {
        "id": "e51uNBiOELM-"
      },
      "execution_count": null,
      "outputs": []
    },
    {
      "cell_type": "code",
      "source": [
        "#visualize the product group that are most often bought\n",
        "category_bought = data.groupby('productGroup')['quantity'].apply(lambda x: sum(list(x))).reset_index()\n",
        "category_bought['%'] = category_bought['quantity']/data['quantity'].sum()\n",
        "category_bought = category_bought.sort_values(by = '%', ascending = False).iloc[0:10]\n",
        "plt.figure(figsize=(6,6))\n",
        "plt.pie(x = category_bought['%'], labels = category_bought['productGroup'], autopct='%1.1f%%')\n",
        "plt.title('Distribution of prodduct group bought by customers')\n",
        "plt.show()\n",
        "del category_bought"
      ],
      "metadata": {
        "id": "0vzE9pOREf3l"
      },
      "execution_count": null,
      "outputs": []
    },
    {
      "cell_type": "code",
      "source": [
        "# colors offered in top selling items\n",
        "print('Total number of unique color codes:', data['colorCode'].nunique())\n",
        "colorcode = data.groupby('articleID')['quantity'].sum().sort_values(ascending= False).reset_index().head(20)\\\n",
        ".merge(data.groupby('articleID')['colorCode'].nunique().sort_values(ascending= False).reset_index().rename(columns={'colorCode': 'uniqueColorCodes'}).head(20), on ='articleID')\n",
        "\n",
        "plt.scatter(x=colorcode['articleID'], y = colorcode['quantity'], s = 15*colorcode['uniqueColorCodes'], c = np.random.rand(len(colorcode)), \\\n",
        "            marker='p', alpha=0.7, cmap  = plt.get_cmap(\"rainbow\"))\n",
        "plt.ylabel('Articles sold')\n",
        "plt.xlabel('Article ID')\n",
        "plt.title('Number of colors offered in top selling articles ')\n",
        "plt.gca().set_facecolor(color='seashell')\n",
        "plt.xticks(rotation=45)\n",
        "plt.show()\n",
        "\n",
        "colorcode"
      ],
      "metadata": {
        "id": "JvHfXc_6Etup"
      },
      "execution_count": null,
      "outputs": []
    },
    {
      "cell_type": "markdown",
      "source": [
        "#### Distribution of number of items in an order"
      ],
      "metadata": {
        "id": "XmFi39FEE-yO"
      }
    },
    {
      "cell_type": "code",
      "source": [
        "uniqueOrders = data.groupby('orderID')[['quantity', 'returnQuantity']].sum().reset_index()\n",
        "fig = plt.figure()\n",
        "axes = fig.add_axes([0.1, 0.1, 0.8, 1.3])\n",
        "axes2 = fig.add_axes([0.35, 0.55, 0.4, 0.8])\n",
        "axes.hist(uniqueOrders['quantity'], bins=range(0, max(uniqueOrders['quantity']), 2), align='left', edgecolor='black', alpha=0.7)\n",
        "axes2.hist(uniqueOrders['quantity'], bins=range(25, max(uniqueOrders['quantity']), 2), align='left', edgecolor='black', alpha=0.7)\n",
        "axes2.set_facecolor('lightgray')\n",
        "plt.xlabel('Number of items in an order')\n",
        "plt.ylabel('Count')\n",
        "plt.title('Distribution of number of items in an order')\n",
        "fig.show()\n"
      ],
      "metadata": {
        "id": "oC0LBuT-FHQp"
      },
      "execution_count": null,
      "outputs": []
    },
    {
      "cell_type": "code",
      "source": [
        "#add a binary return variable\n",
        "data['bin_return'] = data['returnQuantity'].apply(lambda x: int(x!=0))\n",
        "data.loc[data['returnQuantity']>1].head()"
      ],
      "metadata": {
        "colab": {
          "base_uri": "https://localhost:8080/",
          "height": 226
        },
        "id": "jILDJZhKOyX_",
        "outputId": "216f8624-043d-43af-eb19-61f33862c042"
      },
      "execution_count": null,
      "outputs": [
        {
          "output_type": "execute_result",
          "data": {
            "text/plain": [
              "       orderID   orderDate articleID  colorCode sizeCode  productGroup  \\\n",
              "958   a1000321  2014-01-01  i1000314     1493.0       40           3.0   \n",
              "1056  a1000350  2014-01-01  i1000312     1000.0       44           3.0   \n",
              "1057  a1000350  2014-01-01  i1000325     1000.0       44           3.0   \n",
              "1058  a1000350  2014-01-01  i1000663     1000.0       44           3.0   \n",
              "1396  a1000450  2014-01-02  i1000326     1961.0       42           3.0   \n",
              "\n",
              "      quantity  price    rrp voucherID  voucherAmount customerID  deviceID  \\\n",
              "958        2.0  45.98  22.99         0            0.0   c1089417       2.0   \n",
              "1056       2.0  35.98  17.99         0            0.0   c1022255       3.0   \n",
              "1057       2.0  39.98  19.99         0            0.0   c1022255       3.0   \n",
              "1058       2.0  35.98  17.99         0            0.0   c1022255       3.0   \n",
              "1396       2.0  39.98  19.99         0            0.0   c1089473       2.0   \n",
              "\n",
              "     paymentMethod  returnQuantity  bin_return  \n",
              "958           BPRG             2.0           1  \n",
              "1056          BPRG             2.0           1  \n",
              "1057          BPRG             2.0           1  \n",
              "1058          BPRG             2.0           1  \n",
              "1396           CBA             2.0           1  "
            ],
            "text/html": [
              "\n",
              "  <div id=\"df-23bce650-036a-42ba-8ef2-ad850cb4450d\" class=\"colab-df-container\">\n",
              "    <div>\n",
              "<style scoped>\n",
              "    .dataframe tbody tr th:only-of-type {\n",
              "        vertical-align: middle;\n",
              "    }\n",
              "\n",
              "    .dataframe tbody tr th {\n",
              "        vertical-align: top;\n",
              "    }\n",
              "\n",
              "    .dataframe thead th {\n",
              "        text-align: right;\n",
              "    }\n",
              "</style>\n",
              "<table border=\"1\" class=\"dataframe\">\n",
              "  <thead>\n",
              "    <tr style=\"text-align: right;\">\n",
              "      <th></th>\n",
              "      <th>orderID</th>\n",
              "      <th>orderDate</th>\n",
              "      <th>articleID</th>\n",
              "      <th>colorCode</th>\n",
              "      <th>sizeCode</th>\n",
              "      <th>productGroup</th>\n",
              "      <th>quantity</th>\n",
              "      <th>price</th>\n",
              "      <th>rrp</th>\n",
              "      <th>voucherID</th>\n",
              "      <th>voucherAmount</th>\n",
              "      <th>customerID</th>\n",
              "      <th>deviceID</th>\n",
              "      <th>paymentMethod</th>\n",
              "      <th>returnQuantity</th>\n",
              "      <th>bin_return</th>\n",
              "    </tr>\n",
              "  </thead>\n",
              "  <tbody>\n",
              "    <tr>\n",
              "      <th>958</th>\n",
              "      <td>a1000321</td>\n",
              "      <td>2014-01-01</td>\n",
              "      <td>i1000314</td>\n",
              "      <td>1493.0</td>\n",
              "      <td>40</td>\n",
              "      <td>3.0</td>\n",
              "      <td>2.0</td>\n",
              "      <td>45.98</td>\n",
              "      <td>22.99</td>\n",
              "      <td>0</td>\n",
              "      <td>0.0</td>\n",
              "      <td>c1089417</td>\n",
              "      <td>2.0</td>\n",
              "      <td>BPRG</td>\n",
              "      <td>2.0</td>\n",
              "      <td>1</td>\n",
              "    </tr>\n",
              "    <tr>\n",
              "      <th>1056</th>\n",
              "      <td>a1000350</td>\n",
              "      <td>2014-01-01</td>\n",
              "      <td>i1000312</td>\n",
              "      <td>1000.0</td>\n",
              "      <td>44</td>\n",
              "      <td>3.0</td>\n",
              "      <td>2.0</td>\n",
              "      <td>35.98</td>\n",
              "      <td>17.99</td>\n",
              "      <td>0</td>\n",
              "      <td>0.0</td>\n",
              "      <td>c1022255</td>\n",
              "      <td>3.0</td>\n",
              "      <td>BPRG</td>\n",
              "      <td>2.0</td>\n",
              "      <td>1</td>\n",
              "    </tr>\n",
              "    <tr>\n",
              "      <th>1057</th>\n",
              "      <td>a1000350</td>\n",
              "      <td>2014-01-01</td>\n",
              "      <td>i1000325</td>\n",
              "      <td>1000.0</td>\n",
              "      <td>44</td>\n",
              "      <td>3.0</td>\n",
              "      <td>2.0</td>\n",
              "      <td>39.98</td>\n",
              "      <td>19.99</td>\n",
              "      <td>0</td>\n",
              "      <td>0.0</td>\n",
              "      <td>c1022255</td>\n",
              "      <td>3.0</td>\n",
              "      <td>BPRG</td>\n",
              "      <td>2.0</td>\n",
              "      <td>1</td>\n",
              "    </tr>\n",
              "    <tr>\n",
              "      <th>1058</th>\n",
              "      <td>a1000350</td>\n",
              "      <td>2014-01-01</td>\n",
              "      <td>i1000663</td>\n",
              "      <td>1000.0</td>\n",
              "      <td>44</td>\n",
              "      <td>3.0</td>\n",
              "      <td>2.0</td>\n",
              "      <td>35.98</td>\n",
              "      <td>17.99</td>\n",
              "      <td>0</td>\n",
              "      <td>0.0</td>\n",
              "      <td>c1022255</td>\n",
              "      <td>3.0</td>\n",
              "      <td>BPRG</td>\n",
              "      <td>2.0</td>\n",
              "      <td>1</td>\n",
              "    </tr>\n",
              "    <tr>\n",
              "      <th>1396</th>\n",
              "      <td>a1000450</td>\n",
              "      <td>2014-01-02</td>\n",
              "      <td>i1000326</td>\n",
              "      <td>1961.0</td>\n",
              "      <td>42</td>\n",
              "      <td>3.0</td>\n",
              "      <td>2.0</td>\n",
              "      <td>39.98</td>\n",
              "      <td>19.99</td>\n",
              "      <td>0</td>\n",
              "      <td>0.0</td>\n",
              "      <td>c1089473</td>\n",
              "      <td>2.0</td>\n",
              "      <td>CBA</td>\n",
              "      <td>2.0</td>\n",
              "      <td>1</td>\n",
              "    </tr>\n",
              "  </tbody>\n",
              "</table>\n",
              "</div>\n",
              "    <div class=\"colab-df-buttons\">\n",
              "\n",
              "  <div class=\"colab-df-container\">\n",
              "    <button class=\"colab-df-convert\" onclick=\"convertToInteractive('df-23bce650-036a-42ba-8ef2-ad850cb4450d')\"\n",
              "            title=\"Convert this dataframe to an interactive table.\"\n",
              "            style=\"display:none;\">\n",
              "\n",
              "  <svg xmlns=\"http://www.w3.org/2000/svg\" height=\"24px\" viewBox=\"0 -960 960 960\">\n",
              "    <path d=\"M120-120v-720h720v720H120Zm60-500h600v-160H180v160Zm220 220h160v-160H400v160Zm0 220h160v-160H400v160ZM180-400h160v-160H180v160Zm440 0h160v-160H620v160ZM180-180h160v-160H180v160Zm440 0h160v-160H620v160Z\"/>\n",
              "  </svg>\n",
              "    </button>\n",
              "\n",
              "  <style>\n",
              "    .colab-df-container {\n",
              "      display:flex;\n",
              "      gap: 12px;\n",
              "    }\n",
              "\n",
              "    .colab-df-convert {\n",
              "      background-color: #E8F0FE;\n",
              "      border: none;\n",
              "      border-radius: 50%;\n",
              "      cursor: pointer;\n",
              "      display: none;\n",
              "      fill: #1967D2;\n",
              "      height: 32px;\n",
              "      padding: 0 0 0 0;\n",
              "      width: 32px;\n",
              "    }\n",
              "\n",
              "    .colab-df-convert:hover {\n",
              "      background-color: #E2EBFA;\n",
              "      box-shadow: 0px 1px 2px rgba(60, 64, 67, 0.3), 0px 1px 3px 1px rgba(60, 64, 67, 0.15);\n",
              "      fill: #174EA6;\n",
              "    }\n",
              "\n",
              "    .colab-df-buttons div {\n",
              "      margin-bottom: 4px;\n",
              "    }\n",
              "\n",
              "    [theme=dark] .colab-df-convert {\n",
              "      background-color: #3B4455;\n",
              "      fill: #D2E3FC;\n",
              "    }\n",
              "\n",
              "    [theme=dark] .colab-df-convert:hover {\n",
              "      background-color: #434B5C;\n",
              "      box-shadow: 0px 1px 3px 1px rgba(0, 0, 0, 0.15);\n",
              "      filter: drop-shadow(0px 1px 2px rgba(0, 0, 0, 0.3));\n",
              "      fill: #FFFFFF;\n",
              "    }\n",
              "  </style>\n",
              "\n",
              "    <script>\n",
              "      const buttonEl =\n",
              "        document.querySelector('#df-23bce650-036a-42ba-8ef2-ad850cb4450d button.colab-df-convert');\n",
              "      buttonEl.style.display =\n",
              "        google.colab.kernel.accessAllowed ? 'block' : 'none';\n",
              "\n",
              "      async function convertToInteractive(key) {\n",
              "        const element = document.querySelector('#df-23bce650-036a-42ba-8ef2-ad850cb4450d');\n",
              "        const dataTable =\n",
              "          await google.colab.kernel.invokeFunction('convertToInteractive',\n",
              "                                                    [key], {});\n",
              "        if (!dataTable) return;\n",
              "\n",
              "        const docLinkHtml = 'Like what you see? Visit the ' +\n",
              "          '<a target=\"_blank\" href=https://colab.research.google.com/notebooks/data_table.ipynb>data table notebook</a>'\n",
              "          + ' to learn more about interactive tables.';\n",
              "        element.innerHTML = '';\n",
              "        dataTable['output_type'] = 'display_data';\n",
              "        await google.colab.output.renderOutput(dataTable, element);\n",
              "        const docLink = document.createElement('div');\n",
              "        docLink.innerHTML = docLinkHtml;\n",
              "        element.appendChild(docLink);\n",
              "      }\n",
              "    </script>\n",
              "  </div>\n",
              "\n",
              "\n",
              "<div id=\"df-4a4c3dba-ea7c-4bd1-94ed-9f54984f5d6a\">\n",
              "  <button class=\"colab-df-quickchart\" onclick=\"quickchart('df-4a4c3dba-ea7c-4bd1-94ed-9f54984f5d6a')\"\n",
              "            title=\"Suggest charts\"\n",
              "            style=\"display:none;\">\n",
              "\n",
              "<svg xmlns=\"http://www.w3.org/2000/svg\" height=\"24px\"viewBox=\"0 0 24 24\"\n",
              "     width=\"24px\">\n",
              "    <g>\n",
              "        <path d=\"M19 3H5c-1.1 0-2 .9-2 2v14c0 1.1.9 2 2 2h14c1.1 0 2-.9 2-2V5c0-1.1-.9-2-2-2zM9 17H7v-7h2v7zm4 0h-2V7h2v10zm4 0h-2v-4h2v4z\"/>\n",
              "    </g>\n",
              "</svg>\n",
              "  </button>\n",
              "\n",
              "<style>\n",
              "  .colab-df-quickchart {\n",
              "      --bg-color: #E8F0FE;\n",
              "      --fill-color: #1967D2;\n",
              "      --hover-bg-color: #E2EBFA;\n",
              "      --hover-fill-color: #174EA6;\n",
              "      --disabled-fill-color: #AAA;\n",
              "      --disabled-bg-color: #DDD;\n",
              "  }\n",
              "\n",
              "  [theme=dark] .colab-df-quickchart {\n",
              "      --bg-color: #3B4455;\n",
              "      --fill-color: #D2E3FC;\n",
              "      --hover-bg-color: #434B5C;\n",
              "      --hover-fill-color: #FFFFFF;\n",
              "      --disabled-bg-color: #3B4455;\n",
              "      --disabled-fill-color: #666;\n",
              "  }\n",
              "\n",
              "  .colab-df-quickchart {\n",
              "    background-color: var(--bg-color);\n",
              "    border: none;\n",
              "    border-radius: 50%;\n",
              "    cursor: pointer;\n",
              "    display: none;\n",
              "    fill: var(--fill-color);\n",
              "    height: 32px;\n",
              "    padding: 0;\n",
              "    width: 32px;\n",
              "  }\n",
              "\n",
              "  .colab-df-quickchart:hover {\n",
              "    background-color: var(--hover-bg-color);\n",
              "    box-shadow: 0 1px 2px rgba(60, 64, 67, 0.3), 0 1px 3px 1px rgba(60, 64, 67, 0.15);\n",
              "    fill: var(--button-hover-fill-color);\n",
              "  }\n",
              "\n",
              "  .colab-df-quickchart-complete:disabled,\n",
              "  .colab-df-quickchart-complete:disabled:hover {\n",
              "    background-color: var(--disabled-bg-color);\n",
              "    fill: var(--disabled-fill-color);\n",
              "    box-shadow: none;\n",
              "  }\n",
              "\n",
              "  .colab-df-spinner {\n",
              "    border: 2px solid var(--fill-color);\n",
              "    border-color: transparent;\n",
              "    border-bottom-color: var(--fill-color);\n",
              "    animation:\n",
              "      spin 1s steps(1) infinite;\n",
              "  }\n",
              "\n",
              "  @keyframes spin {\n",
              "    0% {\n",
              "      border-color: transparent;\n",
              "      border-bottom-color: var(--fill-color);\n",
              "      border-left-color: var(--fill-color);\n",
              "    }\n",
              "    20% {\n",
              "      border-color: transparent;\n",
              "      border-left-color: var(--fill-color);\n",
              "      border-top-color: var(--fill-color);\n",
              "    }\n",
              "    30% {\n",
              "      border-color: transparent;\n",
              "      border-left-color: var(--fill-color);\n",
              "      border-top-color: var(--fill-color);\n",
              "      border-right-color: var(--fill-color);\n",
              "    }\n",
              "    40% {\n",
              "      border-color: transparent;\n",
              "      border-right-color: var(--fill-color);\n",
              "      border-top-color: var(--fill-color);\n",
              "    }\n",
              "    60% {\n",
              "      border-color: transparent;\n",
              "      border-right-color: var(--fill-color);\n",
              "    }\n",
              "    80% {\n",
              "      border-color: transparent;\n",
              "      border-right-color: var(--fill-color);\n",
              "      border-bottom-color: var(--fill-color);\n",
              "    }\n",
              "    90% {\n",
              "      border-color: transparent;\n",
              "      border-bottom-color: var(--fill-color);\n",
              "    }\n",
              "  }\n",
              "</style>\n",
              "\n",
              "  <script>\n",
              "    async function quickchart(key) {\n",
              "      const quickchartButtonEl =\n",
              "        document.querySelector('#' + key + ' button');\n",
              "      quickchartButtonEl.disabled = true;  // To prevent multiple clicks.\n",
              "      quickchartButtonEl.classList.add('colab-df-spinner');\n",
              "      try {\n",
              "        const charts = await google.colab.kernel.invokeFunction(\n",
              "            'suggestCharts', [key], {});\n",
              "      } catch (error) {\n",
              "        console.error('Error during call to suggestCharts:', error);\n",
              "      }\n",
              "      quickchartButtonEl.classList.remove('colab-df-spinner');\n",
              "      quickchartButtonEl.classList.add('colab-df-quickchart-complete');\n",
              "    }\n",
              "    (() => {\n",
              "      let quickchartButtonEl =\n",
              "        document.querySelector('#df-4a4c3dba-ea7c-4bd1-94ed-9f54984f5d6a button');\n",
              "      quickchartButtonEl.style.display =\n",
              "        google.colab.kernel.accessAllowed ? 'block' : 'none';\n",
              "    })();\n",
              "  </script>\n",
              "</div>\n",
              "    </div>\n",
              "  </div>\n"
            ],
            "application/vnd.google.colaboratory.intrinsic+json": {
              "type": "dataframe",
              "repr_error": "0"
            }
          },
          "metadata": {},
          "execution_count": 10
        }
      ]
    },
    {
      "cell_type": "code",
      "source": [],
      "metadata": {
        "id": "KcUt7IIV6gh4"
      },
      "execution_count": null,
      "outputs": []
    },
    {
      "cell_type": "markdown",
      "source": [
        "# Making the \"order_df\" dataframe"
      ],
      "metadata": {
        "id": "hBRFDAQm6hVq"
      }
    },
    {
      "cell_type": "code",
      "source": [
        "def list_items(vec):\n",
        "    lst = []\n",
        "    for item in vec:\n",
        "        lst.append(item)\n",
        "    return lst"
      ],
      "metadata": {
        "id": "902ahdEJ6glX"
      },
      "execution_count": null,
      "outputs": []
    },
    {
      "cell_type": "code",
      "source": [
        "uniq_order_df = data.groupby('orderID', as_index=False).agg({'orderDate': list_items,\n",
        "                                                            'articleID': list_items,\n",
        "                                                            'colorCode': list_items,\n",
        "                                                            'productGroup': list_items,\n",
        "                                                            'quantity': np.sum,\n",
        "                                                            'price': np.sum,\n",
        "                                                            'rrp': np.sum,\n",
        "                                                            'voucherID': list_items,\n",
        "                                                            'voucherAmount': list_items,\n",
        "                                                            'customerID': list_items,\n",
        "                                                            'paymentMethod': list_items,\n",
        "                                                            'returnQuantity': np.sum})\n",
        "uniq_order_df.head()"
      ],
      "metadata": {
        "id": "8ME3UeUN6gqc"
      },
      "execution_count": null,
      "outputs": []
    },
    {
      "cell_type": "code",
      "source": [
        "# check if all the lists are homogeneous (all elements are equal)\n",
        "def homogeneous(lst):\n",
        "    first = lst[0]\n",
        "    for item in lst:\n",
        "        if item != first:\n",
        "            return 0\n",
        "    return 1\n",
        "\n",
        "num = 1\n",
        "list_columns = uniq_order_df[['orderDate', 'voucherID', 'voucherAmount', 'customerID', 'paymentMethod']]\n",
        "for i in range(list_columns.shape[0]):\n",
        "    row = list_columns.iloc[i]\n",
        "    for col in row.values:\n",
        "        num *= homogeneous(col)\n",
        "\n",
        "print(num)"
      ],
      "metadata": {
        "id": "KfIH01uS6qgq"
      },
      "execution_count": null,
      "outputs": []
    },
    {
      "cell_type": "markdown",
      "source": [
        "Since `num`=1, we know that all these lists are homogeneous, thus we do not need to store these row values as lists, rather we can store them as strings. Thus, we make a new dataframe."
      ],
      "metadata": {
        "id": "fqx-w1266zPg"
      }
    },
    {
      "cell_type": "code",
      "source": [
        "uniq_order_df2 = data.groupby('orderID', as_index=False).agg({'orderDate': 'first',\n",
        "                                                            'articleID': list,\n",
        "                                                            'colorCode': list,\n",
        "                                                            'productGroup': list,\n",
        "                                                            'quantity': np.sum,\n",
        "                                                            'price': np.sum,\n",
        "                                                            'rrp': np.sum,\n",
        "                                                            'voucherID': 'first',\n",
        "                                                            'voucherAmount': 'first',\n",
        "                                                            'customerID': 'first',\n",
        "                                                            'paymentMethod': 'first',\n",
        "                                                            'returnQuantity': np.sum})\n",
        "uniq_order_df2.head()"
      ],
      "metadata": {
        "id": "_gMRb3e_6qkQ"
      },
      "execution_count": null,
      "outputs": []
    },
    {
      "cell_type": "code",
      "source": [
        "#add a binary return variable\n",
        "uniq_order_df2['bin_return'] = uniq_order_df2['returnQuantity'].apply(lambda x: int(x!=0))\n",
        "uniq_order_df2.head()"
      ],
      "metadata": {
        "id": "cKie9K6i6qnc"
      },
      "execution_count": null,
      "outputs": []
    },
    {
      "cell_type": "code",
      "source": [
        "# make a copy and save as a csv\n",
        "order_df = uniq_order_df2.copy()\n",
        "# order_df.to_csv('fashion_train_order_df.csv')"
      ],
      "metadata": {
        "id": "dreMGwBT6qqi"
      },
      "execution_count": null,
      "outputs": []
    },
    {
      "cell_type": "code",
      "source": [
        "order_df.head()"
      ],
      "metadata": {
        "id": "9jOyn44o6qup"
      },
      "execution_count": null,
      "outputs": []
    },
    {
      "cell_type": "code",
      "source": [
        "order_df.info()"
      ],
      "metadata": {
        "id": "vfRS-jFY6qwR"
      },
      "execution_count": null,
      "outputs": []
    },
    {
      "cell_type": "code",
      "source": [
        "# plotting the distribution of returned quantity of items\n",
        "plt.figure(figsize=(10,6))\n",
        "order_df['returnQuantity'].plot.hist(bins=50)\n",
        "plt.title('Distribution of Returned Quantity of Items per Order')\n",
        "plt.xlabel('Items Returned per Order')\n",
        "plt.ylabel('Count of Orders')\n",
        "plt.show()"
      ],
      "metadata": {
        "id": "vl5uBvfz6gye"
      },
      "execution_count": null,
      "outputs": []
    },
    {
      "cell_type": "code",
      "source": [],
      "metadata": {
        "id": "IBjboGGu8HiL"
      },
      "execution_count": null,
      "outputs": []
    },
    {
      "cell_type": "code",
      "source": [],
      "metadata": {
        "id": "2sOz1iX68HmG"
      },
      "execution_count": null,
      "outputs": []
    },
    {
      "cell_type": "markdown",
      "source": [
        "# Making the \"customers_df\""
      ],
      "metadata": {
        "id": "f0zFXFBS9aaW"
      }
    },
    {
      "cell_type": "code",
      "source": [
        "order_df.head()"
      ],
      "metadata": {
        "id": "l0DScwZW9fz1"
      },
      "execution_count": null,
      "outputs": []
    },
    {
      "cell_type": "code",
      "source": [
        "def unique_count(vec):\n",
        "    sett = set()\n",
        "    for elt in vec:\n",
        "        sett.add(elt)\n",
        "    return len(sett)"
      ],
      "metadata": {
        "id": "EPpd-FBH9f_B"
      },
      "execution_count": null,
      "outputs": []
    },
    {
      "cell_type": "code",
      "source": [
        "customers_df = order_df.groupby(by='customerID', as_index=False).agg({'orderID': unique_count,\n",
        "                                                                    'orderDate': list,\n",
        "                                                                    'articleID': list,\n",
        "                                                                    'colorCode': list,\n",
        "                                                                    'productGroup': list,\n",
        "                                                                    'quantity': np.sum,\n",
        "                                                                    'price': np.sum,\n",
        "                                                                    'rrp': np.sum,\n",
        "                                                                    'voucherID': list,\n",
        "                                                                    'voucherAmount': np.sum,\n",
        "                                                                    'paymentMethod': list,\n",
        "                                                                    'returnQuantity': np.sum,\n",
        "                                                                    'bin_return': np.sum})"
      ],
      "metadata": {
        "id": "FQUb5ise9gBf"
      },
      "execution_count": null,
      "outputs": []
    },
    {
      "cell_type": "code",
      "source": [
        "customers_df.head()"
      ],
      "metadata": {
        "id": "TEbS2jDD9gEO"
      },
      "execution_count": null,
      "outputs": []
    },
    {
      "cell_type": "code",
      "source": [
        "# rename columns\n",
        "customers_df.rename(columns={'orderID':'totalOrders', 'quantity':'totalItemsPurchased',\n",
        "                            'price':'totalDollarsPaid', 'rrp':'totalRRP', 'voucherAmount':'totalVoucherValue',\n",
        "                            'returnQuantity':'totalItemsReturned', 'bin_return':'totalOrdersWithReturn'}, inplace = True)\n"
      ],
      "metadata": {
        "id": "9UYLPGDt9yO6"
      },
      "execution_count": null,
      "outputs": []
    },
    {
      "cell_type": "code",
      "source": [
        "customers_df.head()"
      ],
      "metadata": {
        "id": "QR3KnIa29yRW"
      },
      "execution_count": null,
      "outputs": []
    },
    {
      "cell_type": "code",
      "source": [
        "customers_df.info()"
      ],
      "metadata": {
        "id": "WDRpkqZc9yT_"
      },
      "execution_count": null,
      "outputs": []
    },
    {
      "cell_type": "code",
      "source": [
        "# save as a csv\n",
        "# customers_df.to_csv('fashion_train_customers_df.csv')"
      ],
      "metadata": {
        "id": "_I4dw77r9yWi"
      },
      "execution_count": null,
      "outputs": []
    },
    {
      "cell_type": "code",
      "source": [],
      "metadata": {
        "id": "zkxiVC9v9gGo"
      },
      "execution_count": null,
      "outputs": []
    },
    {
      "cell_type": "markdown",
      "source": [
        "## Finding Test Statistics"
      ],
      "metadata": {
        "id": "EQyi13Z1-N0u"
      }
    },
    {
      "cell_type": "markdown",
      "source": [
        "### Does payment method influence return probability?"
      ],
      "metadata": {
        "id": "CVwB8Edl-XmQ"
      }
    },
    {
      "cell_type": "code",
      "source": [
        "paymentMethod_count = order_df.groupby(by='paymentMethod')['orderID'].count()\n",
        "paymentMethod_count"
      ],
      "metadata": {
        "id": "UspDCti0-NSZ"
      },
      "execution_count": null,
      "outputs": []
    },
    {
      "cell_type": "code",
      "source": [
        "returns_by_paymentMethod = order_df.groupby(by='paymentMethod')['bin_return'].sum()\n",
        "returns_by_paymentMethod"
      ],
      "metadata": {
        "id": "9cNH0xwq-Z8P"
      },
      "execution_count": null,
      "outputs": []
    },
    {
      "cell_type": "code",
      "source": [
        "avg_returns_by_PM = returns_by_paymentMethod/paymentMethod_count\n",
        "avg_returns_by_PM"
      ],
      "metadata": {
        "id": "TAG8cL2V-Z-j"
      },
      "execution_count": null,
      "outputs": []
    },
    {
      "cell_type": "code",
      "source": [
        "# plotting\n",
        "plt.figure(figsize=(10,6))\n",
        "x = avg_returns_by_PM.index\n",
        "y = avg_returns_by_PM.values\n",
        "plt.xticks(rotation=45)\n",
        "plt.bar(x,y)\n",
        "plt.title('Probabilities of Return By Payment Method')\n",
        "plt.xlabel('Payment Method')\n",
        "plt.ylabel('Probability')\n",
        "plt.show()"
      ],
      "metadata": {
        "id": "3pBczMn4-aBF"
      },
      "execution_count": null,
      "outputs": []
    },
    {
      "cell_type": "code",
      "source": [],
      "metadata": {
        "id": "IrVFr_N9-kZQ"
      },
      "execution_count": null,
      "outputs": []
    },
    {
      "cell_type": "markdown",
      "source": [
        "### Are orders that use vouchers more or less likely to be returned?"
      ],
      "metadata": {
        "id": "ccGB9EvL-lIy"
      }
    },
    {
      "cell_type": "code",
      "source": [
        "orders_used_voucher_count = order_df.loc[(order_df['voucherAmount']!=0)]['orderID'].count()\n",
        "orders_no_voucher_count = order_df.loc[(order_df['voucherAmount']==0)]['orderID'].count()"
      ],
      "metadata": {
        "id": "SVWhZcQP-kbu"
      },
      "execution_count": null,
      "outputs": []
    },
    {
      "cell_type": "code",
      "source": [
        "voucher_returns = order_df.loc[(order_df['voucherAmount']!=0)]['bin_return'].sum()\n",
        "other_returns = order_df.loc[(order_df['voucherAmount']==0)]['bin_return'].sum()"
      ],
      "metadata": {
        "id": "Nz4BffTs-keP"
      },
      "execution_count": null,
      "outputs": []
    },
    {
      "cell_type": "code",
      "source": [
        "x1 = voucher_returns/orders_used_voucher_count\n",
        "x2 = other_returns/orders_no_voucher_count"
      ],
      "metadata": {
        "id": "eX1i9Qh3-sPW"
      },
      "execution_count": null,
      "outputs": []
    },
    {
      "cell_type": "code",
      "source": [
        "# plotting\n",
        "plt.figure(figsize=(10,6))\n",
        "plt.bar(['voucher used', 'no voucher used'], [x1,x2])\n",
        "plt.title('Probabilities of Return By Voucher Use')\n",
        "plt.xlabel('Voucher Use')\n",
        "plt.ylabel('Probability')\n",
        "plt.show()"
      ],
      "metadata": {
        "id": "L4BXw1hn-sSF"
      },
      "execution_count": null,
      "outputs": []
    },
    {
      "cell_type": "markdown",
      "source": [
        "### Are orders of lower quantities more or less likely to be returned?\n"
      ],
      "metadata": {
        "id": "NTIpv9fJ-2WU"
      }
    },
    {
      "cell_type": "code",
      "source": [
        "# how many orders of each quantity were made\n",
        "quantity_count = order_df.groupby(by='quantity')['orderID'].count()\n",
        "# quantity_count"
      ],
      "metadata": {
        "id": "9SIVK-4M-14C"
      },
      "execution_count": null,
      "outputs": []
    },
    {
      "cell_type": "code",
      "source": [
        "# how many orders of each quantity had at least one returned item\n",
        "count_returns_by_quant = uniq_order_df2.groupby(by='quantity')['bin_return'].sum()\n",
        "# count_returns_by_quant"
      ],
      "metadata": {
        "id": "arCe3A0X-sXD"
      },
      "execution_count": null,
      "outputs": []
    },
    {
      "cell_type": "code",
      "source": [
        "# orders with at least one return / total number of orders\n",
        "avg_returns_by_quant = count_returns_by_quant/quantity_count\n",
        "# avg_returns_by_quant"
      ],
      "metadata": {
        "id": "lyuNNl90-86e"
      },
      "execution_count": null,
      "outputs": []
    },
    {
      "cell_type": "code",
      "source": [
        "plt.figure(figsize=(10,6))\n",
        "x = avg_returns_by_quant.index[:-1]\n",
        "y = avg_returns_by_quant.values[:-1]\n",
        "plt.bar(x,y)\n",
        "plt.title('Probabilities of Return By Order Quantity')\n",
        "plt.xlabel('Order Quantity')\n",
        "plt.ylabel('Probability')\n",
        "plt.show()"
      ],
      "metadata": {
        "id": "8kMJiCvv--8w"
      },
      "execution_count": null,
      "outputs": []
    },
    {
      "cell_type": "code",
      "source": [],
      "metadata": {
        "id": "SRbGCiJE-khb"
      },
      "execution_count": null,
      "outputs": []
    },
    {
      "cell_type": "code",
      "source": [],
      "metadata": {
        "id": "AxeC-_2TOpdc"
      },
      "execution_count": null,
      "outputs": []
    },
    {
      "cell_type": "code",
      "source": [],
      "metadata": {
        "id": "bGhrBXr0Opj5"
      },
      "execution_count": null,
      "outputs": []
    }
  ]
}