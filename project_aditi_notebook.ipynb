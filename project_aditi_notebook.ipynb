{
 "cells": [
  {
   "cell_type": "code",
   "execution_count": null,
   "id": "f67eaeaa-bc04-4a16-ac21-89e23258eae3",
   "metadata": {},
   "outputs": [],
   "source": [
    "import pandas as pd\n",
    "import matplotlib.pyplot as plt\n",
    "import seaborn as sns\n",
    "import numpy as np\n",
    "from mlxtend.frequent_patterns import apriori\n",
    "from mlxtend.frequent_patterns import association_rules\n",
    "from mlxtend.preprocessing import TransactionEncoder\n",
    "from collections import Counter"
   ]
  },
  {
   "cell_type": "markdown",
   "id": "92e80769-e657-433b-9bc2-7c70c4aa04dd",
   "metadata": {
    "jp-MarkdownHeadingCollapsed": true
   },
   "source": [
    "# Section 1 - EDA"
   ]
  },
  {
   "cell_type": "markdown",
   "id": "4060b414-39b2-4aab-b797-b9f17dae557c",
   "metadata": {},
   "source": [
    "### Number of records and attributes"
   ]
  },
  {
   "cell_type": "code",
   "execution_count": 55,
   "id": "35183751-30b8-4922-a485-22b3ded8da4b",
   "metadata": {},
   "outputs": [
    {
     "name": "stdout",
     "output_type": "stream",
     "text": [
      "Number of records between 2014-01-01 to 2015-09-30: 2325165\n",
      "Number of attributes corresponding to a single record 14:\n"
     ]
    },
    {
     "data": {
      "text/html": [
       "<div>\n",
       "<style scoped>\n",
       "    .dataframe tbody tr th:only-of-type {\n",
       "        vertical-align: middle;\n",
       "    }\n",
       "\n",
       "    .dataframe tbody tr th {\n",
       "        vertical-align: top;\n",
       "    }\n",
       "\n",
       "    .dataframe thead th {\n",
       "        text-align: right;\n",
       "    }\n",
       "</style>\n",
       "<table border=\"1\" class=\"dataframe\">\n",
       "  <thead>\n",
       "    <tr style=\"text-align: right;\">\n",
       "      <th></th>\n",
       "      <th>orderID</th>\n",
       "      <th>orderDate</th>\n",
       "      <th>articleID</th>\n",
       "      <th>colorCode</th>\n",
       "      <th>sizeCode</th>\n",
       "      <th>productGroup</th>\n",
       "      <th>quantity</th>\n",
       "      <th>price</th>\n",
       "      <th>rrp</th>\n",
       "      <th>voucherID</th>\n",
       "      <th>voucherAmount</th>\n",
       "      <th>customerID</th>\n",
       "      <th>deviceID</th>\n",
       "      <th>paymentMethod</th>\n",
       "      <th>returnQuantity</th>\n",
       "    </tr>\n",
       "  </thead>\n",
       "  <tbody>\n",
       "    <tr>\n",
       "      <th>0</th>\n",
       "      <td>a1000001</td>\n",
       "      <td>2014-01-01</td>\n",
       "      <td>i1000382</td>\n",
       "      <td>1972</td>\n",
       "      <td>44</td>\n",
       "      <td>3.0</td>\n",
       "      <td>1</td>\n",
       "      <td>10.00</td>\n",
       "      <td>29.99</td>\n",
       "      <td>0</td>\n",
       "      <td>0.0</td>\n",
       "      <td>c1010575</td>\n",
       "      <td>2</td>\n",
       "      <td>BPRG</td>\n",
       "      <td>0</td>\n",
       "    </tr>\n",
       "    <tr>\n",
       "      <th>1</th>\n",
       "      <td>a1000001</td>\n",
       "      <td>2014-01-01</td>\n",
       "      <td>i1000550</td>\n",
       "      <td>3854</td>\n",
       "      <td>44</td>\n",
       "      <td>3.0</td>\n",
       "      <td>1</td>\n",
       "      <td>20.00</td>\n",
       "      <td>39.99</td>\n",
       "      <td>0</td>\n",
       "      <td>0.0</td>\n",
       "      <td>c1010575</td>\n",
       "      <td>2</td>\n",
       "      <td>BPRG</td>\n",
       "      <td>0</td>\n",
       "    </tr>\n",
       "    <tr>\n",
       "      <th>2</th>\n",
       "      <td>a1000002</td>\n",
       "      <td>2014-01-01</td>\n",
       "      <td>i1001991</td>\n",
       "      <td>2974</td>\n",
       "      <td>38</td>\n",
       "      <td>8.0</td>\n",
       "      <td>1</td>\n",
       "      <td>35.00</td>\n",
       "      <td>49.99</td>\n",
       "      <td>0</td>\n",
       "      <td>0.0</td>\n",
       "      <td>c1045905</td>\n",
       "      <td>4</td>\n",
       "      <td>BPRG</td>\n",
       "      <td>0</td>\n",
       "    </tr>\n",
       "    <tr>\n",
       "      <th>3</th>\n",
       "      <td>a1000002</td>\n",
       "      <td>2014-01-01</td>\n",
       "      <td>i1001999</td>\n",
       "      <td>1992</td>\n",
       "      <td>38</td>\n",
       "      <td>8.0</td>\n",
       "      <td>1</td>\n",
       "      <td>49.99</td>\n",
       "      <td>49.99</td>\n",
       "      <td>0</td>\n",
       "      <td>0.0</td>\n",
       "      <td>c1045905</td>\n",
       "      <td>4</td>\n",
       "      <td>BPRG</td>\n",
       "      <td>1</td>\n",
       "    </tr>\n",
       "    <tr>\n",
       "      <th>4</th>\n",
       "      <td>a1000003</td>\n",
       "      <td>2014-01-01</td>\n",
       "      <td>i1001942</td>\n",
       "      <td>1968</td>\n",
       "      <td>42</td>\n",
       "      <td>8.0</td>\n",
       "      <td>1</td>\n",
       "      <td>10.00</td>\n",
       "      <td>35.99</td>\n",
       "      <td>0</td>\n",
       "      <td>0.0</td>\n",
       "      <td>c1089295</td>\n",
       "      <td>2</td>\n",
       "      <td>PAYPALVC</td>\n",
       "      <td>0</td>\n",
       "    </tr>\n",
       "  </tbody>\n",
       "</table>\n",
       "</div>"
      ],
      "text/plain": [
       "    orderID   orderDate articleID  colorCode sizeCode  productGroup  quantity  \\\n",
       "0  a1000001  2014-01-01  i1000382       1972       44           3.0         1   \n",
       "1  a1000001  2014-01-01  i1000550       3854       44           3.0         1   \n",
       "2  a1000002  2014-01-01  i1001991       2974       38           8.0         1   \n",
       "3  a1000002  2014-01-01  i1001999       1992       38           8.0         1   \n",
       "4  a1000003  2014-01-01  i1001942       1968       42           8.0         1   \n",
       "\n",
       "   price    rrp voucherID  voucherAmount customerID  deviceID paymentMethod  \\\n",
       "0  10.00  29.99         0            0.0   c1010575         2          BPRG   \n",
       "1  20.00  39.99         0            0.0   c1010575         2          BPRG   \n",
       "2  35.00  49.99         0            0.0   c1045905         4          BPRG   \n",
       "3  49.99  49.99         0            0.0   c1045905         4          BPRG   \n",
       "4  10.00  35.99         0            0.0   c1089295         2      PAYPALVC   \n",
       "\n",
       "   returnQuantity  \n",
       "0               0  \n",
       "1               0  \n",
       "2               0  \n",
       "3               1  \n",
       "4               0  "
      ]
     },
     "execution_count": 55,
     "metadata": {},
     "output_type": "execute_result"
    }
   ],
   "source": [
    "data = pd.read_csv('/Users/aditi/Documents/Spring_24/Data_Mining/Project/data/orders_train.txt', sep=';')\n",
    "print('Number of records between {} to {}: {}'.format(data['orderDate'].iloc[0], data['orderDate'].iloc[-1], len(data)))\n",
    "print('Number of attributes corresponding to a single record {}:'.format(data.shape[1]-1))\n",
    "data.head()\n",
    "\n"
   ]
  },
  {
   "cell_type": "markdown",
   "id": "4fc2d9df-774c-42ea-a728-eccfad732cdc",
   "metadata": {},
   "source": [
    "### Data types and statistics"
   ]
  },
  {
   "cell_type": "code",
   "execution_count": 56,
   "id": "663b021b-5f8e-4cfb-b20e-007131ac5fe4",
   "metadata": {},
   "outputs": [
    {
     "name": "stdout",
     "output_type": "stream",
     "text": [
      "<class 'pandas.core.frame.DataFrame'>\n",
      "RangeIndex: 2325165 entries, 0 to 2325164\n",
      "Data columns (total 15 columns):\n",
      " #   Column          Dtype  \n",
      "---  ------          -----  \n",
      " 0   orderID         object \n",
      " 1   orderDate       object \n",
      " 2   articleID       object \n",
      " 3   colorCode       int64  \n",
      " 4   sizeCode        object \n",
      " 5   productGroup    float64\n",
      " 6   quantity        int64  \n",
      " 7   price           float64\n",
      " 8   rrp             float64\n",
      " 9   voucherID       object \n",
      " 10  voucherAmount   float64\n",
      " 11  customerID      object \n",
      " 12  deviceID        int64  \n",
      " 13  paymentMethod   object \n",
      " 14  returnQuantity  int64  \n",
      "dtypes: float64(4), int64(4), object(7)\n",
      "memory usage: 266.1+ MB\n",
      "None\n"
     ]
    }
   ],
   "source": [
    "# date in YYYY-MM-DD\n",
    "print(data.info())"
   ]
  },
  {
   "cell_type": "markdown",
   "id": "d61b503c-1e1b-4725-9db0-82c3e8f59052",
   "metadata": {},
   "source": [
    "### Missing values and improper records"
   ]
  },
  {
   "cell_type": "code",
   "execution_count": 57,
   "id": "6d39ee8b-fc88-4092-bd5c-6c5eead0efa1",
   "metadata": {},
   "outputs": [
    {
     "name": "stdout",
     "output_type": "stream",
     "text": [
      "orderID             0\n",
      "orderDate           0\n",
      "articleID           0\n",
      "colorCode           0\n",
      "sizeCode            0\n",
      "productGroup      351\n",
      "quantity            0\n",
      "price               0\n",
      "rrp               351\n",
      "voucherID           6\n",
      "voucherAmount       0\n",
      "customerID          0\n",
      "deviceID            0\n",
      "paymentMethod       0\n",
      "returnQuantity      0\n",
      "dtype: int64\n",
      "(2324812, 15)\n"
     ]
    }
   ],
   "source": [
    "#check NA values\n",
    "print(data.isna().sum())\n",
    "#drop NA values since not a significant number of records contain NA\n",
    "data = data.dropna()\n",
    "\n",
    "print(data.shape)"
   ]
  },
  {
   "cell_type": "code",
   "execution_count": 58,
   "id": "4f0ff714-e628-41d7-9dae-3b812f2e2a74",
   "metadata": {},
   "outputs": [
    {
     "data": {
      "text/plain": [
       "(2277968, 15)"
      ]
     },
     "execution_count": 58,
     "metadata": {},
     "output_type": "execute_result"
    }
   ],
   "source": [
    "# records with \n",
    "data = data.rename(columns={'price':'orderPrice', 'rrp':'retailPrice'})\n",
    "drop_idx = data[(data['quantity']==0) |  (data['orderPrice']==0) | (data['quantity']<data['returnQuantity']) ].index\n",
    "data = data.drop(drop_idx)\n",
    "data.shape"
   ]
  },
  {
   "cell_type": "code",
   "execution_count": null,
   "id": "884b4a22-6cf4-42a2-926e-f62e4fb847bc",
   "metadata": {},
   "outputs": [],
   "source": [
    "data.groupby('orderID')[['quantity',  'orderPrice', 'returnQuantity']].sum().describe().iloc[1:, :]"
   ]
  },
  {
   "cell_type": "markdown",
   "id": "467dddc4-7745-4401-b807-6c1793f9e822",
   "metadata": {},
   "source": [
    "### Temporal Analysis"
   ]
  },
  {
   "cell_type": "code",
   "execution_count": null,
   "id": "b86b2254-8bc6-42b7-8a71-010fa1b75524",
   "metadata": {},
   "outputs": [],
   "source": [
    "data[['year', 'month', 'day']] = data['orderDate'].str.split('-', expand=True)"
   ]
  },
  {
   "cell_type": "code",
   "execution_count": null,
   "id": "4abed7d2-4664-4a9b-a10a-ea9ef4bfd062",
   "metadata": {},
   "outputs": [],
   "source": [
    "monthlySale = data.groupby(['month', 'day', 'year'])['quantity'].sum().reset_index()"
   ]
  },
  {
   "cell_type": "code",
   "execution_count": null,
   "id": "8a4336fe-8ef4-4bcb-b038-5fadde24dbb1",
   "metadata": {},
   "outputs": [],
   "source": [
    "plt.figure(figsize=(14, 8))\n",
    "sns.swarmplot(x='month', y='quantity', data=monthlySale, hue = 'year', dodge=True)\n",
    "sns.boxplot(x='month', y='quantity', data=monthlySale, hue = 'year', dodge=True)\n",
    "plt.show()"
   ]
  },
  {
   "cell_type": "code",
   "execution_count": null,
   "id": "f542fea9-0c99-414a-a9a1-06b3fab29caa",
   "metadata": {},
   "outputs": [],
   "source": [
    "monthlyReturn = data.groupby(['month', 'day', 'year'])['returnQuantity'].sum().reset_index()\n",
    "plt.figure(figsize=(14, 8))\n",
    "sns.swarmplot(x='month', y='returnQuantity', data=monthlyReturn, hue = 'year', dodge=True)\n",
    "sns.boxplot(x='month', y='returnQuantity', data=monthlyReturn, hue = 'year')\n",
    "plt.show()"
   ]
  },
  {
   "cell_type": "markdown",
   "id": "f25005dd-3a6e-4042-a192-539fc9e4817c",
   "metadata": {},
   "source": [
    "### Return rate analysis"
   ]
  },
  {
   "cell_type": "code",
   "execution_count": null,
   "id": "133d61d4-3816-4a0d-b74c-e1d0539f825b",
   "metadata": {},
   "outputs": [],
   "source": [
    "#return rate by quantity\n",
    "rrq = data['returnQuantity'].sum()/data['quantity'].sum()\n",
    "print(rrq)\n",
    "#return rate by order\n",
    "rro= data[data['returnQuantity']>0].shape[0]/data[data['quantity']>0].shape[0]\n",
    "print(rro)"
   ]
  },
  {
   "cell_type": "markdown",
   "id": "04c2f4f4-919a-49a9-aa7a-6d1f952154d8",
   "metadata": {},
   "source": [
    "### Univariate analysis"
   ]
  },
  {
   "cell_type": "markdown",
   "id": "af67aaa0-1835-4d7d-b286-8a619d5c1824",
   "metadata": {},
   "source": [
    "#### Sizes offered by the retailer"
   ]
  },
  {
   "cell_type": "code",
   "execution_count": null,
   "id": "9d051386-14fd-4fad-abe0-136f88e3a400",
   "metadata": {},
   "outputs": [],
   "source": [
    "sizes = data['sizeCode'].value_counts()\n",
    "sns.barplot(x= sizes.index, y=sizes.values, hue = sizes.index)\n",
    "plt.xticks(rotation=45)\n",
    "plt.ylabel('quantity')\n",
    "plt.show()"
   ]
  },
  {
   "cell_type": "markdown",
   "id": "0ed2a5ef-c564-4444-b095-7bab19dc7fff",
   "metadata": {},
   "source": [
    "#### Sizes bought as a function of unique customers"
   ]
  },
  {
   "cell_type": "code",
   "execution_count": null,
   "id": "ff4b381e-4262-46b8-af7f-ab4c1a7cdf8f",
   "metadata": {},
   "outputs": [],
   "source": [
    "# dropping sizes A and I for now...\n",
    "data = data[~data['sizeCode'].isin(['A', 'I'])]\n",
    "# custm_size = data.groupby('customerID')['sizeCode'].agg(list).reset_index()\n",
    "custm_size = data.groupby('customerID')['sizeCode'].agg(list).reset_index()\n",
    "\n",
    "custm_size['sizeCode'] = custm_size['sizeCode'].apply(lambda x: list(set(x)))\n",
    "custm_size\n"
   ]
  },
  {
   "cell_type": "code",
   "execution_count": null,
   "id": "5e11bb33-302f-41a4-9e8b-6fb5712adf4e",
   "metadata": {},
   "outputs": [],
   "source": [
    "#encode the data\n",
    "encoder = TransactionEncoder() #initialize the encoder\n",
    "ecd_data = encoder.fit(custm_size['sizeCode']).transform(custm_size['sizeCode'])# encoded data\n",
    "\n",
    "# make dataframe of encoded data\n",
    "ecd_df = pd.DataFrame(ecd_data, columns=encoder.columns_)\n",
    "FP = apriori(ecd_df, min_support= 0.00005, use_colnames=True, max_len = 2)\n",
    "rules = association_rules(FP, metric='confidence', min_threshold= 0.001)\n",
    "\n",
    "# rules.to_csv('sizeRules.csv')"
   ]
  },
  {
   "cell_type": "code",
   "execution_count": null,
   "id": "e82b3923-f665-4117-9c43-c757ae3a47b9",
   "metadata": {},
   "outputs": [],
   "source": [
    "rules['antecedents'] = list(map(lambda x: list(x)[0], rules['antecedents']))\n",
    "rules['consequents'] = list(map(lambda x: list(x)[0], rules['consequents']))"
   ]
  },
  {
   "cell_type": "code",
   "execution_count": null,
   "id": "78f69d17-0cc8-433a-83ce-a9a83f40cd95",
   "metadata": {},
   "outputs": [],
   "source": [
    "bold = \"\\033[1m\"\n",
    "reset = \"\\033[0m\"\n",
    "print(bold+'Mapping of other units of sizes to standard sizes between 34 - 44:\\n'+reset)\n",
    "print(bold+'other unit\\t standard unit \\t confidence'+reset)\n",
    "for size in ['75', '80', '85', '90', '95', '100', 'XS', 'S', 'M', 'L', 'XL', '24', '25', '26', '27', '28', '29', '30', '31', '32', '33']:\n",
    "    idx = [rules[rules['antecedents'] == size]['confidence'].idxmax()]\n",
    "    print(rules.iloc[idx]['antecedents'].to_string(index=False), '\\t\\t', rules.iloc[idx]['consequents'].to_string(index=False),\n",
    "          '\\t\\t', rules.iloc[idx]['confidence'].to_string(index=False))\n"
   ]
  },
  {
   "cell_type": "code",
   "execution_count": null,
   "id": "b05c15c8-1e13-400a-bc60-6c8f69bd7200",
   "metadata": {},
   "outputs": [],
   "source": [
    "mapping = {'75':'34', '80': '36', '85': '38', '90': '38', '95': '40', '100': '42', 'XS':'34', 'S': '36',  'M': '38','L':'42',\n",
    "'XL':'42', '24':'34', '25':'34' , '26':'36', '27':'36', '28':'38','29': '38','30':'40','31':'40','32':'42', '33':'42'}\n",
    "for key in mapping.keys():\n",
    "    idx = data['sizeCode']==key\n",
    "    data.loc[idx, 'sizeCode'] = mapping[key]\n",
    "\n"
   ]
  },
  {
   "cell_type": "code",
   "execution_count": null,
   "id": "e181c85e-447d-4101-9769-99ef749d0b36",
   "metadata": {},
   "outputs": [],
   "source": [
    "sizes = data['sizeCode'].value_counts()\n",
    "sns.barplot(x= sizes.index, y=sizes.values, hue=sizes.index)\n",
    "plt.ylabel('quantity')\n",
    "plt.show()"
   ]
  },
  {
   "cell_type": "markdown",
   "id": "7b2fca48-b664-43b5-8132-36800a726af7",
   "metadata": {},
   "source": [
    "### Product Characteristics"
   ]
  },
  {
   "cell_type": "markdown",
   "id": "6fbc362f-3f92-432a-ac63-e41f35ab5c3e",
   "metadata": {},
   "source": [
    "#### Buying and return behavior of customers\n",
    "\n"
   ]
  },
  {
   "cell_type": "markdown",
   "id": "a73fd3b6-c8d5-4738-847f-20da634b016e",
   "metadata": {},
   "source": [
    "Let's visualize the sizes that are most often bought"
   ]
  },
  {
   "cell_type": "code",
   "execution_count": null,
   "id": "fc5ba154-de18-4835-ad3b-054a5901e9fb",
   "metadata": {},
   "outputs": [],
   "source": [
    "sizes_bought = data.groupby('sizeCode')['quantity'].apply(lambda x: sum(list(x))).reset_index()\n",
    "sizes_bought['%'] = sizes_bought['quantity']/data['quantity'].sum()\n",
    "plt.pie(x = sizes_bought['%'], labels = sizes_bought['sizeCode'], autopct='%1.1f%%')\n",
    "plt.title('Distribution of sizes bought by customers')\n",
    "plt.show()\n",
    "del sizes_bought\n",
    "\n"
   ]
  },
  {
   "cell_type": "markdown",
   "id": "6603d14d-5bff-4e28-8778-7c7eb50d8495",
   "metadata": {},
   "source": [
    "Let's visualize the sizes that are most often returned"
   ]
  },
  {
   "cell_type": "code",
   "execution_count": null,
   "id": "250a9b77-46d2-4043-a4a6-c9dbc945955b",
   "metadata": {},
   "outputs": [],
   "source": [
    "return_by_size = data.groupby('sizeCode').agg({'quantity':list, 'returnQuantity':list}).reset_index()\n",
    "return_by_size['% return'] = return_by_size['returnQuantity'].apply(lambda x: sum(x))/return_by_size['quantity'].apply(lambda x: sum(x))\n",
    "top_return_sizes = return_by_size.sort_values(by= '% return', ascending=False).iloc[0:20]\n",
    "plt.plot(top_return_sizes['sizeCode'], top_return_sizes['% return'], 'o', markersize=10)\n",
    "plt.xticks(rotation= 90)\n",
    "plt.show()\n",
    "\n",
    "\n",
    "# top5_return_sizes"
   ]
  },
  {
   "cell_type": "markdown",
   "id": "37611bf5-d32c-4f46-b488-a216da5d719b",
   "metadata": {},
   "source": [
    "Let's visualize the product group that are most often bought"
   ]
  },
  {
   "cell_type": "code",
   "execution_count": null,
   "id": "9173f18a-9d4d-4aeb-a256-4e530477165f",
   "metadata": {},
   "outputs": [],
   "source": [
    "category_bought = data.groupby('productGroup')['quantity'].apply(lambda x: sum(list(x))).reset_index()\n",
    "category_bought['%'] = category_bought['quantity']/data['quantity'].sum()\n",
    "category_bought = category_bought.sort_values(by = '%', ascending = False).iloc[0:10]\n",
    "plt.figure(figsize=(6,6))\n",
    "plt.pie(x = category_bought['%'], labels = category_bought['productGroup'], autopct='%1.1f%%')\n",
    "plt.title('Distribution of prodduct group bought by customers')\n",
    "plt.show()\n",
    "del category_bought\n",
    "\n"
   ]
  },
  {
   "cell_type": "code",
   "execution_count": null,
   "id": "2181a7f3-23d0-4a07-93d1-a516ce44bd48",
   "metadata": {},
   "outputs": [],
   "source": [
    "return_by_category = data.groupby('productGroup').agg({'quantity':list, 'returnQuantity':list}).reset_index()\n",
    "return_by_category['% return'] = return_by_category['returnQuantity'].apply(lambda x: sum(x))/return_by_category['quantity'].apply(lambda x: sum(x))\n",
    "top_return_category = return_by_category.sort_values(by= '% return', ascending=False).iloc[0:10]\n",
    "plt.figure(figsize=(8,4))\n",
    "sns.barplot(y=top_return_category['% return'], x = top_return_category['productGroup'])\n",
    "plt.xticks(rotation= 90)\n",
    "plt.show()"
   ]
  },
  {
   "cell_type": "markdown",
   "id": "8f500c64-4b48-4326-880f-da0e27cf8bf0",
   "metadata": {},
   "source": [
    "#### Features that lead to higher purchase"
   ]
  },
  {
   "cell_type": "code",
   "execution_count": null,
   "id": "0acf3687-8652-4d75-a4e2-e2b5a3425601",
   "metadata": {},
   "outputs": [],
   "source": [
    "print('Total number of unique color codes:', data['colorCode'].nunique())\n",
    "colorcode = data.groupby('articleID')['quantity'].sum().sort_values(ascending= False).reset_index().head(20)\\\n",
    ".merge(data.groupby('articleID')['colorCode'].nunique().sort_values(ascending= False).reset_index().rename(columns={'colorCode': 'uniqueColorCodes'}).head(20), on ='articleID')\n",
    "\n",
    "plt.scatter(x=colorcode['articleID'], y = colorcode['quantity'], s = 15*colorcode['uniqueColorCodes'], c = np.random.rand(len(colorcode)), \\\n",
    "            marker='p', alpha=0.7, cmap  = plt.get_cmap(\"rainbow\"))\n",
    "plt.ylabel('Articles sold')\n",
    "plt.xlabel('Article ID')\n",
    "plt.title('Number of colors offered in top selling articles ')\n",
    "plt.gca().set_facecolor(color='seashell')\n",
    "plt.xticks(rotation=45)\n",
    "plt.show()\n",
    "\n",
    "colorcode"
   ]
  },
  {
   "cell_type": "markdown",
   "id": "1bffb957-a625-4b2d-9511-b9ae391e6d7b",
   "metadata": {},
   "source": [
    "Clearly, articles that are offered in more nunbers of unique colors tend to be purchased more. So, manufacture/retailer can take that into account while building their catalogue"
   ]
  },
  {
   "cell_type": "markdown",
   "id": "a77490cb-af42-488f-9969-17e2dc7b2c3f",
   "metadata": {},
   "source": [
    "### Voucher"
   ]
  },
  {
   "cell_type": "markdown",
   "id": "cb0b4769-1424-422d-aa67-e3e519e8d36f",
   "metadata": {},
   "source": [
    "return rate analysis"
   ]
  },
  {
   "cell_type": "code",
   "execution_count": null,
   "id": "57677b51-83f5-4bf1-b315-afe64c7eb0bb",
   "metadata": {},
   "outputs": [],
   "source": [
    "voucher_yes = data[data['voucherAmount']>0]\n",
    "voucher_no = data[data['voucherAmount'] <= 0]\n",
    "\n",
    "rr_voucher_yes = voucher_yes['returnQuantity'].sum()/ voucher_yes['quantity'].sum()\n",
    "rr_voucher_no = voucher_no['returnQuantity'].sum()/ voucher_no['quantity'].sum()\n",
    "print(rr_voucher_yes,rr_voucher_no)"
   ]
  },
  {
   "cell_type": "markdown",
   "id": "b9c85e5f-8d91-4297-b5ce-a5622e16f021",
   "metadata": {},
   "source": [
    "Does voucher lead to buying of more articles?"
   ]
  },
  {
   "cell_type": "code",
   "execution_count": null,
   "id": "c9d95226-bed3-4063-8098-bbec458d79bb",
   "metadata": {},
   "outputs": [],
   "source": [
    "voucher_yes = (voucher_yes.groupby('orderID')['articleID'].agg(len).reset_index()).rename(columns={'articleID':'numItems'})\n",
    "plt.plot(voucher_yes['numItems'])"
   ]
  },
  {
   "cell_type": "code",
   "execution_count": null,
   "id": "93427cf5-d581-4cd7-9098-8f5d0bb10646",
   "metadata": {},
   "outputs": [],
   "source": [
    "voucher_no = (voucher_no.groupby('orderID')['articleID'].agg(len).reset_index()).rename(columns={'articleID':'numItems'})\n",
    "plt.plot(voucher_no['numItems'])"
   ]
  },
  {
   "cell_type": "code",
   "execution_count": null,
   "id": "abc06d63-c351-47e0-b4b9-596835aa1623",
   "metadata": {},
   "outputs": [],
   "source": [
    "data.groupby('orderID')['quantity'].agg(len).reset_index().sort_values(by = 'quantity', ascending=False)"
   ]
  },
  {
   "cell_type": "code",
   "execution_count": null,
   "id": "f7a92dbf-47c2-4187-9913-9accb6babe87",
   "metadata": {},
   "outputs": [],
   "source": [
    "# make a bar plot with x-axis as range of number of items in an order and y axis the number of orders in these ranges"
   ]
  },
  {
   "cell_type": "code",
   "execution_count": null,
   "id": "9b4c4669-7c61-489b-8803-c36e7b6c8876",
   "metadata": {},
   "outputs": [],
   "source": [
    "uniqueOrders = data.groupby('orderID')[['quantity', 'returnQuantity']].sum().reset_index()\n",
    "\n",
    "\n",
    "\n"
   ]
  },
  {
   "cell_type": "code",
   "execution_count": null,
   "id": "002ee0f6-7ac7-499b-ab7a-10080f67dcbb",
   "metadata": {},
   "outputs": [],
   "source": [
    "fig = plt.figure()\n",
    "axes = fig.add_axes([0.1, 0.1, 0.8, 1.3])\n",
    "axes2 = fig.add_axes([0.35, 0.55, 0.4, 0.8])\n",
    "axes.hist(uniqueOrders['quantity'], bins=range(0, max(uniqueOrders['quantity']), 2), align='left', edgecolor='black', alpha=0.7)\n",
    "axes2.hist(uniqueOrders['quantity'], bins=range(25, max(uniqueOrders['quantity']), 2), align='left', edgecolor='black', alpha=0.7)\n",
    "axes2.set_facecolor('lightgray')\n",
    "fig.show()\n",
    "# plt.hist(uniqueOrders['quantity'], bins=range(0, max(uniqueOrders['quantity']), 2), align='left', edgecolor='black', alpha=0.7)\n",
    "# plt.show()\n"
   ]
  },
  {
   "cell_type": "code",
   "execution_count": null,
   "id": "e091ff2b-1f0f-435f-95bb-094852396f67",
   "metadata": {},
   "outputs": [],
   "source": [
    "uniqueOrders.describe()"
   ]
  },
  {
   "cell_type": "code",
   "execution_count": null,
   "id": "59338222-02e0-49dc-90fb-a8e04e13596f",
   "metadata": {},
   "outputs": [],
   "source": [
    "# do discount analysis \n",
    "data['discountRatio'] = (data['retailPrice']-data['orderPrice']/data['quantity'])/data['retailPrice']"
   ]
  },
  {
   "cell_type": "code",
   "execution_count": null,
   "id": "820fffe1-da8e-4d21-a1af-b29af2c7c848",
   "metadata": {},
   "outputs": [],
   "source": [
    "# Group by productGroup and articleID, then find the row with the maximum quantity for each group\n",
    "max_sold_article = data.groupby(['productGroup', 'articleID'])['quantity'].sum().reset_index()\n",
    "max_sold_article = max_sold_article.loc[max_sold_article.groupby('productGroup')['quantity'].idxmax()]\n",
    "\n",
    "# Display the article that was sold the most in each product group\n",
    "max_sold_article"
   ]
  },
  {
   "cell_type": "code",
   "execution_count": null,
   "id": "712023ba-06ad-41a6-9fe6-17d3d2f5c174",
   "metadata": {},
   "outputs": [],
   "source": [
    "# Group by productGroup and articleID, then find the row with the maximum quantity for each group\n",
    "max_discount_article = data.groupby(['productGroup', 'articleID'])['discountRatio'].mean().reset_index()\n",
    "max_discount_article = max_discount_article.loc[max_discount_article.groupby('productGroup')['discountRatio'].idxmax()]\n",
    "\n",
    "# Display the article that was sold the most in each product group\n",
    "max_discount_article"
   ]
  },
  {
   "cell_type": "code",
   "execution_count": null,
   "id": "8159fc3a-86e1-486d-9cc2-1315d3cbf4b8",
   "metadata": {},
   "outputs": [],
   "source": [
    "max_discount_article = data.groupby(['productGroup', 'year', 'month', 'day', 'articleID'])['discountRatio'].min().reset_index()\n",
    "max_discount_article = max_discount_article.loc[max_discount_article.groupby(['productGroup', 'year', 'month', 'day'])['discountRatio'].idxmin()]\n",
    "\n",
    "# Display the article that was sold the most in each product group\n",
    "max_discount_article"
   ]
  },
  {
   "cell_type": "code",
   "execution_count": null,
   "id": "8d12a9b5-49e6-45a5-8214-74809cab9dc5",
   "metadata": {},
   "outputs": [],
   "source": [
    "# analyze the distribution of discounts across different product groups\n",
    "\n",
    "max_discount_groups = data.groupby(['productGroup', 'month'])['discountRatio'].mean().reset_index()\n",
    "# max_discount_groups = max_discount_article.loc[max_discount_article.groupby(['productGroup', 'year', 'month', 'day'])['discountRatio'].idxmin()]\n",
    "# \n",
    "# Display the article that was sold the most in each product group\n",
    "max_discount_groups\n",
    "\n"
   ]
  },
  {
   "cell_type": "markdown",
   "id": "950ef269-a1a0-495a-9308-8ec507f62998",
   "metadata": {},
   "source": [
    "plt.figure(figsize= (10,5))\n",
    "sns.lineplot(data= max_discount_groups, x ='month', y ='discountRatio', hue=max_discount_groups['productGroup'].astype(str), marker='o') \n",
    "plt.legend(fontsize=8)\n",
    "plt.ylabel('Average discount (%)')\n",
    "plt.show()"
   ]
  },
  {
   "cell_type": "code",
   "execution_count": null,
   "id": "820f5974-5a6b-4385-b386-5291f152df2b",
   "metadata": {},
   "outputs": [],
   "source": [
    "# Group by productGroup and articleID, then find the row with the maximum quantity for each group\n",
    "max_sold_article = data.groupby(['productGroup', 'year', 'month', 'day', 'articleID'])['returnQuantity'].sum().reset_index()\n",
    "max_sold_article = max_sold_article.loc[max_sold_article.groupby(['productGroup', 'year', 'month', 'day'])['returnQuantity'].idxmax()]\n",
    "\n",
    "# Display the article that was sold the most in each product group\n",
    "max_sold_article"
   ]
  },
  {
   "cell_type": "markdown",
   "id": "e9b07bf4-89c7-48e2-8ac7-2e7b0975eb5d",
   "metadata": {},
   "source": [
    "# Section 2- Predictive analysis"
   ]
  },
  {
   "cell_type": "markdown",
   "id": "39594d86-79d5-4d4b-9c1a-8e45d1443c98",
   "metadata": {},
   "source": [
    "## Feature engineering"
   ]
  },
  {
   "cell_type": "code",
   "execution_count": 59,
   "id": "5e236006-326d-44f3-b80a-2f99eb2ce937",
   "metadata": {},
   "outputs": [
    {
     "data": {
      "text/plain": [
       "311165"
      ]
     },
     "execution_count": 59,
     "metadata": {},
     "output_type": "execute_result"
    }
   ],
   "source": [
    "data['customerID'].nunique()"
   ]
  },
  {
   "cell_type": "code",
   "execution_count": 1,
   "id": "6f40d079-6c77-4e64-91f3-8d8fadfd6965",
   "metadata": {},
   "outputs": [],
   "source": [
    "import pandas as pd\n",
    "import matplotlib.pyplot as plt\n",
    "import seaborn as sns\n",
    "import numpy as np\n",
    "from mlxtend.frequent_patterns import apriori\n",
    "from mlxtend.frequent_patterns import association_rules\n",
    "from mlxtend.preprocessing import TransactionEncoder"
   ]
  },
  {
   "cell_type": "code",
   "execution_count": 2,
   "id": "f6a41939-1187-4c50-9747-7e602496b05e",
   "metadata": {},
   "outputs": [
    {
     "name": "stdout",
     "output_type": "stream",
     "text": [
      "Number of records between 2014-01-01 to 2015-09-30: 2325165\n",
      "Number of attributes corresponding to a single record 14:\n",
      "orderID             0\n",
      "orderDate           0\n",
      "articleID           0\n",
      "colorCode           0\n",
      "sizeCode            0\n",
      "productGroup      351\n",
      "quantity            0\n",
      "price               0\n",
      "rrp               351\n",
      "voucherID           6\n",
      "voucherAmount       0\n",
      "customerID          0\n",
      "deviceID            0\n",
      "paymentMethod       0\n",
      "returnQuantity      0\n",
      "dtype: int64\n"
     ]
    },
    {
     "data": {
      "text/plain": [
       "(2273965, 15)"
      ]
     },
     "execution_count": 2,
     "metadata": {},
     "output_type": "execute_result"
    }
   ],
   "source": [
    "## read data\n",
    "data = pd.read_csv('data/orders_train.txt', sep=';')\n",
    "print('Number of records between {} to {}: {}'.format(data['orderDate'].iloc[0], data['orderDate'].iloc[-1], len(data)))\n",
    "print('Number of attributes corresponding to a single record {}:'.format(data.shape[1]-1))\n",
    "data.head()\n",
    "\n",
    "#check NA values\n",
    "print(data.isna().sum())\n",
    "#drop NA values since not a significant number of records contain NA\n",
    "data = data.dropna()\n",
    "\n",
    "## inconsistent records\n",
    "drop_idx = data[(data['quantity']==0) |  (data['price']==0) | (data['quantity']<data['returnQuantity']) | (data['returnQuantity']>1)].index\n",
    "data = data.drop(drop_idx)\n",
    "data.shape\n"
   ]
  },
  {
   "cell_type": "code",
   "execution_count": 3,
   "id": "840ed369-1dee-4d59-81d4-b244b6a397ee",
   "metadata": {},
   "outputs": [],
   "source": [
    "# lower_bound = 0.05\n",
    "# upper_bound = 0.9\n",
    "\n",
    "# columns_to_clean= ['quantity', 'price', 'rrp']\n",
    "\n",
    "\n",
    "# # Calculate the lower and upper bounds based on quantiles for selected columns\n",
    "# # lower_bound_values = data[columns_to_clean].quantile(lower_bound)\n",
    "# upper_bound_values = data[columns_to_clean].quantile(upper_bound)\n",
    "\n",
    "# # Identify outliers in selected columns\n",
    "# # outliers = (data[columns_to_clean] < lower_bound_values) | (data[columns_to_clean] > upper_bound_values)\n",
    "# outliers = data[columns_to_clean] > upper_bound_values\n",
    "\n",
    "# # Remove outliers only in selected columns\n",
    "# cleaned_df = data.copy()\n",
    "# cleaned_df[columns_to_clean] = cleaned_df[columns_to_clean].mask(outliers)\n",
    "# print(data.shape, data.isna().sum())\n",
    "\n",
    "# data = cleaned_df.dropna()\n",
    "# print(data.shape, data.isna().sum())\n",
    "\n",
    "# del cleaned_df"
   ]
  },
  {
   "cell_type": "code",
   "execution_count": 4,
   "id": "1e312081-f878-456f-9f4d-7fd64d4d38f7",
   "metadata": {},
   "outputs": [
    {
     "name": "stdout",
     "output_type": "stream",
     "text": [
      "\u001b[1mMapping of other units of sizes to standard sizes between 34 - 44:\n",
      "\u001b[0m\n",
      "\u001b[1mother unit\t standard unit \t confidence\u001b[0m\n",
      "75 \t\t 34 \t\t 0.698701\n",
      "80 \t\t 36 \t\t 0.692394\n",
      "85 \t\t 38 \t\t 0.659985\n",
      "90 \t\t 38 \t\t 0.647237\n",
      "95 \t\t 40 \t\t 0.67594\n",
      "100 \t\t 42 \t\t 0.698646\n",
      "XS \t\t 34 \t\t 0.625\n",
      "S \t\t 36 \t\t 0.635443\n",
      "M \t\t 38 \t\t 0.626844\n",
      "L \t\t 42 \t\t 0.649412\n",
      "XL \t\t 42 \t\t 0.693878\n",
      "24 \t\t 34 \t\t 0.691057\n",
      "25 \t\t 34 \t\t 0.606014\n",
      "26 \t\t 36 \t\t 0.610127\n",
      "27 \t\t 36 \t\t 0.600448\n",
      "28 \t\t 38 \t\t 0.599376\n",
      "29 \t\t 38 \t\t 0.614545\n",
      "30 \t\t 40 \t\t 0.606704\n",
      "31 \t\t 40 \t\t 0.586554\n",
      "32 \t\t 42 \t\t 0.490561\n",
      "33 \t\t 42 \t\t 0.63235\n"
     ]
    },
    {
     "data": {
      "image/png": "[encoded data removed]",
      "text/plain": [
       "<Figure size 640x480 with 1 Axes>"
      ]
     },
     "metadata": {},
     "output_type": "display_data"
    }
   ],
   "source": [
    "# dropping sizes A and I for now...\n",
    "data = data[~data['sizeCode'].isin(['A', 'I'])]\n",
    "# sizes bought by unique customers\n",
    "custm_size = data.groupby('customerID')['sizeCode'].agg(list).reset_index()\n",
    "custm_size['sizeCode'] = custm_size['sizeCode'].apply(lambda x: list(set(x)))\n",
    "custm_size\n",
    "\n",
    "#encode the data\n",
    "encoder = TransactionEncoder() #initialize the encoder\n",
    "ecd_data = encoder.fit(custm_size['sizeCode']).transform(custm_size['sizeCode'])# encoded data\n",
    "\n",
    "# make dataframe of encoded data\n",
    "ecd_df = pd.DataFrame(ecd_data, columns=encoder.columns_)\n",
    "FP = apriori(ecd_df, min_support= 0.00005, use_colnames=True, max_len = 2)\n",
    "rules = association_rules(FP, metric='confidence', min_threshold= 0.001)\n",
    "\n",
    "rules['antecedents'] = list(map(lambda x: list(x)[0], rules['antecedents']))\n",
    "rules['consequents'] = list(map(lambda x: list(x)[0], rules['consequents']))\n",
    "bold = \"\\033[1m\"\n",
    "reset = \"\\033[0m\"\n",
    "print(bold+'Mapping of other units of sizes to standard sizes between 34 - 44:\\n'+reset)\n",
    "print(bold+'other unit\\t standard unit \\t confidence'+reset)\n",
    "for size in ['75', '80', '85', '90', '95', '100', 'XS', 'S', 'M', 'L', 'XL', '24', '25', '26', '27', '28', '29', '30', '31', '32', '33']:\n",
    "    idx = [rules[rules['antecedents'] == size]['confidence'].idxmax()]\n",
    "    print(rules.iloc[idx]['antecedents'].to_string(index=False), '\\t\\t', rules.iloc[idx]['consequents'].to_string(index=False),\n",
    "          '\\t\\t', rules.iloc[idx]['confidence'].to_string(index=False))\n",
    "\n",
    "\n",
    "mapping = {'75':'34', '80': '36', '85': '38', '90': '38', '95': '40', '100': '42', 'XS':'34', 'S': '36',  'M': '38','L':'42',\n",
    "'XL':'42', '24':'34', '25':'34' , '26':'36', '27':'36', '28':'38','29': '38','30':'40','31':'40','32':'42', '33':'42'}\n",
    "for key in mapping.keys():\n",
    "    idx = data['sizeCode']==key\n",
    "    data.loc[idx, 'sizeCode'] = mapping[key]\n",
    "# new size distribution after mapping different sizes into standard sizes\n",
    "sizes = data['sizeCode'].value_counts()\n",
    "sns.barplot(x= sizes.index, y=sizes.values, hue=sizes.index)\n",
    "plt.ylabel('quantity')\n",
    "plt.show()\n",
    "\n",
    "del custm_size\n",
    "del ecd_df"
   ]
  },
  {
   "cell_type": "code",
   "execution_count": 5,
   "id": "419008c8-e30e-412d-b21f-8ccc66ad1540",
   "metadata": {},
   "outputs": [
    {
     "data": {
      "text/html": [
       "<div>\n",
       "<style scoped>\n",
       "    .dataframe tbody tr th:only-of-type {\n",
       "        vertical-align: middle;\n",
       "    }\n",
       "\n",
       "    .dataframe tbody tr th {\n",
       "        vertical-align: top;\n",
       "    }\n",
       "\n",
       "    .dataframe thead th {\n",
       "        text-align: right;\n",
       "    }\n",
       "</style>\n",
       "<table border=\"1\" class=\"dataframe\">\n",
       "  <thead>\n",
       "    <tr style=\"text-align: right;\">\n",
       "      <th></th>\n",
       "      <th>orderID</th>\n",
       "      <th>orderDate</th>\n",
       "      <th>articleID</th>\n",
       "      <th>colorCode</th>\n",
       "      <th>sizeCode</th>\n",
       "      <th>productGroup</th>\n",
       "      <th>quantity</th>\n",
       "      <th>price</th>\n",
       "      <th>rrp</th>\n",
       "      <th>voucherID</th>\n",
       "      <th>voucherAmount</th>\n",
       "      <th>customerID</th>\n",
       "      <th>deviceID</th>\n",
       "      <th>paymentMethod</th>\n",
       "      <th>returnQuantity</th>\n",
       "      <th>day</th>\n",
       "      <th>month</th>\n",
       "      <th>year</th>\n",
       "      <th>weekend</th>\n",
       "    </tr>\n",
       "  </thead>\n",
       "  <tbody>\n",
       "    <tr>\n",
       "      <th>0</th>\n",
       "      <td>a1000001</td>\n",
       "      <td>2014-01-01</td>\n",
       "      <td>i1000382</td>\n",
       "      <td>1972</td>\n",
       "      <td>44</td>\n",
       "      <td>3.0</td>\n",
       "      <td>1</td>\n",
       "      <td>10.00</td>\n",
       "      <td>29.99</td>\n",
       "      <td>0</td>\n",
       "      <td>0.0</td>\n",
       "      <td>c1010575</td>\n",
       "      <td>2</td>\n",
       "      <td>BPRG</td>\n",
       "      <td>0</td>\n",
       "      <td>1</td>\n",
       "      <td>1</td>\n",
       "      <td>2014</td>\n",
       "      <td>0</td>\n",
       "    </tr>\n",
       "    <tr>\n",
       "      <th>1</th>\n",
       "      <td>a1000001</td>\n",
       "      <td>2014-01-01</td>\n",
       "      <td>i1000550</td>\n",
       "      <td>3854</td>\n",
       "      <td>44</td>\n",
       "      <td>3.0</td>\n",
       "      <td>1</td>\n",
       "      <td>20.00</td>\n",
       "      <td>39.99</td>\n",
       "      <td>0</td>\n",
       "      <td>0.0</td>\n",
       "      <td>c1010575</td>\n",
       "      <td>2</td>\n",
       "      <td>BPRG</td>\n",
       "      <td>0</td>\n",
       "      <td>1</td>\n",
       "      <td>1</td>\n",
       "      <td>2014</td>\n",
       "      <td>0</td>\n",
       "    </tr>\n",
       "    <tr>\n",
       "      <th>2</th>\n",
       "      <td>a1000002</td>\n",
       "      <td>2014-01-01</td>\n",
       "      <td>i1001991</td>\n",
       "      <td>2974</td>\n",
       "      <td>38</td>\n",
       "      <td>8.0</td>\n",
       "      <td>1</td>\n",
       "      <td>35.00</td>\n",
       "      <td>49.99</td>\n",
       "      <td>0</td>\n",
       "      <td>0.0</td>\n",
       "      <td>c1045905</td>\n",
       "      <td>4</td>\n",
       "      <td>BPRG</td>\n",
       "      <td>0</td>\n",
       "      <td>1</td>\n",
       "      <td>1</td>\n",
       "      <td>2014</td>\n",
       "      <td>0</td>\n",
       "    </tr>\n",
       "    <tr>\n",
       "      <th>3</th>\n",
       "      <td>a1000002</td>\n",
       "      <td>2014-01-01</td>\n",
       "      <td>i1001999</td>\n",
       "      <td>1992</td>\n",
       "      <td>38</td>\n",
       "      <td>8.0</td>\n",
       "      <td>1</td>\n",
       "      <td>49.99</td>\n",
       "      <td>49.99</td>\n",
       "      <td>0</td>\n",
       "      <td>0.0</td>\n",
       "      <td>c1045905</td>\n",
       "      <td>4</td>\n",
       "      <td>BPRG</td>\n",
       "      <td>1</td>\n",
       "      <td>1</td>\n",
       "      <td>1</td>\n",
       "      <td>2014</td>\n",
       "      <td>0</td>\n",
       "    </tr>\n",
       "    <tr>\n",
       "      <th>4</th>\n",
       "      <td>a1000003</td>\n",
       "      <td>2014-01-01</td>\n",
       "      <td>i1001942</td>\n",
       "      <td>1968</td>\n",
       "      <td>42</td>\n",
       "      <td>8.0</td>\n",
       "      <td>1</td>\n",
       "      <td>10.00</td>\n",
       "      <td>35.99</td>\n",
       "      <td>0</td>\n",
       "      <td>0.0</td>\n",
       "      <td>c1089295</td>\n",
       "      <td>2</td>\n",
       "      <td>PAYPALVC</td>\n",
       "      <td>0</td>\n",
       "      <td>1</td>\n",
       "      <td>1</td>\n",
       "      <td>2014</td>\n",
       "      <td>0</td>\n",
       "    </tr>\n",
       "  </tbody>\n",
       "</table>\n",
       "</div>"
      ],
      "text/plain": [
       "    orderID  orderDate articleID  colorCode sizeCode  productGroup  quantity  \\\n",
       "0  a1000001 2014-01-01  i1000382       1972       44           3.0         1   \n",
       "1  a1000001 2014-01-01  i1000550       3854       44           3.0         1   \n",
       "2  a1000002 2014-01-01  i1001991       2974       38           8.0         1   \n",
       "3  a1000002 2014-01-01  i1001999       1992       38           8.0         1   \n",
       "4  a1000003 2014-01-01  i1001942       1968       42           8.0         1   \n",
       "\n",
       "   price    rrp voucherID  voucherAmount customerID  deviceID paymentMethod  \\\n",
       "0  10.00  29.99         0            0.0   c1010575         2          BPRG   \n",
       "1  20.00  39.99         0            0.0   c1010575         2          BPRG   \n",
       "2  35.00  49.99         0            0.0   c1045905         4          BPRG   \n",
       "3  49.99  49.99         0            0.0   c1045905         4          BPRG   \n",
       "4  10.00  35.99         0            0.0   c1089295         2      PAYPALVC   \n",
       "\n",
       "   returnQuantity  day  month  year  weekend  \n",
       "0               0    1      1  2014        0  \n",
       "1               0    1      1  2014        0  \n",
       "2               0    1      1  2014        0  \n",
       "3               1    1      1  2014        0  \n",
       "4               0    1      1  2014        0  "
      ]
     },
     "execution_count": 5,
     "metadata": {},
     "output_type": "execute_result"
    }
   ],
   "source": [
    "## extract day, month, year, weekday from orderDate column\n",
    "format = '%Y-%m-%d'\n",
    "data['orderDate'] = pd.to_datetime(data['orderDate'], format=format)\n",
    "\n",
    "# Extracting components\n",
    "data['day'] = data['orderDate'].dt.day\n",
    "data['month'] = data['orderDate'].dt.month\n",
    "data['year'] = data['orderDate'].dt.year\n",
    "data['weekend'] = data['orderDate'].dt.dayofweek\n",
    "data['weekend'] = data['weekend'].apply(lambda x: 0 if 0 <= x <= 4 else 1)\n",
    "data.head()"
   ]
  },
  {
   "cell_type": "code",
   "execution_count": 6,
   "id": "2f2ffb31-1b99-46b2-a6f8-a865bfaf659a",
   "metadata": {},
   "outputs": [],
   "source": [
    "def month_to_quarter(month):\n",
    "    if month in [1, 2, 3]:\n",
    "        return 1\n",
    "    elif month in [4, 5, 6]:\n",
    "        return 2\n",
    "    elif month in [7, 8, 9]:\n",
    "        return 3\n",
    "    else:\n",
    "        return 4\n",
    "\n",
    "# Apply the function to create the quarter column\n",
    "data['quarter'] = data['month'].apply(month_to_quarter)"
   ]
  },
  {
   "cell_type": "markdown",
   "id": "855b239a-5e58-448b-80fb-20a293c8cd77",
   "metadata": {},
   "source": [
    "#### Voucher"
   ]
  },
  {
   "cell_type": "code",
   "execution_count": 7,
   "id": "aa153384-adc8-4c18-baf7-fc9037e1f101",
   "metadata": {},
   "outputs": [],
   "source": [
    "# true price per item taking voucher into account\n",
    "df= pd.DataFrame()\n",
    "\n",
    "data['pricePerItem'] = data['price']/data['quantity']\n",
    "df['totalPrice'] = data.groupby('orderID')['price'].sum()\n",
    "data['totalPrice'] = data['orderID'].map(df['totalPrice'])\n",
    "\n",
    "del df"
   ]
  },
  {
   "cell_type": "code",
   "execution_count": 8,
   "id": "94e18931-b1c3-41e7-8508-3ce6e9006f13",
   "metadata": {},
   "outputs": [],
   "source": [
    "data['truePricePerItem'] =  data['pricePerItem'] - data['voucherAmount']*data['pricePerItem']/data['totalPrice']\n",
    "# data.head()"
   ]
  },
  {
   "cell_type": "markdown",
   "id": "663ca0ca-4e0f-4240-b41e-b2c6b5fbda85",
   "metadata": {},
   "source": [
    "#### Discounts"
   ]
  },
  {
   "cell_type": "code",
   "execution_count": 9,
   "id": "72ff7e55-fb7d-4034-8494-a0ea92e04fd7",
   "metadata": {},
   "outputs": [],
   "source": [
    "# discount on products\n",
    "data['discountPricePerItem'] = data['rrp']- data['pricePerItem']\n",
    "data['discountRatioPerItem'] = (data['rrp']- data['pricePerItem'])/data['rrp']"
   ]
  },
  {
   "cell_type": "markdown",
   "id": "5ed8e374-aa74-4467-90e1-0236da64495c",
   "metadata": {},
   "source": [
    "#### Unique Orders"
   ]
  },
  {
   "cell_type": "code",
   "execution_count": 11,
   "id": "80331e5c-f169-4599-9ac8-b5234def442c",
   "metadata": {},
   "outputs": [],
   "source": [
    "# order features\n",
    "\n",
    "#total quantity of products in an order\n",
    "data['quantityPerOrder'] = data['orderID'].map(data.groupby('orderID')['quantity'].sum())\n",
    "\n",
    "# original order value\n",
    "data['originalValPerOrder'] = data['rrp'] * data['quantity']\n",
    "data['originalValPerOrder'] = data.groupby('orderID')['originalValPerOrder'].transform('sum')\n",
    "\n",
    "\n",
    "# average order value\n",
    "data['avgOrderValue'] = data['totalPrice']/ data['quantityPerOrder']\n",
    "\n",
    "# number of different product groups per order\n",
    "data['productGroupsPerOrder']= data.groupby('orderID')['productGroup'].transform('nunique')\n",
    "\n",
    "# number of different sizes per order\n",
    "data['sizesPerOrder']= data.groupby('orderID')['sizeCode'].transform('nunique')\n",
    "\n",
    "# number of different article per order\n",
    "data['articlesPerOrder']= data['orderID'].map(data.groupby('orderID')['articleID'].nunique())\n",
    "\n",
    "#same articleID in an order\n",
    "df = (data.groupby('orderID')['articleID'].count()> data.groupby('orderID')['articleID'].nunique()).astype(int)\n",
    "data['sameArticleIDPerOrder'] = data['orderID'].map(df)\n",
    "\n",
    "#same productGroup in an order\n",
    "df = (data.groupby('orderID')['productGroup'].count()> data.groupby('orderID')['productGroup'].nunique()).astype(int)\n",
    "data['sameProductGroupPerOrder'] = data['orderID'].map(df)\n",
    "\n",
    "#same colorCode in an order\n",
    "df = (data.groupby('orderID')['colorCode'].count()> data.groupby('orderID')['colorCode'].nunique()).astype(int)\n",
    "data['sameColorCodePerOrder'] = data['orderID'].map(df)\n",
    "\n",
    "#same sizeCode in an order\n",
    "df = (data.groupby('orderID')['sizeCode'].count()> data.groupby('orderID')['sizeCode'].nunique()).astype(int)\n",
    "data['samesizeCodePerOrder'] = data['orderID'].map(df)\n",
    "\n",
    "\n",
    "\n",
    "\n",
    "\n",
    "# Mean recommended retail price per article\n",
    "# data['mean_rrp_per_article'] = data.groupby('articleID')['rrp'].transform('mean')\n",
    "\n",
    "# data['likelihood_of_returning'] = data.groupby('customerID')['returnQuantity'].transform('sum') / data.groupby('customerID')['quantity'].transform('sum') + 0.01* np.random.rand(data.shape[0])\n",
    "\n",
    "del df"
   ]
  },
  {
   "cell_type": "code",
   "execution_count": 12,
   "id": "b10f864d-baed-42da-b75c-64a0613dac0e",
   "metadata": {},
   "outputs": [
    {
     "data": {
      "text/plain": [
       "orderID                     0\n",
       "orderDate                   0\n",
       "articleID                   0\n",
       "colorCode                   0\n",
       "sizeCode                    0\n",
       "productGroup                0\n",
       "quantity                    0\n",
       "price                       0\n",
       "rrp                         0\n",
       "voucherID                   0\n",
       "voucherAmount               0\n",
       "customerID                  0\n",
       "deviceID                    0\n",
       "paymentMethod               0\n",
       "returnQuantity              0\n",
       "day                         0\n",
       "month                       0\n",
       "year                        0\n",
       "weekend                     0\n",
       "quarter                     0\n",
       "pricePerItem                0\n",
       "totalPrice                  0\n",
       "truePricePerItem            0\n",
       "discountPricePerItem        0\n",
       "discountRatioPerItem        0\n",
       "quantityPerOrder            0\n",
       "originalValPerOrder         0\n",
       "avgOrderValue               0\n",
       "productGroupsPerOrder       0\n",
       "sizesPerOrder               0\n",
       "articlesPerOrder            0\n",
       "sameArticleIDPerOrder       0\n",
       "sameProductGroupPerOrder    0\n",
       "sameColorCodePerOrder       0\n",
       "samesizeCodePerOrder        0\n",
       "dtype: int64"
      ]
     },
     "execution_count": 12,
     "metadata": {},
     "output_type": "execute_result"
    }
   ],
   "source": [
    "data.isna().sum()"
   ]
  },
  {
   "cell_type": "markdown",
   "id": "26491255-c1cf-4648-917c-a19ce35d2961",
   "metadata": {},
   "source": [
    "#### Customer"
   ]
  },
  {
   "cell_type": "code",
   "execution_count": 13,
   "id": "55cc9060-dd9b-467b-91cb-50464d20f09f",
   "metadata": {},
   "outputs": [
    {
     "data": {
      "text/html": [
       "<div>\n",
       "<style scoped>\n",
       "    .dataframe tbody tr th:only-of-type {\n",
       "        vertical-align: middle;\n",
       "    }\n",
       "\n",
       "    .dataframe tbody tr th {\n",
       "        vertical-align: top;\n",
       "    }\n",
       "\n",
       "    .dataframe thead th {\n",
       "        text-align: right;\n",
       "    }\n",
       "</style>\n",
       "<table border=\"1\" class=\"dataframe\">\n",
       "  <thead>\n",
       "    <tr style=\"text-align: right;\">\n",
       "      <th></th>\n",
       "      <th>orderID</th>\n",
       "      <th>orderDate</th>\n",
       "      <th>articleID</th>\n",
       "      <th>colorCode</th>\n",
       "      <th>sizeCode</th>\n",
       "      <th>productGroup</th>\n",
       "      <th>quantity</th>\n",
       "      <th>price</th>\n",
       "      <th>rrp</th>\n",
       "      <th>voucherID</th>\n",
       "      <th>...</th>\n",
       "      <th>sameProductGroupPerOrder</th>\n",
       "      <th>sameColorCodePerOrder</th>\n",
       "      <th>samesizeCodePerOrder</th>\n",
       "      <th>totalOrdersPerCustomer</th>\n",
       "      <th>totalProductGroupsPerCustomer</th>\n",
       "      <th>sizeCodePerCustomer</th>\n",
       "      <th>totalColorCodePerCustomer</th>\n",
       "      <th>totalDevicesPerCustomer</th>\n",
       "      <th>aveargeOrderValPerCustomer</th>\n",
       "      <th>aveargeRrpPerCustomer</th>\n",
       "    </tr>\n",
       "  </thead>\n",
       "  <tbody>\n",
       "    <tr>\n",
       "      <th>0</th>\n",
       "      <td>a1000001</td>\n",
       "      <td>2014-01-01</td>\n",
       "      <td>i1000382</td>\n",
       "      <td>1972</td>\n",
       "      <td>44</td>\n",
       "      <td>3.0</td>\n",
       "      <td>1</td>\n",
       "      <td>10.00</td>\n",
       "      <td>29.99</td>\n",
       "      <td>0</td>\n",
       "      <td>...</td>\n",
       "      <td>1</td>\n",
       "      <td>0</td>\n",
       "      <td>1</td>\n",
       "      <td>2</td>\n",
       "      <td>1</td>\n",
       "      <td>1</td>\n",
       "      <td>4</td>\n",
       "      <td>1</td>\n",
       "      <td>28.50</td>\n",
       "      <td>67.98</td>\n",
       "    </tr>\n",
       "    <tr>\n",
       "      <th>1</th>\n",
       "      <td>a1000001</td>\n",
       "      <td>2014-01-01</td>\n",
       "      <td>i1000550</td>\n",
       "      <td>3854</td>\n",
       "      <td>44</td>\n",
       "      <td>3.0</td>\n",
       "      <td>1</td>\n",
       "      <td>20.00</td>\n",
       "      <td>39.99</td>\n",
       "      <td>0</td>\n",
       "      <td>...</td>\n",
       "      <td>1</td>\n",
       "      <td>0</td>\n",
       "      <td>1</td>\n",
       "      <td>2</td>\n",
       "      <td>1</td>\n",
       "      <td>1</td>\n",
       "      <td>4</td>\n",
       "      <td>1</td>\n",
       "      <td>28.50</td>\n",
       "      <td>67.98</td>\n",
       "    </tr>\n",
       "    <tr>\n",
       "      <th>2</th>\n",
       "      <td>a1000002</td>\n",
       "      <td>2014-01-01</td>\n",
       "      <td>i1001991</td>\n",
       "      <td>2974</td>\n",
       "      <td>38</td>\n",
       "      <td>8.0</td>\n",
       "      <td>1</td>\n",
       "      <td>35.00</td>\n",
       "      <td>49.99</td>\n",
       "      <td>0</td>\n",
       "      <td>...</td>\n",
       "      <td>1</td>\n",
       "      <td>0</td>\n",
       "      <td>1</td>\n",
       "      <td>1</td>\n",
       "      <td>1</td>\n",
       "      <td>1</td>\n",
       "      <td>2</td>\n",
       "      <td>1</td>\n",
       "      <td>84.99</td>\n",
       "      <td>99.98</td>\n",
       "    </tr>\n",
       "    <tr>\n",
       "      <th>3</th>\n",
       "      <td>a1000002</td>\n",
       "      <td>2014-01-01</td>\n",
       "      <td>i1001999</td>\n",
       "      <td>1992</td>\n",
       "      <td>38</td>\n",
       "      <td>8.0</td>\n",
       "      <td>1</td>\n",
       "      <td>49.99</td>\n",
       "      <td>49.99</td>\n",
       "      <td>0</td>\n",
       "      <td>...</td>\n",
       "      <td>1</td>\n",
       "      <td>0</td>\n",
       "      <td>1</td>\n",
       "      <td>1</td>\n",
       "      <td>1</td>\n",
       "      <td>1</td>\n",
       "      <td>2</td>\n",
       "      <td>1</td>\n",
       "      <td>84.99</td>\n",
       "      <td>99.98</td>\n",
       "    </tr>\n",
       "    <tr>\n",
       "      <th>4</th>\n",
       "      <td>a1000003</td>\n",
       "      <td>2014-01-01</td>\n",
       "      <td>i1001942</td>\n",
       "      <td>1968</td>\n",
       "      <td>42</td>\n",
       "      <td>8.0</td>\n",
       "      <td>1</td>\n",
       "      <td>10.00</td>\n",
       "      <td>35.99</td>\n",
       "      <td>0</td>\n",
       "      <td>...</td>\n",
       "      <td>1</td>\n",
       "      <td>0</td>\n",
       "      <td>1</td>\n",
       "      <td>1</td>\n",
       "      <td>1</td>\n",
       "      <td>2</td>\n",
       "      <td>4</td>\n",
       "      <td>1</td>\n",
       "      <td>60.00</td>\n",
       "      <td>151.96</td>\n",
       "    </tr>\n",
       "  </tbody>\n",
       "</table>\n",
       "<p>5 rows × 42 columns</p>\n",
       "</div>"
      ],
      "text/plain": [
       "    orderID  orderDate articleID  colorCode sizeCode  productGroup  quantity  \\\n",
       "0  a1000001 2014-01-01  i1000382       1972       44           3.0         1   \n",
       "1  a1000001 2014-01-01  i1000550       3854       44           3.0         1   \n",
       "2  a1000002 2014-01-01  i1001991       2974       38           8.0         1   \n",
       "3  a1000002 2014-01-01  i1001999       1992       38           8.0         1   \n",
       "4  a1000003 2014-01-01  i1001942       1968       42           8.0         1   \n",
       "\n",
       "   price    rrp voucherID  ...  sameProductGroupPerOrder  \\\n",
       "0  10.00  29.99         0  ...                         1   \n",
       "1  20.00  39.99         0  ...                         1   \n",
       "2  35.00  49.99         0  ...                         1   \n",
       "3  49.99  49.99         0  ...                         1   \n",
       "4  10.00  35.99         0  ...                         1   \n",
       "\n",
       "  sameColorCodePerOrder  samesizeCodePerOrder totalOrdersPerCustomer  \\\n",
       "0                     0                     1                      2   \n",
       "1                     0                     1                      2   \n",
       "2                     0                     1                      1   \n",
       "3                     0                     1                      1   \n",
       "4                     0                     1                      1   \n",
       "\n",
       "   totalProductGroupsPerCustomer  sizeCodePerCustomer  \\\n",
       "0                              1                    1   \n",
       "1                              1                    1   \n",
       "2                              1                    1   \n",
       "3                              1                    1   \n",
       "4                              1                    2   \n",
       "\n",
       "   totalColorCodePerCustomer  totalDevicesPerCustomer  \\\n",
       "0                          4                        1   \n",
       "1                          4                        1   \n",
       "2                          2                        1   \n",
       "3                          2                        1   \n",
       "4                          4                        1   \n",
       "\n",
       "   aveargeOrderValPerCustomer  aveargeRrpPerCustomer  \n",
       "0                       28.50                  67.98  \n",
       "1                       28.50                  67.98  \n",
       "2                       84.99                  99.98  \n",
       "3                       84.99                  99.98  \n",
       "4                       60.00                 151.96  \n",
       "\n",
       "[5 rows x 42 columns]"
      ]
     },
     "execution_count": 13,
     "metadata": {},
     "output_type": "execute_result"
    }
   ],
   "source": [
    "## customer features\n",
    "data['totalOrdersPerCustomer'] = data['customerID'].map(data.groupby('customerID')['orderID'].nunique())\n",
    "\n",
    "data['totalProductGroupsPerCustomer'] = data['customerID'].map(data.groupby('customerID')['productGroup'].nunique())\n",
    "\n",
    "data['sizeCodePerCustomer'] = data['customerID'].map(data.groupby('customerID')['sizeCode'].nunique())\n",
    "\n",
    "data['totalColorCodePerCustomer'] = data['customerID'].map(data.groupby('customerID')['colorCode'].nunique())\n",
    "\n",
    "data['totalDevicesPerCustomer'] = data['customerID'].map(data.groupby('customerID')['deviceID'].nunique())\n",
    "\n",
    "df = data.groupby(['customerID', 'orderID'])['price'].sum().reset_index()\n",
    "df = df.groupby(['customerID'])['price'].mean()\n",
    "data['aveargeOrderValPerCustomer'] = data['customerID'].map(df)\n",
    "\n",
    "df = data.groupby(['customerID', 'orderID'])['rrp'].sum().reset_index()\n",
    "df = df.groupby(['customerID'])['rrp'].mean()\n",
    "data['aveargeRrpPerCustomer'] = data['customerID'].map(df)\n",
    "\n",
    "data.head()"
   ]
  },
  {
   "cell_type": "code",
   "execution_count": 14,
   "id": "8037328d-82ec-4d4e-b8a8-0416c5ab598a",
   "metadata": {},
   "outputs": [
    {
     "data": {
      "text/plain": [
       "orderID                          0\n",
       "orderDate                        0\n",
       "articleID                        0\n",
       "colorCode                        0\n",
       "sizeCode                         0\n",
       "productGroup                     0\n",
       "quantity                         0\n",
       "price                            0\n",
       "rrp                              0\n",
       "voucherID                        0\n",
       "voucherAmount                    0\n",
       "customerID                       0\n",
       "deviceID                         0\n",
       "paymentMethod                    0\n",
       "returnQuantity                   0\n",
       "day                              0\n",
       "month                            0\n",
       "year                             0\n",
       "weekend                          0\n",
       "quarter                          0\n",
       "pricePerItem                     0\n",
       "totalPrice                       0\n",
       "truePricePerItem                 0\n",
       "discountPricePerItem             0\n",
       "discountRatioPerItem             0\n",
       "quantityPerOrder                 0\n",
       "originalValPerOrder              0\n",
       "avgOrderValue                    0\n",
       "productGroupsPerOrder            0\n",
       "sizesPerOrder                    0\n",
       "articlesPerOrder                 0\n",
       "sameArticleIDPerOrder            0\n",
       "sameProductGroupPerOrder         0\n",
       "sameColorCodePerOrder            0\n",
       "samesizeCodePerOrder             0\n",
       "totalOrdersPerCustomer           0\n",
       "totalProductGroupsPerCustomer    0\n",
       "sizeCodePerCustomer              0\n",
       "totalColorCodePerCustomer        0\n",
       "totalDevicesPerCustomer          0\n",
       "aveargeOrderValPerCustomer       0\n",
       "aveargeRrpPerCustomer            0\n",
       "dtype: int64"
      ]
     },
     "execution_count": 14,
     "metadata": {},
     "output_type": "execute_result"
    }
   ],
   "source": [
    "data.isna().sum()"
   ]
  },
  {
   "cell_type": "markdown",
   "id": "115db1bd-3ec2-4b08-a197-953eb53e1703",
   "metadata": {},
   "source": [
    "### Articles"
   ]
  },
  {
   "cell_type": "code",
   "execution_count": 17,
   "id": "c31b01ac-ff64-4a13-a023-835a3dc48754",
   "metadata": {},
   "outputs": [],
   "source": [
    "# discounted price per article\n",
    "df = data.groupby('articleID')['discountPricePerItem'].max()\n",
    "data['MaxDiscountPricePerItem'] = data['articleID'].map(df)\n",
    "\n",
    "del df\n",
    "\n",
    "# minimum discounted price per article\n",
    "df = data.groupby('articleID')['discountPricePerItem'].min()\n",
    "data['MinDiscountPricePerItem'] = data['articleID'].map(df)\n",
    "\n",
    "del df\n",
    "\n",
    "# mean discounted price per article\n",
    "df = data.groupby('articleID')['discountPricePerItem'].mean()\n",
    "data['MeanDiscountPricePerItem'] = data['articleID'].map(df)\n",
    "\n",
    "del df"
   ]
  },
  {
   "cell_type": "code",
   "execution_count": null,
   "id": "f7249674-4680-48d6-9cfe-6e915099fb1f",
   "metadata": {},
   "outputs": [],
   "source": []
  },
  {
   "cell_type": "code",
   "execution_count": null,
   "id": "58952733-4ded-4951-acbe-51b29a1d2d11",
   "metadata": {},
   "outputs": [],
   "source": []
  },
  {
   "cell_type": "code",
   "execution_count": null,
   "id": "d4c7bdad-02a1-4ac6-a21f-2dc914b15bfb",
   "metadata": {},
   "outputs": [],
   "source": []
  },
  {
   "cell_type": "code",
   "execution_count": null,
   "id": "8b1ac63c-dc14-45f3-b363-f60a6047fc93",
   "metadata": {},
   "outputs": [],
   "source": []
  },
  {
   "cell_type": "code",
   "execution_count": null,
   "id": "0de4f56c-e285-4fcb-b447-e6f3aed56168",
   "metadata": {},
   "outputs": [],
   "source": []
  },
  {
   "cell_type": "code",
   "execution_count": null,
   "id": "2e74d5d1-a8fe-4171-ac5d-6dce5e30ad6c",
   "metadata": {},
   "outputs": [],
   "source": []
  },
  {
   "cell_type": "code",
   "execution_count": null,
   "id": "7150aa72-85f7-4be5-8070-01f7ea588ae2",
   "metadata": {},
   "outputs": [],
   "source": []
  },
  {
   "cell_type": "markdown",
   "id": "a17f6c6c-2f5d-4166-bdc4-40095318a611",
   "metadata": {},
   "source": [
    "# Section- 3 Modeling\n"
   ]
  },
  {
   "cell_type": "code",
   "execution_count": 18,
   "id": "c61a9bfc-5a8e-4a58-8832-89c1ce01bef6",
   "metadata": {},
   "outputs": [],
   "source": [
    "# import libararies\n",
    "from sklearn.model_selection import train_test_split\n",
    "import graphviz\n",
    "from sklearn.metrics import accuracy_score, classification_report\n",
    "from sklearn.metrics import confusion_matrix, ConfusionMatrixDisplay\n",
    "from sklearn.linear_model import LogisticRegression\n",
    "from sklearn.neighbors import KNeighborsClassifier\n",
    "from sklearn import tree\n",
    "from sklearn.metrics import precision_score, recall_score, f1_score\n",
    "from sklearn.svm import SVC\n",
    "import matplotlib.pyplot as plt\n",
    "import seaborn as sns\n",
    "from imblearn.under_sampling import RandomUnderSampler\n",
    "from imblearn.over_sampling import RandomOverSampler\n",
    "from sklearn.preprocessing import MinMaxScaler\n",
    "from sklearn.cluster import KMeans\n",
    "from sklearn.preprocessing import StandardScaler"
   ]
  },
  {
   "cell_type": "code",
   "execution_count": 19,
   "id": "bda7dac0-29d6-4b33-9a9e-32428e0c8b3c",
   "metadata": {},
   "outputs": [
    {
     "name": "stdout",
     "output_type": "stream",
     "text": [
      "<class 'pandas.core.frame.DataFrame'>\n",
      "Index: 2132990 entries, 0 to 2325164\n",
      "Data columns (total 45 columns):\n",
      " #   Column                         Dtype         \n",
      "---  ------                         -----         \n",
      " 0   orderID                        object        \n",
      " 1   orderDate                      datetime64[ns]\n",
      " 2   articleID                      object        \n",
      " 3   colorCode                      int64         \n",
      " 4   sizeCode                       object        \n",
      " 5   productGroup                   float64       \n",
      " 6   quantity                       int64         \n",
      " 7   price                          float64       \n",
      " 8   rrp                            float64       \n",
      " 9   voucherID                      object        \n",
      " 10  voucherAmount                  float64       \n",
      " 11  customerID                     object        \n",
      " 12  deviceID                       int64         \n",
      " 13  paymentMethod                  object        \n",
      " 14  returnQuantity                 int64         \n",
      " 15  day                            int32         \n",
      " 16  month                          int32         \n",
      " 17  year                           int32         \n",
      " 18  weekend                        int64         \n",
      " 19  quarter                        int64         \n",
      " 20  pricePerItem                   float64       \n",
      " 21  totalPrice                     float64       \n",
      " 22  truePricePerItem               float64       \n",
      " 23  discountPricePerItem           float64       \n",
      " 24  discountRatioPerItem           float64       \n",
      " 25  quantityPerOrder               int64         \n",
      " 26  originalValPerOrder            float64       \n",
      " 27  avgOrderValue                  float64       \n",
      " 28  productGroupsPerOrder          int64         \n",
      " 29  sizesPerOrder                  int64         \n",
      " 30  articlesPerOrder               int64         \n",
      " 31  sameArticleIDPerOrder          int64         \n",
      " 32  sameProductGroupPerOrder       int64         \n",
      " 33  sameColorCodePerOrder          int64         \n",
      " 34  samesizeCodePerOrder           int64         \n",
      " 35  totalOrdersPerCustomer         int64         \n",
      " 36  totalProductGroupsPerCustomer  int64         \n",
      " 37  sizeCodePerCustomer            int64         \n",
      " 38  totalColorCodePerCustomer      int64         \n",
      " 39  totalDevicesPerCustomer        int64         \n",
      " 40  aveargeOrderValPerCustomer     float64       \n",
      " 41  aveargeRrpPerCustomer          float64       \n",
      " 42  MaxDiscountPricePerItem        float64       \n",
      " 43  MinDiscountPricePerItem        float64       \n",
      " 44  MeanDiscountPricePerItem       float64       \n",
      "dtypes: datetime64[ns](1), float64(16), int32(3), int64(19), object(6)\n",
      "memory usage: 724.2+ MB\n"
     ]
    }
   ],
   "source": [
    "data.info()"
   ]
  },
  {
   "cell_type": "code",
   "execution_count": 20,
   "id": "7d6ef2ee-bd5c-4b44-9f23-ce047f8b380e",
   "metadata": {},
   "outputs": [
    {
     "data": {
      "text/html": [
       "<div>\n",
       "<style scoped>\n",
       "    .dataframe tbody tr th:only-of-type {\n",
       "        vertical-align: middle;\n",
       "    }\n",
       "\n",
       "    .dataframe tbody tr th {\n",
       "        vertical-align: top;\n",
       "    }\n",
       "\n",
       "    .dataframe thead th {\n",
       "        text-align: right;\n",
       "    }\n",
       "</style>\n",
       "<table border=\"1\" class=\"dataframe\">\n",
       "  <thead>\n",
       "    <tr style=\"text-align: right;\">\n",
       "      <th></th>\n",
       "      <th>customerID</th>\n",
       "      <th>totalOrdersPerCustomer</th>\n",
       "      <th>sizeCodePerCustomer</th>\n",
       "      <th>totalDevicesPerCustomer</th>\n",
       "      <th>aveargeOrderValPerCustomer</th>\n",
       "    </tr>\n",
       "  </thead>\n",
       "  <tbody>\n",
       "    <tr>\n",
       "      <th>0</th>\n",
       "      <td>c1010575</td>\n",
       "      <td>2</td>\n",
       "      <td>1</td>\n",
       "      <td>1</td>\n",
       "      <td>28.50</td>\n",
       "    </tr>\n",
       "    <tr>\n",
       "      <th>2</th>\n",
       "      <td>c1045905</td>\n",
       "      <td>1</td>\n",
       "      <td>1</td>\n",
       "      <td>1</td>\n",
       "      <td>84.99</td>\n",
       "    </tr>\n",
       "    <tr>\n",
       "      <th>4</th>\n",
       "      <td>c1089295</td>\n",
       "      <td>1</td>\n",
       "      <td>2</td>\n",
       "      <td>1</td>\n",
       "      <td>60.00</td>\n",
       "    </tr>\n",
       "    <tr>\n",
       "      <th>9</th>\n",
       "      <td>c1050116</td>\n",
       "      <td>1</td>\n",
       "      <td>1</td>\n",
       "      <td>1</td>\n",
       "      <td>89.99</td>\n",
       "    </tr>\n",
       "    <tr>\n",
       "      <th>10</th>\n",
       "      <td>c1089296</td>\n",
       "      <td>4</td>\n",
       "      <td>3</td>\n",
       "      <td>1</td>\n",
       "      <td>106.75</td>\n",
       "    </tr>\n",
       "    <tr>\n",
       "      <th>...</th>\n",
       "      <td>...</td>\n",
       "      <td>...</td>\n",
       "      <td>...</td>\n",
       "      <td>...</td>\n",
       "      <td>...</td>\n",
       "    </tr>\n",
       "    <tr>\n",
       "      <th>2325057</th>\n",
       "      <td>c1319450</td>\n",
       "      <td>1</td>\n",
       "      <td>1</td>\n",
       "      <td>1</td>\n",
       "      <td>278.79</td>\n",
       "    </tr>\n",
       "    <tr>\n",
       "      <th>2325099</th>\n",
       "      <td>c1319460</td>\n",
       "      <td>1</td>\n",
       "      <td>3</td>\n",
       "      <td>1</td>\n",
       "      <td>474.91</td>\n",
       "    </tr>\n",
       "    <tr>\n",
       "      <th>2325138</th>\n",
       "      <td>c1319461</td>\n",
       "      <td>1</td>\n",
       "      <td>2</td>\n",
       "      <td>1</td>\n",
       "      <td>479.93</td>\n",
       "    </tr>\n",
       "    <tr>\n",
       "      <th>2325152</th>\n",
       "      <td>c1319457</td>\n",
       "      <td>1</td>\n",
       "      <td>1</td>\n",
       "      <td>1</td>\n",
       "      <td>129.98</td>\n",
       "    </tr>\n",
       "    <tr>\n",
       "      <th>2325155</th>\n",
       "      <td>c1319454</td>\n",
       "      <td>1</td>\n",
       "      <td>2</td>\n",
       "      <td>1</td>\n",
       "      <td>159.97</td>\n",
       "    </tr>\n",
       "  </tbody>\n",
       "</table>\n",
       "<p>306721 rows × 5 columns</p>\n",
       "</div>"
      ],
      "text/plain": [
       "        customerID  totalOrdersPerCustomer  sizeCodePerCustomer  \\\n",
       "0         c1010575                       2                    1   \n",
       "2         c1045905                       1                    1   \n",
       "4         c1089295                       1                    2   \n",
       "9         c1050116                       1                    1   \n",
       "10        c1089296                       4                    3   \n",
       "...            ...                     ...                  ...   \n",
       "2325057   c1319450                       1                    1   \n",
       "2325099   c1319460                       1                    3   \n",
       "2325138   c1319461                       1                    2   \n",
       "2325152   c1319457                       1                    1   \n",
       "2325155   c1319454                       1                    2   \n",
       "\n",
       "         totalDevicesPerCustomer  aveargeOrderValPerCustomer  \n",
       "0                              1                       28.50  \n",
       "2                              1                       84.99  \n",
       "4                              1                       60.00  \n",
       "9                              1                       89.99  \n",
       "10                             1                      106.75  \n",
       "...                          ...                         ...  \n",
       "2325057                        1                      278.79  \n",
       "2325099                        1                      474.91  \n",
       "2325138                        1                      479.93  \n",
       "2325152                        1                      129.98  \n",
       "2325155                        1                      159.97  \n",
       "\n",
       "[306721 rows x 5 columns]"
      ]
     },
     "execution_count": 20,
     "metadata": {},
     "output_type": "execute_result"
    }
   ],
   "source": [
    "# cluster customerID into 5 categories to identify 5 types/levels of customers according \n",
    "# to their behavior, and use this categorization as a feature for predicting return quantity.\n",
    "# since one-hot-encoding/label-encoding customerIDs is not a good option.\n",
    "\n",
    "\n",
    "clusteringFeatures = ['customerID',  'totalOrdersPerCustomer', 'sizeCodePerCustomer','totalDevicesPerCustomer', \n",
    "                     'aveargeOrderValPerCustomer']\n",
    "\n",
    "df = data.loc[:, clusteringFeatures]\n",
    "df = df.drop_duplicates()\n",
    "df"
   ]
  },
  {
   "cell_type": "code",
   "execution_count": null,
   "id": "b6d5ec32-7809-4fb1-91a4-2860a1310403",
   "metadata": {},
   "outputs": [],
   "source": []
  },
  {
   "cell_type": "code",
   "execution_count": 21,
   "id": "eeb35aec-68bf-4382-81f4-6dae4417d343",
   "metadata": {},
   "outputs": [
    {
     "name": "stderr",
     "output_type": "stream",
     "text": [
      "/Library/Frameworks/Python.framework/Versions/3.11/lib/python3.11/site-packages/sklearn/cluster/_kmeans.py:1416: FutureWarning: The default value of `n_init` will change from 10 to 'auto' in 1.4. Set the value of `n_init` explicitly to suppress the warning\n",
      "  super()._check_params_vs_input(X, default_n_init=10)\n"
     ]
    }
   ],
   "source": [
    "from sklearn.preprocessing import StandardScaler\n",
    "from sklearn.compose import ColumnTransformer\n",
    "from sklearn.cluster import KMeans\n",
    "import pandas as pd\n",
    "\n",
    "# Preprocessing\n",
    "preprocessor = ColumnTransformer(\n",
    "    transformers=[\n",
    "        ('scaling', StandardScaler(), clusteringFeatures[1:])],\n",
    "    remainder='passthrough')\n",
    "\n",
    "# Apply preprocessing\n",
    "df_scaled = preprocessor.fit_transform(df.iloc[:, 1:])\n",
    "\n",
    "# Clustering using KMeans\n",
    "kmeans = KMeans(n_clusters=5, random_state=0)\n",
    "clusters = kmeans.fit_predict(df_scaled)\n",
    "\n",
    "# Add cluster labels to the DataFrame\n",
    "df['cluster'] = clusters\n",
    "\n",
    "# Print DataFrame with cluster labels\n",
    "# df\n",
    "\n"
   ]
  },
  {
   "cell_type": "code",
   "execution_count": 22,
   "id": "7d25c72c-f644-4162-923d-0e84caf9188b",
   "metadata": {},
   "outputs": [
    {
     "data": {
      "text/html": [
       "<div>\n",
       "<style scoped>\n",
       "    .dataframe tbody tr th:only-of-type {\n",
       "        vertical-align: middle;\n",
       "    }\n",
       "\n",
       "    .dataframe tbody tr th {\n",
       "        vertical-align: top;\n",
       "    }\n",
       "\n",
       "    .dataframe thead th {\n",
       "        text-align: right;\n",
       "    }\n",
       "</style>\n",
       "<table border=\"1\" class=\"dataframe\">\n",
       "  <thead>\n",
       "    <tr style=\"text-align: right;\">\n",
       "      <th></th>\n",
       "      <th>orderID</th>\n",
       "      <th>orderDate</th>\n",
       "      <th>articleID</th>\n",
       "      <th>colorCode</th>\n",
       "      <th>sizeCode</th>\n",
       "      <th>productGroup</th>\n",
       "      <th>quantity</th>\n",
       "      <th>price</th>\n",
       "      <th>rrp</th>\n",
       "      <th>voucherID</th>\n",
       "      <th>...</th>\n",
       "      <th>totalProductGroupsPerCustomer</th>\n",
       "      <th>sizeCodePerCustomer</th>\n",
       "      <th>totalColorCodePerCustomer</th>\n",
       "      <th>totalDevicesPerCustomer</th>\n",
       "      <th>aveargeOrderValPerCustomer</th>\n",
       "      <th>aveargeRrpPerCustomer</th>\n",
       "      <th>MaxDiscountPricePerItem</th>\n",
       "      <th>MinDiscountPricePerItem</th>\n",
       "      <th>MeanDiscountPricePerItem</th>\n",
       "      <th>customerGroup</th>\n",
       "    </tr>\n",
       "  </thead>\n",
       "  <tbody>\n",
       "    <tr>\n",
       "      <th>0</th>\n",
       "      <td>a1000001</td>\n",
       "      <td>2014-01-01</td>\n",
       "      <td>i1000382</td>\n",
       "      <td>1972</td>\n",
       "      <td>44</td>\n",
       "      <td>3.0</td>\n",
       "      <td>1</td>\n",
       "      <td>10.0</td>\n",
       "      <td>29.99</td>\n",
       "      <td>0</td>\n",
       "      <td>...</td>\n",
       "      <td>1</td>\n",
       "      <td>1</td>\n",
       "      <td>4</td>\n",
       "      <td>1</td>\n",
       "      <td>28.50</td>\n",
       "      <td>67.98</td>\n",
       "      <td>19.99</td>\n",
       "      <td>19.99</td>\n",
       "      <td>19.990000</td>\n",
       "      <td>1</td>\n",
       "    </tr>\n",
       "    <tr>\n",
       "      <th>1</th>\n",
       "      <td>a1000001</td>\n",
       "      <td>2014-01-01</td>\n",
       "      <td>i1000550</td>\n",
       "      <td>3854</td>\n",
       "      <td>44</td>\n",
       "      <td>3.0</td>\n",
       "      <td>1</td>\n",
       "      <td>20.0</td>\n",
       "      <td>39.99</td>\n",
       "      <td>0</td>\n",
       "      <td>...</td>\n",
       "      <td>1</td>\n",
       "      <td>1</td>\n",
       "      <td>4</td>\n",
       "      <td>1</td>\n",
       "      <td>28.50</td>\n",
       "      <td>67.98</td>\n",
       "      <td>24.99</td>\n",
       "      <td>19.99</td>\n",
       "      <td>22.466415</td>\n",
       "      <td>1</td>\n",
       "    </tr>\n",
       "    <tr>\n",
       "      <th>2</th>\n",
       "      <td>a1155949</td>\n",
       "      <td>2014-05-27</td>\n",
       "      <td>i1000579</td>\n",
       "      <td>3974</td>\n",
       "      <td>44</td>\n",
       "      <td>3.0</td>\n",
       "      <td>1</td>\n",
       "      <td>9.0</td>\n",
       "      <td>29.99</td>\n",
       "      <td>0</td>\n",
       "      <td>...</td>\n",
       "      <td>1</td>\n",
       "      <td>1</td>\n",
       "      <td>4</td>\n",
       "      <td>1</td>\n",
       "      <td>28.50</td>\n",
       "      <td>67.98</td>\n",
       "      <td>20.99</td>\n",
       "      <td>0.00</td>\n",
       "      <td>12.644338</td>\n",
       "      <td>1</td>\n",
       "    </tr>\n",
       "    <tr>\n",
       "      <th>3</th>\n",
       "      <td>a1155949</td>\n",
       "      <td>2014-05-27</td>\n",
       "      <td>i1000629</td>\n",
       "      <td>1894</td>\n",
       "      <td>44</td>\n",
       "      <td>3.0</td>\n",
       "      <td>1</td>\n",
       "      <td>18.0</td>\n",
       "      <td>35.99</td>\n",
       "      <td>0</td>\n",
       "      <td>...</td>\n",
       "      <td>1</td>\n",
       "      <td>1</td>\n",
       "      <td>4</td>\n",
       "      <td>1</td>\n",
       "      <td>28.50</td>\n",
       "      <td>67.98</td>\n",
       "      <td>25.99</td>\n",
       "      <td>0.00</td>\n",
       "      <td>10.513429</td>\n",
       "      <td>1</td>\n",
       "    </tr>\n",
       "    <tr>\n",
       "      <th>4</th>\n",
       "      <td>a1000002</td>\n",
       "      <td>2014-01-01</td>\n",
       "      <td>i1001991</td>\n",
       "      <td>2974</td>\n",
       "      <td>38</td>\n",
       "      <td>8.0</td>\n",
       "      <td>1</td>\n",
       "      <td>35.0</td>\n",
       "      <td>49.99</td>\n",
       "      <td>0</td>\n",
       "      <td>...</td>\n",
       "      <td>1</td>\n",
       "      <td>1</td>\n",
       "      <td>2</td>\n",
       "      <td>1</td>\n",
       "      <td>84.99</td>\n",
       "      <td>99.98</td>\n",
       "      <td>34.99</td>\n",
       "      <td>14.99</td>\n",
       "      <td>23.532714</td>\n",
       "      <td>1</td>\n",
       "    </tr>\n",
       "  </tbody>\n",
       "</table>\n",
       "<p>5 rows × 46 columns</p>\n",
       "</div>"
      ],
      "text/plain": [
       "    orderID  orderDate articleID  colorCode sizeCode  productGroup  quantity  \\\n",
       "0  a1000001 2014-01-01  i1000382       1972       44           3.0         1   \n",
       "1  a1000001 2014-01-01  i1000550       3854       44           3.0         1   \n",
       "2  a1155949 2014-05-27  i1000579       3974       44           3.0         1   \n",
       "3  a1155949 2014-05-27  i1000629       1894       44           3.0         1   \n",
       "4  a1000002 2014-01-01  i1001991       2974       38           8.0         1   \n",
       "\n",
       "   price    rrp voucherID  ...  totalProductGroupsPerCustomer  \\\n",
       "0   10.0  29.99         0  ...                              1   \n",
       "1   20.0  39.99         0  ...                              1   \n",
       "2    9.0  29.99         0  ...                              1   \n",
       "3   18.0  35.99         0  ...                              1   \n",
       "4   35.0  49.99         0  ...                              1   \n",
       "\n",
       "  sizeCodePerCustomer  totalColorCodePerCustomer totalDevicesPerCustomer  \\\n",
       "0                   1                          4                       1   \n",
       "1                   1                          4                       1   \n",
       "2                   1                          4                       1   \n",
       "3                   1                          4                       1   \n",
       "4                   1                          2                       1   \n",
       "\n",
       "   aveargeOrderValPerCustomer  aveargeRrpPerCustomer  MaxDiscountPricePerItem  \\\n",
       "0                       28.50                  67.98                    19.99   \n",
       "1                       28.50                  67.98                    24.99   \n",
       "2                       28.50                  67.98                    20.99   \n",
       "3                       28.50                  67.98                    25.99   \n",
       "4                       84.99                  99.98                    34.99   \n",
       "\n",
       "   MinDiscountPricePerItem  MeanDiscountPricePerItem  customerGroup  \n",
       "0                    19.99                 19.990000              1  \n",
       "1                    19.99                 22.466415              1  \n",
       "2                     0.00                 12.644338              1  \n",
       "3                     0.00                 10.513429              1  \n",
       "4                    14.99                 23.532714              1  \n",
       "\n",
       "[5 rows x 46 columns]"
      ]
     },
     "execution_count": 22,
     "metadata": {},
     "output_type": "execute_result"
    }
   ],
   "source": [
    "data= pd.merge(data, df.loc[:, ['customerID', 'cluster']], on = 'customerID')\n",
    "data = data.rename(columns={'cluster': 'customerGroup'})\n",
    "data.head()\n"
   ]
  },
  {
   "cell_type": "code",
   "execution_count": 23,
   "id": "d0c0c8ef-d751-40da-8d43-4ff3428e0038",
   "metadata": {},
   "outputs": [],
   "source": [
    "# import matplotlib.pyplot as plt\n",
    "# from mpl_toolkits.mplot3d import Axes3D\n",
    "\n",
    "# # Create a 3D scatter plot\n",
    "# fig = plt.figure()\n",
    "# ax = fig.add_subplot(111, projection='3d')\n",
    "\n",
    "# # Scatter plot with hue\n",
    "# scatter = ax.scatter(df['totalOrdersPerCustomer'], df['totalDevicesPerCustomer'], df['aveargeOrderValPerCustomer'], c=df['cluster'], cmap='viridis')\n",
    "\n",
    "# # Customize plot\n",
    "# ax.set_xlabel('Total Orders Per Customer')\n",
    "# ax.set_ylabel('Size Code Per Customer')\n",
    "# ax.set_zlabel('Average Order Value Per Customer')\n",
    "# ax.set_title('3D Scatter plot of clusters')\n",
    "# plt.legend(*scatter.legend_elements(), title='Cluster')\n",
    "# plt.show()\n",
    "\n",
    "\n",
    "# del df\n"
   ]
  },
  {
   "cell_type": "code",
   "execution_count": 24,
   "id": "4c7d077e-6b37-4cd9-8245-4f025f89ecb3",
   "metadata": {},
   "outputs": [
    {
     "name": "stderr",
     "output_type": "stream",
     "text": [
      "/Library/Frameworks/Python.framework/Versions/3.11/lib/python3.11/site-packages/sklearn/preprocessing/_encoders.py:975: FutureWarning: `sparse` was renamed to `sparse_output` in version 1.2 and will be removed in 1.4. `sparse_output` is ignored unless you leave `sparse` to its default value.\n",
      "  warnings.warn(\n"
     ]
    }
   ],
   "source": [
    "from sklearn.preprocessing import OneHotEncoder\n",
    "\n",
    "# data[['productGroup', 'deviceID',  'customerGroup']] = data[['productGroup', 'deviceID', 'customerGroup']].astype(str)\n",
    "data[['productGroup', 'deviceID']] = data[['productGroup', 'deviceID']].astype(str)\n",
    "\n",
    "# Define columns for one-hot encoding\n",
    "# OHE_feats = ['productGroup', 'deviceID', 'paymentMethod', 'customerGroup']\n",
    "OHE_feats = ['productGroup', 'deviceID', 'paymentMethod']\n",
    "# OHE_feats = ['productGroup', 'paymentMethod']\n",
    "\n",
    "# Perform one-hot encoding\n",
    "encoder = OneHotEncoder(sparse=False, drop='first')\n",
    "encoded_features = encoder.fit_transform(data[OHE_feats])\n",
    "\n",
    "# Create DataFrame with one-hot encoded features\n",
    "df_OHE = pd.DataFrame(encoded_features, columns=encoder.get_feature_names_out(OHE_feats))\n",
    "\n",
    "# Concatenate original DataFrame with one-hot encoded DataFrame\n",
    "data = data.reset_index().drop(columns={'index'})\n",
    "data = pd.concat([data, df_OHE], axis=1)\n",
    "\n",
    "# Remove one-hot encoded DataFrame\n",
    "del df_OHE\n",
    "\n"
   ]
  },
  {
   "cell_type": "code",
   "execution_count": 25,
   "id": "a24231d5-4915-4118-8217-f7ea76d39cc6",
   "metadata": {},
   "outputs": [
    {
     "data": {
      "text/plain": [
       "orderID                   0\n",
       "orderDate                 0\n",
       "articleID                 0\n",
       "colorCode                 0\n",
       "sizeCode                  0\n",
       "                         ..\n",
       "paymentMethod_KKE         0\n",
       "paymentMethod_NN          0\n",
       "paymentMethod_PAYPALVC    0\n",
       "paymentMethod_RG          0\n",
       "paymentMethod_VORAUS      0\n",
       "Length: 73, dtype: int64"
      ]
     },
     "execution_count": 25,
     "metadata": {},
     "output_type": "execute_result"
    }
   ],
   "source": [
    "data.isna().sum()"
   ]
  },
  {
   "cell_type": "code",
   "execution_count": 26,
   "id": "fcaf77fd-45c3-447a-aa41-418926337b6c",
   "metadata": {},
   "outputs": [
    {
     "name": "stdout",
     "output_type": "stream",
     "text": [
      "Mapping of original categories to encoded labels:\n",
      "34 -> 0\n",
      "36 -> 1\n",
      "38 -> 2\n",
      "40 -> 3\n",
      "42 -> 4\n",
      "44 -> 5\n"
     ]
    }
   ],
   "source": [
    "from sklearn.preprocessing import LabelEncoder\n",
    "\n",
    "# Initialize LabelEncoder\n",
    "label_encoder = LabelEncoder()\n",
    "\n",
    "# Fit label encoder and transform 'sizeCode' column\n",
    "data['sizeCode'] = label_encoder.fit_transform(data['sizeCode'])\n",
    "\n",
    "# Check the mapping of original categories to encoded labels\n",
    "print(\"Mapping of original categories to encoded labels:\")\n",
    "for original_category, encoded_label in zip(label_encoder.classes_, label_encoder.transform(label_encoder.classes_)):\n",
    "    print(f\"{original_category} -> {encoded_label}\")\n",
    "\n",
    "\n",
    "data['colorCode_1'] = data['colorCode'].apply(lambda x: int(str(x)[0]))\n",
    "data['colorCode_2'] = data['colorCode'].apply(lambda x: int(str(x)[1]))\n",
    "data['colorCode_3'] = data['colorCode'].apply(lambda x: int(str(x)[2]))\n",
    "data['colorCode_4'] = data['colorCode'].apply(lambda x: int(str(x)[3]))"
   ]
  },
  {
   "cell_type": "code",
   "execution_count": 27,
   "id": "63aeab7f-5a2f-44a8-aeb3-fac5e112c5a2",
   "metadata": {},
   "outputs": [
    {
     "name": "stdout",
     "output_type": "stream",
     "text": [
      "<class 'pandas.core.frame.DataFrame'>\n",
      "RangeIndex: 2132990 entries, 0 to 2132989\n",
      "Data columns (total 57 columns):\n",
      " #   Column                         Dtype  \n",
      "---  ------                         -----  \n",
      " 0   sizeCode                       int64  \n",
      " 1   quantity                       int64  \n",
      " 2   rrp                            float64\n",
      " 3   voucherAmount                  float64\n",
      " 4   returnQuantity                 int64  \n",
      " 5   month                          int32  \n",
      " 6   weekend                        int64  \n",
      " 7   quarter                        int64  \n",
      " 8   pricePerItem                   float64\n",
      " 9   totalPrice                     float64\n",
      " 10  truePricePerItem               float64\n",
      " 11  discountPricePerItem           float64\n",
      " 12  discountRatioPerItem           float64\n",
      " 13  quantityPerOrder               int64  \n",
      " 14  originalValPerOrder            float64\n",
      " 15  avgOrderValue                  float64\n",
      " 16  productGroupsPerOrder          int64  \n",
      " 17  sizesPerOrder                  int64  \n",
      " 18  articlesPerOrder               int64  \n",
      " 19  sameArticleIDPerOrder          int64  \n",
      " 20  sameProductGroupPerOrder       int64  \n",
      " 21  sameColorCodePerOrder          int64  \n",
      " 22  samesizeCodePerOrder           int64  \n",
      " 23  totalOrdersPerCustomer         int64  \n",
      " 24  totalProductGroupsPerCustomer  int64  \n",
      " 25  sizeCodePerCustomer            int64  \n",
      " 26  totalColorCodePerCustomer      int64  \n",
      " 27  totalDevicesPerCustomer        int64  \n",
      " 28  aveargeOrderValPerCustomer     float64\n",
      " 29  aveargeRrpPerCustomer          float64\n",
      " 30  MaxDiscountPricePerItem        float64\n",
      " 31  MinDiscountPricePerItem        float64\n",
      " 32  MeanDiscountPricePerItem       float64\n",
      " 33  customerGroup                  int32  \n",
      " 34  productGroup_13.0              float64\n",
      " 35  productGroup_14.0              float64\n",
      " 36  productGroup_15.0              float64\n",
      " 37  productGroup_17.0              float64\n",
      " 38  productGroup_2.0               float64\n",
      " 39  productGroup_26.0              float64\n",
      " 40  productGroup_3.0               float64\n",
      " 41  productGroup_4.0               float64\n",
      " 42  productGroup_5.0               float64\n",
      " 43  productGroup_50.0              float64\n",
      " 44  productGroup_6.0               float64\n",
      " 45  productGroup_7.0               float64\n",
      " 46  productGroup_8.0               float64\n",
      " 47  productGroup_9.0               float64\n",
      " 48  deviceID_2                     float64\n",
      " 49  deviceID_3                     float64\n",
      " 50  deviceID_4                     float64\n",
      " 51  deviceID_5                     float64\n",
      " 52  paymentMethod_BPRG             float64\n",
      " 53  colorCode_1                    int64  \n",
      " 54  colorCode_2                    int64  \n",
      " 55  colorCode_3                    int64  \n",
      " 56  colorCode_4                    int64  \n",
      "dtypes: float64(33), int32(2), int64(22)\n",
      "memory usage: 911.3 MB\n"
     ]
    }
   ],
   "source": [
    "# drop colunmns\n",
    "final = data.drop(columns={'orderID', 'voucherID', 'orderDate', 'customerID', 'articleID', 'day', 'year', 'colorCode',\n",
    "                          'deviceID', 'paymentMethod', 'productGroup', 'price'}) # month, price, totalPrice\n",
    "final = final.drop(columns={'paymentMethod_BPPL', 'paymentMethod_CBA', 'paymentMethod_KGRG','paymentMethod_KKE','paymentMethod_NN','paymentMethod_PAYPALVC',\n",
    "                           'paymentMethod_RG','paymentMethod_VORAUS', })\n",
    "final.info()"
   ]
  },
  {
   "cell_type": "code",
   "execution_count": 28,
   "id": "6ee84f30-7030-466e-b40d-24ae592d136e",
   "metadata": {},
   "outputs": [
    {
     "data": {
      "text/plain": [
       "sizeCode                         0\n",
       "quantity                         0\n",
       "rrp                              0\n",
       "voucherAmount                    0\n",
       "returnQuantity                   0\n",
       "month                            0\n",
       "weekend                          0\n",
       "quarter                          0\n",
       "pricePerItem                     0\n",
       "totalPrice                       0\n",
       "truePricePerItem                 0\n",
       "discountPricePerItem             0\n",
       "discountRatioPerItem             0\n",
       "quantityPerOrder                 0\n",
       "originalValPerOrder              0\n",
       "avgOrderValue                    0\n",
       "productGroupsPerOrder            0\n",
       "sizesPerOrder                    0\n",
       "articlesPerOrder                 0\n",
       "sameArticleIDPerOrder            0\n",
       "sameProductGroupPerOrder         0\n",
       "sameColorCodePerOrder            0\n",
       "samesizeCodePerOrder             0\n",
       "totalOrdersPerCustomer           0\n",
       "totalProductGroupsPerCustomer    0\n",
       "sizeCodePerCustomer              0\n",
       "totalColorCodePerCustomer        0\n",
       "totalDevicesPerCustomer          0\n",
       "aveargeOrderValPerCustomer       0\n",
       "aveargeRrpPerCustomer            0\n",
       "MaxDiscountPricePerItem          0\n",
       "MinDiscountPricePerItem          0\n",
       "MeanDiscountPricePerItem         0\n",
       "customerGroup                    0\n",
       "productGroup_13.0                0\n",
       "productGroup_14.0                0\n",
       "productGroup_15.0                0\n",
       "productGroup_17.0                0\n",
       "productGroup_2.0                 0\n",
       "productGroup_26.0                0\n",
       "productGroup_3.0                 0\n",
       "productGroup_4.0                 0\n",
       "productGroup_5.0                 0\n",
       "productGroup_50.0                0\n",
       "productGroup_6.0                 0\n",
       "productGroup_7.0                 0\n",
       "productGroup_8.0                 0\n",
       "productGroup_9.0                 0\n",
       "deviceID_2                       0\n",
       "deviceID_3                       0\n",
       "deviceID_4                       0\n",
       "deviceID_5                       0\n",
       "paymentMethod_BPRG               0\n",
       "colorCode_1                      0\n",
       "colorCode_2                      0\n",
       "colorCode_3                      0\n",
       "colorCode_4                      0\n",
       "dtype: int64"
      ]
     },
     "execution_count": 28,
     "metadata": {},
     "output_type": "execute_result"
    }
   ],
   "source": [
    "final.isna().sum()"
   ]
  },
  {
   "cell_type": "code",
   "execution_count": 29,
   "id": "485ebf91-f102-4569-85bf-d0885ecd8582",
   "metadata": {},
   "outputs": [],
   "source": [
    "y = final.pop('returnQuantity')\n",
    "# y.loc[y>0] = 1\n",
    "# y = y.astype(int)\n",
    "X = final"
   ]
  },
  {
   "cell_type": "code",
   "execution_count": 30,
   "id": "d05e5039-0216-4b6a-9ed1-288513a898ae",
   "metadata": {},
   "outputs": [
    {
     "name": "stdout",
     "output_type": "stream",
     "text": [
      "shape of X_train, y_train, X_test, y_test: (1919691, 56), (1919691,),(213299, 56),(213299,)\n"
     ]
    }
   ],
   "source": [
    "X_train, X_test, y_train,  y_test = train_test_split(X, y, test_size = 0.1)\n",
    "print( f\"shape of X_train, y_train, X_test, y_test: {X_train.shape}, {y_train.shape},{X_test.shape},{y_test.shape}\")"
   ]
  },
  {
   "cell_type": "code",
   "execution_count": 31,
   "id": "e21a2a38-ff16-4ebb-987e-473c8029b8e5",
   "metadata": {},
   "outputs": [],
   "source": [
    "X.columns[19]\n",
    "del X, y"
   ]
  },
  {
   "cell_type": "code",
   "execution_count": 33,
   "id": "500828af-bf38-4e0d-b3b4-b501dc8b52ff",
   "metadata": {},
   "outputs": [],
   "source": [
    "from sklearn.preprocessing import StandardScaler, MinMaxScaler, RobustScaler\n",
    "\n",
    "# Define the columns you want to normalize\n",
    "columns_to_normalize = ['rrp', 'voucherAmount', 'pricePerItem', 'truePricePerItem',\n",
    "       'discountRatioPerItem', 'quantityPerOrder', 'avgOrderValue',\n",
    "       'productGroupsPerOrder', 'sizesPerOrder', 'articlesPerOrder',\n",
    "       'totalOrdersPerCustomer', 'sizeCodePerCustomer',\n",
    "       'totalDevicesPerCustomer', 'aveargeOrderValPerCustomer', 'quantity', 'totalPrice','discountPricePerItem',\n",
    "        'MaxDiscountPricePerItem', 'MinDiscountPricePerItem', 'MeanDiscountPricePerItem']#, 'likelihood_of_returning']\n",
    "\n",
    "# Initialize the StandardScaler\n",
    "scaler = StandardScaler()\n",
    "\n",
    "# Fit and transform the selected columns\n",
    "X_train[columns_to_normalize] = scaler.fit_transform(X_train[columns_to_normalize])\n",
    "X_test[columns_to_normalize] = scaler.transform(X_test[columns_to_normalize])\n"
   ]
  },
  {
   "cell_type": "code",
   "execution_count": 34,
   "id": "e19d5e99-c15c-4ef3-ac2a-e2c204efa827",
   "metadata": {},
   "outputs": [],
   "source": [
    "from sklearn.metrics import accuracy_score, classification_report\n",
    "from sklearn.metrics import confusion_matrix, ConfusionMatrixDisplay\n",
    "from sklearn.linear_model import LinearRegression\n",
    "from sklearn.neighbors import KNeighborsClassifier\n",
    "from sklearn import tree\n",
    "from sklearn.metrics import precision_score, recall_score, f1_score\n",
    "from sklearn.svm import SVC\n",
    "from sklearn.metrics import mean_squared_error\n",
    "from sklearn.linear_model import Ridge\n",
    "from sklearn.linear_model import Lasso\n",
    "from sklearn.ensemble import GradientBoostingRegressor\n",
    "from sklearn.ensemble import RandomForestClassifier\n"
   ]
  },
  {
   "cell_type": "code",
   "execution_count": 35,
   "id": "c9030b02-0a0e-4a2d-80b7-b733af940762",
   "metadata": {},
   "outputs": [],
   "source": [
    "# clf = LogisticRegression(tol=1e-15, max_iter = 1000, C = 2, penalty='l2', solver = 'lbfgs', verbose = 1, warm_start=True).fit(X_train, y_train)\n",
    "# # clf = RandomForestClassifier().fit(X_train, y_train)\n",
    "# y_pred = clf.predict(X_test)\n",
    "\n",
    "# # clf = tree.DecisionTreeClassifier(criterion = 'log_loss').fit(X_train, y_train)\n",
    "# # y_pred = clf.predict(X_test)\n",
    "# print('accuracy:', accuracy_score(y_test, y_pred))\n",
    "# print(\"Precision:\",precision_score(y_test, y_pred))\n",
    "# print(\"Recall:\", recall_score(y_test, y_pred))\n",
    "# print(\"F1-score:\", f1_score(y_test, y_pred))\n",
    "\n",
    "\n",
    "# cm = confusion_matrix(y_test, y_pred, labels=clf.classes_)\n",
    "# disp = ConfusionMatrixDisplay(confusion_matrix=cm, display_labels=clf.classes_)\n",
    "# disp.plot();"
   ]
  },
  {
   "cell_type": "code",
   "execution_count": 36,
   "id": "44e96494-e2cd-44c9-b670-910d604c4935",
   "metadata": {},
   "outputs": [],
   "source": [
    "# clf = RandomForestClassifier()\n",
    "# clf.fit(X_train, y_train)\n",
    "\n",
    "# # Predicting on the test set\n",
    "# y_pred = clf.predict(X_test)\n",
    "\n",
    "# print('accuracy:', accuracy_score(y_test, y_pred))\n",
    "# print(\"Precision:\",precision_score(y_test, y_pred))\n",
    "# print(\"Recall:\", recall_score(y_test, y_pred))\n",
    "# print(\"F1-score:\", f1_score(y_test, y_pred))\n",
    "\n",
    "\n",
    "# cm = confusion_matrix(y_test, y_pred, labels=clf.classes_)\n",
    "# disp = ConfusionMatrixDisplay(confusion_matrix=cm, display_labels=clf.classes_)\n",
    "# disp.plot();"
   ]
  },
  {
   "cell_type": "code",
   "execution_count": 37,
   "id": "867ea380-18ab-4db1-ac15-5bd418abbffa",
   "metadata": {},
   "outputs": [],
   "source": [
    "# from sklearn.ensemble import GradientBoostingRegressor\n",
    "# gbrt = GradientBoostingRegressor(n_estimators=100, learning_rate=0.01, max_depth=5)\n",
    "\n",
    "# # Fit the model to the training data\n",
    "# gbrt.fit(X_train, y_train)\n",
    "\n",
    "# # Predict on the testing data\n",
    "# y_pred = gbrt.predict(X_test)\n",
    "\n",
    "# # Evaluate the model performance\n",
    "# mse = mean_squared_error(y_test, y_pred)\n",
    "# print(\"Mean Squared Error:\", mse)"
   ]
  },
  {
   "cell_type": "code",
   "execution_count": 38,
   "id": "7c73bf45-ceff-4f6b-83f7-a60fffd247af",
   "metadata": {},
   "outputs": [
    {
     "name": "stdout",
     "output_type": "stream",
     "text": [
      "accuracy: 0.6758728357845091\n",
      "Precision: 0.6876337184424476\n",
      "Recall: 0.7282900470629249\n",
      "F1-score: 0.7073781871127214\n"
     ]
    },
    {
     "data": {
      "image/png": "[encoded data removed]",
      "text/plain": [
       "<Figure size 640x480 with 2 Axes>"
      ]
     },
     "metadata": {},
     "output_type": "display_data"
    }
   ],
   "source": [
    "import xgboost\n",
    "from sklearn.metrics import mean_absolute_error\n",
    "\n",
    "xgb = xgboost.XGBClassifier( \n",
    "              subsample = 0.95, \n",
    "              colsample_bytree = 0.8,\n",
    "            learning_rate=0.1,\n",
    "            n_estimators=100,\n",
    "              max_depth = 20,\n",
    "              objective = 'binary:logistic', \n",
    "              eval_metric = 'logloss',\n",
    ")\n",
    "\n",
    "# xgb = xgboost.XGBClassifier(n_estimators=10, learning_rate=0.06, booster='gblinear', \n",
    "#                      reg_lambda=0.0001, reg_alpha=0.0001,\n",
    "#                      n_jobs=-1)\n",
    "\n",
    "# Fit the model to the training data\n",
    "xgb.fit(X_train, y_train)\n",
    "\n",
    "# Predict on the testing data\n",
    "y_pred = xgb.predict(X_test)\n",
    "\n",
    "# Evaluate the model performance\n",
    "print('accuracy:', accuracy_score(y_test, y_pred))\n",
    "print(\"Precision:\",precision_score(y_test, y_pred))\n",
    "print(\"Recall:\", recall_score(y_test, y_pred))\n",
    "print(\"F1-score:\", f1_score(y_test, y_pred))\n",
    "\n",
    "\n",
    "cm = confusion_matrix(y_test, y_pred, labels=xgb.classes_)\n",
    "disp = ConfusionMatrixDisplay(confusion_matrix=cm, display_labels=xgb.classes_)\n",
    "disp.plot();"
   ]
  },
  {
   "cell_type": "code",
   "execution_count": 39,
   "id": "d3d24829-9109-4b93-8ea7-1547db3d8a49",
   "metadata": {},
   "outputs": [
    {
     "data": {
      "text/plain": [
       "0.6758728357845091"
      ]
     },
     "execution_count": 39,
     "metadata": {},
     "output_type": "execute_result"
    }
   ],
   "source": [
    "accuracy_score(y_test, y_pred)"
   ]
  },
  {
   "cell_type": "code",
   "execution_count": 43,
   "id": "2c762c59-0070-410a-8549-e78d0cbd8dd1",
   "metadata": {},
   "outputs": [
    {
     "name": "stderr",
     "output_type": "stream",
     "text": [
      "/Library/Frameworks/Python.framework/Versions/3.11/lib/python3.11/site-packages/sklearn/linear_model/_logistic.py:460: ConvergenceWarning: lbfgs failed to converge (status=1):\n",
      "STOP: TOTAL NO. of ITERATIONS REACHED LIMIT.\n",
      "\n",
      "Increase the number of iterations (max_iter) or scale the data as shown in:\n",
      "    https://scikit-learn.org/stable/modules/preprocessing.html\n",
      "Please also refer to the documentation for alternative solver options:\n",
      "    https://scikit-learn.org/stable/modules/linear_model.html#logistic-regression\n",
      "  n_iter_i = _check_optimize_result(\n"
     ]
    },
    {
     "name": "stdout",
     "output_type": "stream",
     "text": [
      "Mean Absolute Error: 0.3969829373303994\n",
      "Mean Squared Error: 0.19568761420460076\n",
      "Final Log Loss: 0.5724637711566833\n"
     ]
    }
   ],
   "source": [
    "import numpy as np\n",
    "import pandas as pd\n",
    "from sklearn.model_selection import train_test_split, KFold\n",
    "from sklearn.ensemble import GradientBoostingClassifier, RandomForestClassifier\n",
    "from sklearn.linear_model import LogisticRegression\n",
    "from sklearn.metrics import log_loss\n",
    "from xgboost import XGBClassifier\n",
    "\n",
    "\n",
    "# Base models\n",
    "# Regularized Logistic Regression\n",
    "lr = LogisticRegression(fit_intercept=True)\n",
    "lr.fit(X_train, y_train)\n",
    "\n",
    "# Random Forest\n",
    "rf = RandomForestClassifier()\n",
    "rf.fit(X_train, y_train)\n",
    "\n",
    "# Gradient Boosting\n",
    "gb = GradientBoostingClassifier()\n",
    "gb.fit(X_train, y_train)\n",
    "\n",
    "# XGBoost\n",
    "xgb = XGBClassifier(subsample = 0.95, \n",
    "              colsample_bytree = 0.8,\n",
    "            learning_rate=0.1,\n",
    "            n_estimators=100,\n",
    "              max_depth = 15,\n",
    "              objective = 'binary:logistic', \n",
    "              eval_metric = 'logloss')\n",
    "xgb.fit(X_train, y_train)\n",
    "\n",
    "# Predict probabilities\n",
    "lr_probs = lr.predict_proba(X_test)[:, 1]\n",
    "rf_probs = rf.predict_proba(X_test)[:, 1]\n",
    "gb_probs = gb.predict_proba(X_test)[:, 1]\n",
    "xgb_probs = xgb.predict_proba(X_test)[:, 1]\n",
    "\n",
    "# Stack predictions\n",
    "stacked_features = np.column_stack((lr_probs, rf_probs, gb_probs, xgb_probs))\n",
    "\n",
    "# Second layer model (using XGBoost for stacking)\n",
    "second_layer_model = XGBClassifier(use_label_encoder=False, eval_metric='logloss')\n",
    "second_layer_model.fit(stacked_features, y_test)\n",
    "\n",
    "# Predict final output\n",
    "final_predictions = second_layer_model.predict_proba(stacked_features)[:, 1]\n",
    "\n",
    "# Calculate log loss\n",
    "final_log_loss = log_loss(y_test, final_predictions)\n",
    "final_mae = mean_absolute_error(y_test, final_predictions)\n",
    "final_mse = mean_squared_error(y_test, final_predictions)\n",
    "print(f'Mean Absolute Error: {final_mae}')\n",
    "print(f'Mean Squared Error: {final_mse}')\n",
    "print(f'Final Log Loss: {final_log_loss}')"
   ]
  },
  {
   "cell_type": "code",
   "execution_count": 44,
   "id": "11d5c377-d0a7-4b8e-8ca6-0c4417e691e5",
   "metadata": {},
   "outputs": [
    {
     "name": "stdout",
     "output_type": "stream",
     "text": [
      "accuracy: 0.6975466364117975\n",
      "Precision: 0.6943182785382122\n",
      "Recall: 0.7820550810528151\n",
      "F1-score: 0.7355797015316893\n"
     ]
    }
   ],
   "source": [
    "print('accuracy:', accuracy_score(y_test, np.round(final_predictions)))\n",
    "print(\"Precision:\",precision_score(y_test, np.round(final_predictions)))\n",
    "print(\"Recall:\", recall_score(y_test, np.round(final_predictions)))\n",
    "print(\"F1-score:\", f1_score(y_test, np.round(final_predictions)))"
   ]
  },
  {
   "cell_type": "code",
   "execution_count": 53,
   "id": "c06f63b4-0ea4-4626-8768-37f2b750b026",
   "metadata": {},
   "outputs": [
    {
     "data": {
      "image/png": "[encoded data removed]",
      "text/plain": [
       "<Figure size 640x480 with 2 Axes>"
      ]
     },
     "metadata": {},
     "output_type": "display_data"
    }
   ],
   "source": [
    "cm = confusion_matrix(y_test, np.round(final_predictions), labels=second_layer_model.classes_)\n",
    "disp = ConfusionMatrixDisplay(confusion_matrix=cm, display_labels=second_layer_model.classes_)\n",
    "disp.plot();"
   ]
  },
  {
   "cell_type": "code",
   "execution_count": 54,
   "id": "5314785d-ae8b-492c-8cd4-7d07de25ace9",
   "metadata": {},
   "outputs": [
    {
     "data": {
      "text/plain": [
       "0.30245336358820246"
      ]
     },
     "execution_count": 54,
     "metadata": {},
     "output_type": "execute_result"
    }
   ],
   "source": [
    "mean_absolute_error(y_test, np.round(final_predictions))"
   ]
  },
  {
   "cell_type": "code",
   "execution_count": null,
   "id": "ee95a78b-e4df-4f90-9b64-96097440acf5",
   "metadata": {},
   "outputs": [],
   "source": []
  }
 ],
 "metadata": {
  "kernelspec": {
   "display_name": "Python 3 (ipykernel)",
   "language": "python",
   "name": "python3"
  },
  "language_info": {
   "codemirror_mode": {
    "name": "ipython",
    "version": 3
   },
   "file_extension": ".py",
   "mimetype": "text/x-python",
   "name": "python",
   "nbconvert_exporter": "python",
   "pygments_lexer": "ipython3",
   "version": "3.9.12"
  }
 },
 "nbformat": 4,
 "nbformat_minor": 5
}
