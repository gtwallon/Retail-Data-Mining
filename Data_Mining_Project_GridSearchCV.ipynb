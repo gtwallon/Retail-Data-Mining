{
  "nbformat": 4,
  "nbformat_minor": 0,
  "metadata": {
    "colab": {
      "provenance": []
    },
    "kernelspec": {
      "name": "python3",
      "display_name": "Python 3"
    },
    "language_info": {
      "name": "python"
    }
  },
  "cells": [
    {
      "cell_type": "code",
      "execution_count": null,
      "metadata": {
        "id": "aGql1jl9q2aP"
      },
      "outputs": [],
      "source": [
        "import pandas as pd\n",
        "import numpy as np\n",
        "from sklearn.model_selection import train_test_split\n",
        "from sklearn.linear_model import LinearRegression\n",
        "from sklearn.metrics import mean_squared_error\n",
        "from sklearn.preprocessing import StandardScaler, OneHotEncoder\n",
        "from sklearn.impute import SimpleImputer\n",
        "from sklearn.pipeline import Pipeline\n",
        "from sklearn.compose import ColumnTransformer"
      ]
    },
    {
      "cell_type": "code",
      "source": [
        "df = pd.read_csv('orders_train.txt', sep=';')\n",
        "print('Number of records between {} to {}: {}'.format(df['orderDate'].iloc[0], df['orderDate'].iloc[-1], len(df)))\n",
        "print('Number of attributes corresponding to a single record {}:'.format(df.shape[1]-1))\n",
        "df.head()"
      ],
      "metadata": {
        "colab": {
          "base_uri": "https://localhost:8080/",
          "height": 241
        },
        "id": "hc3GawYjrBr2",
        "outputId": "6164443c-81eb-4303-dd19-8998e5dde3ef"
      },
      "execution_count": null,
      "outputs": [
        {
          "output_type": "stream",
          "name": "stdout",
          "text": [
            "Number of records between 2014-01-01 to 2015-09-30: 2325165\n",
            "Number of attributes corresponding to a single record 14:\n"
          ]
        },
        {
          "output_type": "execute_result",
          "data": {
            "text/plain": [
              "    orderID   orderDate articleID  colorCode sizeCode  productGroup  quantity  \\\n",
              "0  a1000001  2014-01-01  i1000382       1972       44           3.0         1   \n",
              "1  a1000001  2014-01-01  i1000550       3854       44           3.0         1   \n",
              "2  a1000002  2014-01-01  i1001991       2974       38           8.0         1   \n",
              "3  a1000002  2014-01-01  i1001999       1992       38           8.0         1   \n",
              "4  a1000003  2014-01-01  i1001942       1968       42           8.0         1   \n",
              "\n",
              "   price    rrp voucherID  voucherAmount customerID  deviceID paymentMethod  \\\n",
              "0  10.00  29.99         0            0.0   c1010575         2          BPRG   \n",
              "1  20.00  39.99         0            0.0   c1010575         2          BPRG   \n",
              "2  35.00  49.99         0            0.0   c1045905         4          BPRG   \n",
              "3  49.99  49.99         0            0.0   c1045905         4          BPRG   \n",
              "4  10.00  35.99         0            0.0   c1089295         2      PAYPALVC   \n",
              "\n",
              "   returnQuantity  \n",
              "0               0  \n",
              "1               0  \n",
              "2               0  \n",
              "3               1  \n",
              "4               0  "
            ],
            "text/html": [
              "\n",
              "  <div id=\"df-fa5ee55e-ab95-44c6-8a7b-3c6a1862fef6\" class=\"colab-df-container\">\n",
              "    <div>\n",
              "<style scoped>\n",
              "    .dataframe tbody tr th:only-of-type {\n",
              "        vertical-align: middle;\n",
              "    }\n",
              "\n",
              "    .dataframe tbody tr th {\n",
              "        vertical-align: top;\n",
              "    }\n",
              "\n",
              "    .dataframe thead th {\n",
              "        text-align: right;\n",
              "    }\n",
              "</style>\n",
              "<table border=\"1\" class=\"dataframe\">\n",
              "  <thead>\n",
              "    <tr style=\"text-align: right;\">\n",
              "      <th></th>\n",
              "      <th>orderID</th>\n",
              "      <th>orderDate</th>\n",
              "      <th>articleID</th>\n",
              "      <th>colorCode</th>\n",
              "      <th>sizeCode</th>\n",
              "      <th>productGroup</th>\n",
              "      <th>quantity</th>\n",
              "      <th>price</th>\n",
              "      <th>rrp</th>\n",
              "      <th>voucherID</th>\n",
              "      <th>voucherAmount</th>\n",
              "      <th>customerID</th>\n",
              "      <th>deviceID</th>\n",
              "      <th>paymentMethod</th>\n",
              "      <th>returnQuantity</th>\n",
              "    </tr>\n",
              "  </thead>\n",
              "  <tbody>\n",
              "    <tr>\n",
              "      <th>0</th>\n",
              "      <td>a1000001</td>\n",
              "      <td>2014-01-01</td>\n",
              "      <td>i1000382</td>\n",
              "      <td>1972</td>\n",
              "      <td>44</td>\n",
              "      <td>3.0</td>\n",
              "      <td>1</td>\n",
              "      <td>10.00</td>\n",
              "      <td>29.99</td>\n",
              "      <td>0</td>\n",
              "      <td>0.0</td>\n",
              "      <td>c1010575</td>\n",
              "      <td>2</td>\n",
              "      <td>BPRG</td>\n",
              "      <td>0</td>\n",
              "    </tr>\n",
              "    <tr>\n",
              "      <th>1</th>\n",
              "      <td>a1000001</td>\n",
              "      <td>2014-01-01</td>\n",
              "      <td>i1000550</td>\n",
              "      <td>3854</td>\n",
              "      <td>44</td>\n",
              "      <td>3.0</td>\n",
              "      <td>1</td>\n",
              "      <td>20.00</td>\n",
              "      <td>39.99</td>\n",
              "      <td>0</td>\n",
              "      <td>0.0</td>\n",
              "      <td>c1010575</td>\n",
              "      <td>2</td>\n",
              "      <td>BPRG</td>\n",
              "      <td>0</td>\n",
              "    </tr>\n",
              "    <tr>\n",
              "      <th>2</th>\n",
              "      <td>a1000002</td>\n",
              "      <td>2014-01-01</td>\n",
              "      <td>i1001991</td>\n",
              "      <td>2974</td>\n",
              "      <td>38</td>\n",
              "      <td>8.0</td>\n",
              "      <td>1</td>\n",
              "      <td>35.00</td>\n",
              "      <td>49.99</td>\n",
              "      <td>0</td>\n",
              "      <td>0.0</td>\n",
              "      <td>c1045905</td>\n",
              "      <td>4</td>\n",
              "      <td>BPRG</td>\n",
              "      <td>0</td>\n",
              "    </tr>\n",
              "    <tr>\n",
              "      <th>3</th>\n",
              "      <td>a1000002</td>\n",
              "      <td>2014-01-01</td>\n",
              "      <td>i1001999</td>\n",
              "      <td>1992</td>\n",
              "      <td>38</td>\n",
              "      <td>8.0</td>\n",
              "      <td>1</td>\n",
              "      <td>49.99</td>\n",
              "      <td>49.99</td>\n",
              "      <td>0</td>\n",
              "      <td>0.0</td>\n",
              "      <td>c1045905</td>\n",
              "      <td>4</td>\n",
              "      <td>BPRG</td>\n",
              "      <td>1</td>\n",
              "    </tr>\n",
              "    <tr>\n",
              "      <th>4</th>\n",
              "      <td>a1000003</td>\n",
              "      <td>2014-01-01</td>\n",
              "      <td>i1001942</td>\n",
              "      <td>1968</td>\n",
              "      <td>42</td>\n",
              "      <td>8.0</td>\n",
              "      <td>1</td>\n",
              "      <td>10.00</td>\n",
              "      <td>35.99</td>\n",
              "      <td>0</td>\n",
              "      <td>0.0</td>\n",
              "      <td>c1089295</td>\n",
              "      <td>2</td>\n",
              "      <td>PAYPALVC</td>\n",
              "      <td>0</td>\n",
              "    </tr>\n",
              "  </tbody>\n",
              "</table>\n",
              "</div>\n",
              "    <div class=\"colab-df-buttons\">\n",
              "\n",
              "  <div class=\"colab-df-container\">\n",
              "    <button class=\"colab-df-convert\" onclick=\"convertToInteractive('df-fa5ee55e-ab95-44c6-8a7b-3c6a1862fef6')\"\n",
              "            title=\"Convert this dataframe to an interactive table.\"\n",
              "            style=\"display:none;\">\n",
              "\n",
              "  <svg xmlns=\"http://www.w3.org/2000/svg\" height=\"24px\" viewBox=\"0 -960 960 960\">\n",
              "    <path d=\"M120-120v-720h720v720H120Zm60-500h600v-160H180v160Zm220 220h160v-160H400v160Zm0 220h160v-160H400v160ZM180-400h160v-160H180v160Zm440 0h160v-160H620v160ZM180-180h160v-160H180v160Zm440 0h160v-160H620v160Z\"/>\n",
              "  </svg>\n",
              "    </button>\n",
              "\n",
              "  <style>\n",
              "    .colab-df-container {\n",
              "      display:flex;\n",
              "      gap: 12px;\n",
              "    }\n",
              "\n",
              "    .colab-df-convert {\n",
              "      background-color: #E8F0FE;\n",
              "      border: none;\n",
              "      border-radius: 50%;\n",
              "      cursor: pointer;\n",
              "      display: none;\n",
              "      fill: #1967D2;\n",
              "      height: 32px;\n",
              "      padding: 0 0 0 0;\n",
              "      width: 32px;\n",
              "    }\n",
              "\n",
              "    .colab-df-convert:hover {\n",
              "      background-color: #E2EBFA;\n",
              "      box-shadow: 0px 1px 2px rgba(60, 64, 67, 0.3), 0px 1px 3px 1px rgba(60, 64, 67, 0.15);\n",
              "      fill: #174EA6;\n",
              "    }\n",
              "\n",
              "    .colab-df-buttons div {\n",
              "      margin-bottom: 4px;\n",
              "    }\n",
              "\n",
              "    [theme=dark] .colab-df-convert {\n",
              "      background-color: #3B4455;\n",
              "      fill: #D2E3FC;\n",
              "    }\n",
              "\n",
              "    [theme=dark] .colab-df-convert:hover {\n",
              "      background-color: #434B5C;\n",
              "      box-shadow: 0px 1px 3px 1px rgba(0, 0, 0, 0.15);\n",
              "      filter: drop-shadow(0px 1px 2px rgba(0, 0, 0, 0.3));\n",
              "      fill: #FFFFFF;\n",
              "    }\n",
              "  </style>\n",
              "\n",
              "    <script>\n",
              "      const buttonEl =\n",
              "        document.querySelector('#df-fa5ee55e-ab95-44c6-8a7b-3c6a1862fef6 button.colab-df-convert');\n",
              "      buttonEl.style.display =\n",
              "        google.colab.kernel.accessAllowed ? 'block' : 'none';\n",
              "\n",
              "      async function convertToInteractive(key) {\n",
              "        const element = document.querySelector('#df-fa5ee55e-ab95-44c6-8a7b-3c6a1862fef6');\n",
              "        const dataTable =\n",
              "          await google.colab.kernel.invokeFunction('convertToInteractive',\n",
              "                                                    [key], {});\n",
              "        if (!dataTable) return;\n",
              "\n",
              "        const docLinkHtml = 'Like what you see? Visit the ' +\n",
              "          '<a target=\"_blank\" href=https://colab.research.google.com/notebooks/data_table.ipynb>data table notebook</a>'\n",
              "          + ' to learn more about interactive tables.';\n",
              "        element.innerHTML = '';\n",
              "        dataTable['output_type'] = 'display_data';\n",
              "        await google.colab.output.renderOutput(dataTable, element);\n",
              "        const docLink = document.createElement('div');\n",
              "        docLink.innerHTML = docLinkHtml;\n",
              "        element.appendChild(docLink);\n",
              "      }\n",
              "    </script>\n",
              "  </div>\n",
              "\n",
              "\n",
              "<div id=\"df-0ee4be40-9c27-4e5f-a8cf-9c87f42e7422\">\n",
              "  <button class=\"colab-df-quickchart\" onclick=\"quickchart('df-0ee4be40-9c27-4e5f-a8cf-9c87f42e7422')\"\n",
              "            title=\"Suggest charts\"\n",
              "            style=\"display:none;\">\n",
              "\n",
              "<svg xmlns=\"http://www.w3.org/2000/svg\" height=\"24px\"viewBox=\"0 0 24 24\"\n",
              "     width=\"24px\">\n",
              "    <g>\n",
              "        <path d=\"M19 3H5c-1.1 0-2 .9-2 2v14c0 1.1.9 2 2 2h14c1.1 0 2-.9 2-2V5c0-1.1-.9-2-2-2zM9 17H7v-7h2v7zm4 0h-2V7h2v10zm4 0h-2v-4h2v4z\"/>\n",
              "    </g>\n",
              "</svg>\n",
              "  </button>\n",
              "\n",
              "<style>\n",
              "  .colab-df-quickchart {\n",
              "      --bg-color: #E8F0FE;\n",
              "      --fill-color: #1967D2;\n",
              "      --hover-bg-color: #E2EBFA;\n",
              "      --hover-fill-color: #174EA6;\n",
              "      --disabled-fill-color: #AAA;\n",
              "      --disabled-bg-color: #DDD;\n",
              "  }\n",
              "\n",
              "  [theme=dark] .colab-df-quickchart {\n",
              "      --bg-color: #3B4455;\n",
              "      --fill-color: #D2E3FC;\n",
              "      --hover-bg-color: #434B5C;\n",
              "      --hover-fill-color: #FFFFFF;\n",
              "      --disabled-bg-color: #3B4455;\n",
              "      --disabled-fill-color: #666;\n",
              "  }\n",
              "\n",
              "  .colab-df-quickchart {\n",
              "    background-color: var(--bg-color);\n",
              "    border: none;\n",
              "    border-radius: 50%;\n",
              "    cursor: pointer;\n",
              "    display: none;\n",
              "    fill: var(--fill-color);\n",
              "    height: 32px;\n",
              "    padding: 0;\n",
              "    width: 32px;\n",
              "  }\n",
              "\n",
              "  .colab-df-quickchart:hover {\n",
              "    background-color: var(--hover-bg-color);\n",
              "    box-shadow: 0 1px 2px rgba(60, 64, 67, 0.3), 0 1px 3px 1px rgba(60, 64, 67, 0.15);\n",
              "    fill: var(--button-hover-fill-color);\n",
              "  }\n",
              "\n",
              "  .colab-df-quickchart-complete:disabled,\n",
              "  .colab-df-quickchart-complete:disabled:hover {\n",
              "    background-color: var(--disabled-bg-color);\n",
              "    fill: var(--disabled-fill-color);\n",
              "    box-shadow: none;\n",
              "  }\n",
              "\n",
              "  .colab-df-spinner {\n",
              "    border: 2px solid var(--fill-color);\n",
              "    border-color: transparent;\n",
              "    border-bottom-color: var(--fill-color);\n",
              "    animation:\n",
              "      spin 1s steps(1) infinite;\n",
              "  }\n",
              "\n",
              "  @keyframes spin {\n",
              "    0% {\n",
              "      border-color: transparent;\n",
              "      border-bottom-color: var(--fill-color);\n",
              "      border-left-color: var(--fill-color);\n",
              "    }\n",
              "    20% {\n",
              "      border-color: transparent;\n",
              "      border-left-color: var(--fill-color);\n",
              "      border-top-color: var(--fill-color);\n",
              "    }\n",
              "    30% {\n",
              "      border-color: transparent;\n",
              "      border-left-color: var(--fill-color);\n",
              "      border-top-color: var(--fill-color);\n",
              "      border-right-color: var(--fill-color);\n",
              "    }\n",
              "    40% {\n",
              "      border-color: transparent;\n",
              "      border-right-color: var(--fill-color);\n",
              "      border-top-color: var(--fill-color);\n",
              "    }\n",
              "    60% {\n",
              "      border-color: transparent;\n",
              "      border-right-color: var(--fill-color);\n",
              "    }\n",
              "    80% {\n",
              "      border-color: transparent;\n",
              "      border-right-color: var(--fill-color);\n",
              "      border-bottom-color: var(--fill-color);\n",
              "    }\n",
              "    90% {\n",
              "      border-color: transparent;\n",
              "      border-bottom-color: var(--fill-color);\n",
              "    }\n",
              "  }\n",
              "</style>\n",
              "\n",
              "  <script>\n",
              "    async function quickchart(key) {\n",
              "      const quickchartButtonEl =\n",
              "        document.querySelector('#' + key + ' button');\n",
              "      quickchartButtonEl.disabled = true;  // To prevent multiple clicks.\n",
              "      quickchartButtonEl.classList.add('colab-df-spinner');\n",
              "      try {\n",
              "        const charts = await google.colab.kernel.invokeFunction(\n",
              "            'suggestCharts', [key], {});\n",
              "      } catch (error) {\n",
              "        console.error('Error during call to suggestCharts:', error);\n",
              "      }\n",
              "      quickchartButtonEl.classList.remove('colab-df-spinner');\n",
              "      quickchartButtonEl.classList.add('colab-df-quickchart-complete');\n",
              "    }\n",
              "    (() => {\n",
              "      let quickchartButtonEl =\n",
              "        document.querySelector('#df-0ee4be40-9c27-4e5f-a8cf-9c87f42e7422 button');\n",
              "      quickchartButtonEl.style.display =\n",
              "        google.colab.kernel.accessAllowed ? 'block' : 'none';\n",
              "    })();\n",
              "  </script>\n",
              "</div>\n",
              "    </div>\n",
              "  </div>\n"
            ],
            "application/vnd.google.colaboratory.intrinsic+json": {
              "type": "dataframe",
              "variable_name": "df"
            }
          },
          "metadata": {},
          "execution_count": 2
        }
      ]
    },
    {
      "cell_type": "code",
      "source": [
        "df.columns"
      ],
      "metadata": {
        "id": "4gTCR-hbrBuj"
      },
      "execution_count": null,
      "outputs": []
    },
    {
      "cell_type": "code",
      "source": [
        "#check NA values\n",
        "print(df.isna().sum())\n",
        "#drop NA values since not a significant number of records contain NA\n",
        "df = df.dropna()\n",
        "\n",
        "## inconsistent records\n",
        "drop_idx = df[(df['quantity']==0) |  (df['price']==0) | (df['quantity']<df['returnQuantity']) ].index\n",
        "df = df.drop(drop_idx)\n",
        "df.shape\n"
      ],
      "metadata": {
        "colab": {
          "base_uri": "https://localhost:8080/"
        },
        "id": "V1og0JfWrEc-",
        "outputId": "cf5c3ca2-1d6c-4e25-b311-8df0065d076f"
      },
      "execution_count": null,
      "outputs": [
        {
          "output_type": "stream",
          "name": "stdout",
          "text": [
            "orderID             0\n",
            "orderDate           0\n",
            "articleID           0\n",
            "colorCode           0\n",
            "sizeCode            0\n",
            "productGroup      351\n",
            "quantity            0\n",
            "price               0\n",
            "rrp               351\n",
            "voucherID           6\n",
            "voucherAmount       0\n",
            "customerID          0\n",
            "deviceID            0\n",
            "paymentMethod       0\n",
            "returnQuantity      0\n",
            "dtype: int64\n"
          ]
        },
        {
          "output_type": "execute_result",
          "data": {
            "text/plain": [
              "(2277968, 15)"
            ]
          },
          "metadata": {},
          "execution_count": 3
        }
      ]
    },
    {
      "cell_type": "code",
      "source": [
        "# Aggregating total quantity per order\n",
        "df['total_quantity_per_order'] = df.groupby('orderID')['quantity'].transform('sum')\n",
        "\n",
        "# Mean recommended retail price per article\n",
        "df['mean_rrp_per_article'] = df.groupby('articleID')['rrp'].transform('mean')\n",
        "\n",
        "# Total number of orders per customer\n",
        "df['total_orders_per_customer'] = df.groupby('customerID')['orderID'].transform('nunique')\n",
        "\n",
        "\n",
        "# Decompose colorCode into individual digits (assuming all colorCodes are four digits)\n",
        "df['colorCode_1'] = df['colorCode'].apply(lambda x: int(str(x)[0]))\n",
        "df['colorCode_2'] = df['colorCode'].apply(lambda x: int(str(x)[1]))\n",
        "df['colorCode_3'] = df['colorCode'].apply(lambda x: int(str(x)[2]))\n",
        "df['colorCode_4'] = df['colorCode'].apply(lambda x: int(str(x)[3]))\n",
        "\n",
        "# Customer likelihood of returning items\n",
        "df['likelihood_of_returning'] = df.groupby('customerID')['returnQuantity'].transform('sum') / df.groupby('customerID')['quantity'].transform('sum')\n",
        "\n",
        "# Price level categorization based on rrp\n",
        "bins = [0, 20, 50, 100, float('inf')]  # Define bins for price levels\n",
        "labels = ['cheap', 'regular', 'expensive', 'luxury']\n",
        "df['price_level'] = pd.cut(df['rrp'], bins=bins, labels=labels, include_lowest=True)\n"
      ],
      "metadata": {
        "id": "s0qkuhtVrEfl"
      },
      "execution_count": null,
      "outputs": []
    },
    {
      "cell_type": "code",
      "source": [
        "df[['productGroup', 'deviceID']] = df[['productGroup', 'deviceID']].astype(str)"
      ],
      "metadata": {
        "id": "KMPcvFzErEiQ"
      },
      "execution_count": null,
      "outputs": []
    },
    {
      "cell_type": "code",
      "source": [
        "df['price_level'] = df['price_level'].astype(str)"
      ],
      "metadata": {
        "id": "0LKr6TysrEkv"
      },
      "execution_count": null,
      "outputs": []
    },
    {
      "cell_type": "code",
      "source": [
        "# Define columns for one-hot encoding\n",
        "OHE_feats = ['productGroup', 'deviceID', 'paymentMethod','price_level']\n",
        "\n",
        "# Perform one-hot encoding\n",
        "encoder = OneHotEncoder(sparse=False, drop='first')\n",
        "encoded_features = encoder.fit_transform(df[OHE_feats])\n",
        "\n",
        "# Create DataFrame with one-hot encoded features\n",
        "df_OHE = pd.DataFrame(encoded_features, columns=encoder.get_feature_names_out(OHE_feats))\n",
        "\n",
        "# Reset indices of the original data and df_OHE to ensure they are aligned\n",
        "df.reset_index(drop=True, inplace=True)\n",
        "df_OHE.reset_index(drop=True, inplace=True)\n",
        "\n",
        "# Drop the original categorical columns from 'data'\n",
        "df.drop(columns=OHE_feats, inplace=True)\n",
        "\n",
        "# Concatenate the one-hot encoded DataFrame columns to the original DataFrame\n",
        "data = pd.concat([df, df_OHE], axis=1)"
      ],
      "metadata": {
        "colab": {
          "base_uri": "https://localhost:8080/"
        },
        "id": "I5vNcp8rrEnE",
        "outputId": "69446474-e24d-419c-be21-59a228ffa161"
      },
      "execution_count": null,
      "outputs": [
        {
          "output_type": "stream",
          "name": "stderr",
          "text": [
            "/usr/local/lib/python3.10/dist-packages/sklearn/preprocessing/_encoders.py:868: FutureWarning: `sparse` was renamed to `sparse_output` in version 1.2 and will be removed in 1.4. `sparse_output` is ignored unless you leave `sparse` to its default value.\n",
            "  warnings.warn(\n"
          ]
        }
      ]
    },
    {
      "cell_type": "code",
      "source": [
        "from sklearn.preprocessing import LabelEncoder\n",
        "\n",
        "# Initialize LabelEncoder\n",
        "label_encoder = LabelEncoder()\n",
        "\n",
        "# Fit label encoder and transform 'sizeCode' column\n",
        "data['sizeCode'] = label_encoder.fit_transform(data['sizeCode'])\n",
        "\n",
        "# Check the mapping of original categories to encoded labels\n",
        "print(\"Mapping of original categories to encoded labels:\")\n",
        "for original_category, encoded_label in zip(label_encoder.classes_, label_encoder.transform(label_encoder.classes_)):\n",
        "    print(f\"{original_category} -> {encoded_label}\")\n",
        "\n",
        "# Print the encoded 'sizeCode' column\n",
        "print(\"\\nEncoded 'sizeCode' column:\")\n",
        "print(data['sizeCode'])"
      ],
      "metadata": {
        "colab": {
          "base_uri": "https://localhost:8080/"
        },
        "id": "1GSMTS1mrEpe",
        "outputId": "e1d45927-8480-4055-b099-750af4605fec"
      },
      "execution_count": null,
      "outputs": [
        {
          "output_type": "stream",
          "name": "stdout",
          "text": [
            "Mapping of original categories to encoded labels:\n",
            "100 -> 0\n",
            "24 -> 1\n",
            "25 -> 2\n",
            "26 -> 3\n",
            "27 -> 4\n",
            "28 -> 5\n",
            "29 -> 6\n",
            "30 -> 7\n",
            "31 -> 8\n",
            "32 -> 9\n",
            "33 -> 10\n",
            "34 -> 11\n",
            "36 -> 12\n",
            "38 -> 13\n",
            "40 -> 14\n",
            "42 -> 15\n",
            "44 -> 16\n",
            "75 -> 17\n",
            "80 -> 18\n",
            "85 -> 19\n",
            "90 -> 20\n",
            "95 -> 21\n",
            "A -> 22\n",
            "I -> 23\n",
            "L -> 24\n",
            "M -> 25\n",
            "S -> 26\n",
            "XL -> 27\n",
            "XS -> 28\n",
            "\n",
            "Encoded 'sizeCode' column:\n",
            "0          16\n",
            "1          16\n",
            "2          13\n",
            "3          13\n",
            "4          15\n",
            "           ..\n",
            "2277963    14\n",
            "2277964    15\n",
            "2277965    13\n",
            "2277966    13\n",
            "2277967    13\n",
            "Name: sizeCode, Length: 2277968, dtype: int64\n"
          ]
        }
      ]
    },
    {
      "cell_type": "code",
      "source": [
        "final = data.drop(columns={'orderID', 'voucherID', 'orderDate', 'customerID', 'price', 'articleID', 'colorCode'})\n",
        "final.info()"
      ],
      "metadata": {
        "colab": {
          "base_uri": "https://localhost:8080/"
        },
        "id": "sjB-1haSrBxP",
        "outputId": "0e86c042-5c55-4b11-eefc-d37a22930f5c"
      },
      "execution_count": null,
      "outputs": [
        {
          "output_type": "stream",
          "name": "stdout",
          "text": [
            "<class 'pandas.core.frame.DataFrame'>\n",
            "RangeIndex: 2277968 entries, 0 to 2277967\n",
            "Data columns (total 43 columns):\n",
            " #   Column                     Dtype  \n",
            "---  ------                     -----  \n",
            " 0   sizeCode                   int64  \n",
            " 1   quantity                   int64  \n",
            " 2   rrp                        float64\n",
            " 3   voucherAmount              float64\n",
            " 4   returnQuantity             int64  \n",
            " 5   total_quantity_per_order   int64  \n",
            " 6   mean_rrp_per_article       float64\n",
            " 7   total_orders_per_customer  int64  \n",
            " 8   colorCode_1                int64  \n",
            " 9   colorCode_2                int64  \n",
            " 10  colorCode_3                int64  \n",
            " 11  colorCode_4                int64  \n",
            " 12  likelihood_of_returning    float64\n",
            " 13  productGroup_13.0          float64\n",
            " 14  productGroup_14.0          float64\n",
            " 15  productGroup_15.0          float64\n",
            " 16  productGroup_17.0          float64\n",
            " 17  productGroup_2.0           float64\n",
            " 18  productGroup_26.0          float64\n",
            " 19  productGroup_3.0           float64\n",
            " 20  productGroup_4.0           float64\n",
            " 21  productGroup_5.0           float64\n",
            " 22  productGroup_50.0          float64\n",
            " 23  productGroup_6.0           float64\n",
            " 24  productGroup_7.0           float64\n",
            " 25  productGroup_8.0           float64\n",
            " 26  productGroup_9.0           float64\n",
            " 27  deviceID_2                 float64\n",
            " 28  deviceID_3                 float64\n",
            " 29  deviceID_4                 float64\n",
            " 30  deviceID_5                 float64\n",
            " 31  paymentMethod_BPPL         float64\n",
            " 32  paymentMethod_BPRG         float64\n",
            " 33  paymentMethod_CBA          float64\n",
            " 34  paymentMethod_KGRG         float64\n",
            " 35  paymentMethod_KKE          float64\n",
            " 36  paymentMethod_NN           float64\n",
            " 37  paymentMethod_PAYPALVC     float64\n",
            " 38  paymentMethod_RG           float64\n",
            " 39  paymentMethod_VORAUS       float64\n",
            " 40  price_level_expensive      float64\n",
            " 41  price_level_luxury         float64\n",
            " 42  price_level_regular        float64\n",
            "dtypes: float64(34), int64(9)\n",
            "memory usage: 747.3 MB\n"
          ]
        }
      ]
    },
    {
      "cell_type": "code",
      "source": [
        "final['returnLabel'] = (final['returnQuantity'] > 0).astype(int)"
      ],
      "metadata": {
        "id": "SoPxUbzeskbM"
      },
      "execution_count": null,
      "outputs": []
    },
    {
      "cell_type": "code",
      "source": [
        "y = final.pop('returnLabel')\n",
        "final.drop(columns='returnQuantity',inplace=True)\n",
        "X = final\n",
        "X_train, X_test, y_train,  y_test = train_test_split(X, y, test_size = 0.25, random_state = 00000)\n",
        "print( f\"shape of X_train, y_train, X_test, y_test: {X_train.shape}, {y_train.shape},{X_test.shape},{y_test.shape}\")"
      ],
      "metadata": {
        "colab": {
          "base_uri": "https://localhost:8080/"
        },
        "id": "wS0Qv7SUstnk",
        "outputId": "76f771ca-441f-4e3f-dba8-f953301fa6ba"
      },
      "execution_count": null,
      "outputs": [
        {
          "output_type": "stream",
          "name": "stdout",
          "text": [
            "shape of X_train, y_train, X_test, y_test: (1708476, 42), (1708476,),(569492, 42),(569492,)\n"
          ]
        }
      ]
    },
    {
      "cell_type": "code",
      "source": [
        "from sklearn.preprocessing import StandardScaler\n",
        "\n",
        "# Define the columns you want to normalize\n",
        "#columns_to_normalize = ['quantity', 'rrp', 'voucherAmount','total_quantity_per_order','mean_rrp_per_article','total_orders_per_customer']\n",
        "\n",
        "# Initialize the StandardScaler\n",
        "scaler = StandardScaler()\n",
        "\n",
        "# Fit and transform the selected columns\n",
        "X_train = scaler.fit_transform(X_train)\n",
        "X_test = scaler.transform(X_test)\n"
      ],
      "metadata": {
        "id": "tAq16v22rbnu"
      },
      "execution_count": null,
      "outputs": []
    },
    {
      "cell_type": "code",
      "source": [
        "from sklearn.linear_model import LogisticRegression\n",
        "model = LogisticRegression()\n",
        "model.fit(X_train, y_train)"
      ],
      "metadata": {
        "colab": {
          "base_uri": "https://localhost:8080/",
          "height": 75
        },
        "id": "q_PcwCxwrbqh",
        "outputId": "9f21efba-7198-4e6e-a495-030d264ad79e"
      },
      "execution_count": null,
      "outputs": [
        {
          "output_type": "execute_result",
          "data": {
            "text/plain": [
              "LogisticRegression()"
            ],
            "text/html": [
              "<style>#sk-container-id-1 {color: black;background-color: white;}#sk-container-id-1 pre{padding: 0;}#sk-container-id-1 div.sk-toggleable {background-color: white;}#sk-container-id-1 label.sk-toggleable__label {cursor: pointer;display: block;width: 100%;margin-bottom: 0;padding: 0.3em;box-sizing: border-box;text-align: center;}#sk-container-id-1 label.sk-toggleable__label-arrow:before {content: \"▸\";float: left;margin-right: 0.25em;color: #696969;}#sk-container-id-1 label.sk-toggleable__label-arrow:hover:before {color: black;}#sk-container-id-1 div.sk-estimator:hover label.sk-toggleable__label-arrow:before {color: black;}#sk-container-id-1 div.sk-toggleable__content {max-height: 0;max-width: 0;overflow: hidden;text-align: left;background-color: #f0f8ff;}#sk-container-id-1 div.sk-toggleable__content pre {margin: 0.2em;color: black;border-radius: 0.25em;background-color: #f0f8ff;}#sk-container-id-1 input.sk-toggleable__control:checked~div.sk-toggleable__content {max-height: 200px;max-width: 100%;overflow: auto;}#sk-container-id-1 input.sk-toggleable__control:checked~label.sk-toggleable__label-arrow:before {content: \"▾\";}#sk-container-id-1 div.sk-estimator input.sk-toggleable__control:checked~label.sk-toggleable__label {background-color: #d4ebff;}#sk-container-id-1 div.sk-label input.sk-toggleable__control:checked~label.sk-toggleable__label {background-color: #d4ebff;}#sk-container-id-1 input.sk-hidden--visually {border: 0;clip: rect(1px 1px 1px 1px);clip: rect(1px, 1px, 1px, 1px);height: 1px;margin: -1px;overflow: hidden;padding: 0;position: absolute;width: 1px;}#sk-container-id-1 div.sk-estimator {font-family: monospace;background-color: #f0f8ff;border: 1px dotted black;border-radius: 0.25em;box-sizing: border-box;margin-bottom: 0.5em;}#sk-container-id-1 div.sk-estimator:hover {background-color: #d4ebff;}#sk-container-id-1 div.sk-parallel-item::after {content: \"\";width: 100%;border-bottom: 1px solid gray;flex-grow: 1;}#sk-container-id-1 div.sk-label:hover label.sk-toggleable__label {background-color: #d4ebff;}#sk-container-id-1 div.sk-serial::before {content: \"\";position: absolute;border-left: 1px solid gray;box-sizing: border-box;top: 0;bottom: 0;left: 50%;z-index: 0;}#sk-container-id-1 div.sk-serial {display: flex;flex-direction: column;align-items: center;background-color: white;padding-right: 0.2em;padding-left: 0.2em;position: relative;}#sk-container-id-1 div.sk-item {position: relative;z-index: 1;}#sk-container-id-1 div.sk-parallel {display: flex;align-items: stretch;justify-content: center;background-color: white;position: relative;}#sk-container-id-1 div.sk-item::before, #sk-container-id-1 div.sk-parallel-item::before {content: \"\";position: absolute;border-left: 1px solid gray;box-sizing: border-box;top: 0;bottom: 0;left: 50%;z-index: -1;}#sk-container-id-1 div.sk-parallel-item {display: flex;flex-direction: column;z-index: 1;position: relative;background-color: white;}#sk-container-id-1 div.sk-parallel-item:first-child::after {align-self: flex-end;width: 50%;}#sk-container-id-1 div.sk-parallel-item:last-child::after {align-self: flex-start;width: 50%;}#sk-container-id-1 div.sk-parallel-item:only-child::after {width: 0;}#sk-container-id-1 div.sk-dashed-wrapped {border: 1px dashed gray;margin: 0 0.4em 0.5em 0.4em;box-sizing: border-box;padding-bottom: 0.4em;background-color: white;}#sk-container-id-1 div.sk-label label {font-family: monospace;font-weight: bold;display: inline-block;line-height: 1.2em;}#sk-container-id-1 div.sk-label-container {text-align: center;}#sk-container-id-1 div.sk-container {/* jupyter's `normalize.less` sets `[hidden] { display: none; }` but bootstrap.min.css set `[hidden] { display: none !important; }` so we also need the `!important` here to be able to override the default hidden behavior on the sphinx rendered scikit-learn.org. See: https://github.com/scikit-learn/scikit-learn/issues/21755 */display: inline-block !important;position: relative;}#sk-container-id-1 div.sk-text-repr-fallback {display: none;}</style><div id=\"sk-container-id-1\" class=\"sk-top-container\"><div class=\"sk-text-repr-fallback\"><pre>LogisticRegression()</pre><b>In a Jupyter environment, please rerun this cell to show the HTML representation or trust the notebook. <br />On GitHub, the HTML representation is unable to render, please try loading this page with nbviewer.org.</b></div><div class=\"sk-container\" hidden><div class=\"sk-item\"><div class=\"sk-estimator sk-toggleable\"><input class=\"sk-toggleable__control sk-hidden--visually\" id=\"sk-estimator-id-1\" type=\"checkbox\" checked><label for=\"sk-estimator-id-1\" class=\"sk-toggleable__label sk-toggleable__label-arrow\">LogisticRegression</label><div class=\"sk-toggleable__content\"><pre>LogisticRegression()</pre></div></div></div></div></div>"
            ]
          },
          "metadata": {},
          "execution_count": 13
        }
      ]
    },
    {
      "cell_type": "code",
      "source": [
        "from sklearn.metrics import mean_squared_error, mean_absolute_error, classification_report\n",
        "\n",
        "y_pred_test = model.predict(X_test)\n",
        "\n",
        "# Evaluate the model for MSE\n",
        "mse_test = mean_squared_error(y_test, y_pred_test)\n",
        "print('Testing MSE:', mse_test)\n",
        "\n",
        "# Evaluate the model for MAE\n",
        "mae_test = mean_absolute_error(y_test, y_pred_test)\n",
        "print('Testing MAE:', mae_test)\n",
        "\n",
        "# Print the classification report\n",
        "report = classification_report(y_test, y_pred_test)\n",
        "print('Classification Report:\\n', report)\n"
      ],
      "metadata": {
        "colab": {
          "base_uri": "https://localhost:8080/"
        },
        "id": "54nlILoerm9x",
        "outputId": "67d89196-1e07-41be-eb13-141a6011352b"
      },
      "execution_count": null,
      "outputs": [
        {
          "output_type": "stream",
          "name": "stdout",
          "text": [
            "Testing MSE: 0.2508937790170889\n",
            "Testing MAE: 0.2508937790170889\n",
            "Classification Report:\n",
            "               precision    recall  f1-score   support\n",
            "\n",
            "           0       0.76      0.68      0.72    268388\n",
            "           1       0.74      0.81      0.77    301104\n",
            "\n",
            "    accuracy                           0.75    569492\n",
            "   macro avg       0.75      0.75      0.75    569492\n",
            "weighted avg       0.75      0.75      0.75    569492\n",
            "\n"
          ]
        }
      ]
    },
    {
      "cell_type": "code",
      "source": [
        "from sklearn.model_selection import cross_val_score\n",
        "\n",
        "scores = cross_val_score(model, X_train, y_train, cv=5, scoring='neg_mean_squared_error')\n",
        "print(\"Average MSE:\", -np.mean(scores))\n"
      ],
      "metadata": {
        "id": "LyvEAtHfrnAN"
      },
      "execution_count": null,
      "outputs": []
    },
    {
      "cell_type": "code",
      "source": [
        "from sklearn.linear_model import LogisticRegression\n",
        "from sklearn.model_selection import GridSearchCV\n",
        "\n",
        "\n",
        "# Step 1: Create the model with a suitable solver for large datasets\n",
        "model = LogisticRegression(solver='saga', max_iter=1000, random_state=42)  # Increased max_iter for convergence\n",
        "\n",
        "# Step 2: Define the parameter grid with more extensive options\n",
        "param_grid = {\n",
        "    'C': [0.001, 0.01, 0.1, 1, 10, 100, 1000],  # Extended range on a logarithmic scale\n",
        "    'penalty': ['l1', 'l2']                     # L1 and L2 regularization\n",
        "}\n",
        "\n",
        "# Step 3: Setup GridSearchCV with parallel processing\n",
        "grid_search = GridSearchCV(model, param_grid, cv=5, verbose=1, scoring='accuracy', n_jobs=-1)\n",
        "\n",
        "# Step 4: Fit GridSearchCV\n",
        "grid_search.fit(X_train, y_train)\n",
        "\n",
        "# Output the best parameters and the best model found\n",
        "print(\"Best parameters:\", grid_search.best_params_)\n",
        "print(\"Best estimator:\", grid_search.best_estimator_)\n"
      ],
      "metadata": {
        "colab": {
          "base_uri": "https://localhost:8080/"
        },
        "id": "TI8gCvHUrnCm",
        "outputId": "82d2ce8a-2a77-49f0-f971-d69dec64557b"
      },
      "execution_count": null,
      "outputs": [
        {
          "output_type": "stream",
          "name": "stdout",
          "text": [
            "Fitting 5 folds for each of 14 candidates, totalling 70 fits\n",
            "Best parameters: {'C': 0.001, 'penalty': 'l2'}\n",
            "Best estimator: LogisticRegression(C=0.001, max_iter=1000, random_state=42, solver='saga')\n"
          ]
        }
      ]
    },
    {
      "cell_type": "code",
      "source": [
        "# Optionally, use the best estimator to make predictions\n",
        "y_pred = grid_search.best_estimator_.predict(X_test)"
      ],
      "metadata": {
        "id": "4mGpgKklryX0"
      },
      "execution_count": null,
      "outputs": []
    },
    {
      "cell_type": "code",
      "source": [
        "# Evaluate the model for MSE\n",
        "mse_test = mean_squared_error(y_test, y_pred)\n",
        "print('Testing MSE:', mse_test)\n",
        "\n",
        "# Evaluate the model for MAE\n",
        "mae_test = mean_absolute_error(y_test, y_pred)\n",
        "print('Testing MAE:', mae_test)\n",
        "\n",
        "# Print the classification report\n",
        "report = classification_report(y_test, y_pred)\n",
        "print('Classification Report:\\n', report)"
      ],
      "metadata": {
        "colab": {
          "base_uri": "https://localhost:8080/"
        },
        "id": "QWzf6ErgryaS",
        "outputId": "85393f4a-364e-45e6-a85d-c240563d8d3d"
      },
      "execution_count": null,
      "outputs": [
        {
          "output_type": "stream",
          "name": "stdout",
          "text": [
            "Testing MSE: 0.25086743975332404\n",
            "Testing MAE: 0.25086743975332404\n",
            "Classification Report:\n",
            "               precision    recall  f1-score   support\n",
            "\n",
            "           0       0.76      0.68      0.72    268388\n",
            "           1       0.74      0.81      0.77    301104\n",
            "\n",
            "    accuracy                           0.75    569492\n",
            "   macro avg       0.75      0.75      0.75    569492\n",
            "weighted avg       0.75      0.75      0.75    569492\n",
            "\n"
          ]
        }
      ]
    },
    {
      "cell_type": "code",
      "source": [],
      "metadata": {
        "id": "iGv4f2OZrydF"
      },
      "execution_count": null,
      "outputs": []
    },
    {
      "cell_type": "code",
      "source": [],
      "metadata": {
        "id": "RWKZoN-qr474"
      },
      "execution_count": null,
      "outputs": []
    },
    {
      "cell_type": "code",
      "source": [],
      "metadata": {
        "id": "YAdxncGmr7Z8"
      },
      "execution_count": null,
      "outputs": []
    },
    {
      "cell_type": "code",
      "source": [],
      "metadata": {
        "id": "F0Db8eb6r7cX"
      },
      "execution_count": null,
      "outputs": []
    },
    {
      "cell_type": "code",
      "source": [],
      "metadata": {
        "id": "VKey4-2ar4-X"
      },
      "execution_count": null,
      "outputs": []
    }
  ]
}